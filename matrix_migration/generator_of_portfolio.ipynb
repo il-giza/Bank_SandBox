{
 "cells": [
  {
   "cell_type": "code",
   "execution_count": null,
   "id": "ed0e0698",
   "metadata": {},
   "outputs": [],
   "source": []
  },
  {
   "cell_type": "code",
   "execution_count": null,
   "id": "3ecc2f4f",
   "metadata": {},
   "outputs": [],
   "source": []
  },
  {
   "cell_type": "code",
   "execution_count": 17,
   "id": "e8ab0b68",
   "metadata": {},
   "outputs": [],
   "source": [
    "#import random\n",
    "import numpy as np"
   ]
  },
  {
   "cell_type": "code",
   "execution_count": 162,
   "id": "2ae72cf6",
   "metadata": {},
   "outputs": [
    {
     "data": {
      "text/plain": [
       "[1.0, 1.0, 1.0, 1.0, 1.0]"
      ]
     },
     "execution_count": 162,
     "metadata": {},
     "output_type": "execute_result"
    }
   ],
   "source": [
    "\n",
    "\n",
    "#                             0   30+   60+   90+   WOF\n",
    "dod_migration = np.array([[0.95, 0.05, 0.00, 0.00, 0.00], #  0\n",
    "                          [0.15, 0.05, 0.80, 0.00, 0.00], # 30+\n",
    "                          [0.05, 0.05, 0.05, 0.85, 0.00], # 60+\n",
    "                          [0.01, 0.02, 0.02, 0.05, 0.90], # 90+\n",
    "                          [0.00, 0.00, 0.00, 0.00, 1.00]  # WOF\n",
    "                         ])\n",
    "[i.sum() for i in dod_migration]"
   ]
  },
  {
   "cell_type": "code",
   "execution_count": 59,
   "id": "754d5f2a",
   "metadata": {},
   "outputs": [
    {
     "data": {
      "text/plain": [
       "array([[1., 0., 0., 0., 0.],\n",
       "       [0., 1., 0., 0., 0.],\n",
       "       [0., 0., 1., 0., 0.],\n",
       "       [0., 0., 0., 1., 0.],\n",
       "       [0., 0., 0., 0., 1.]])"
      ]
     },
     "execution_count": 59,
     "metadata": {},
     "output_type": "execute_result"
    }
   ],
   "source": [
    "dod_states = np.eye(5)\n",
    "dod_states"
   ]
  },
  {
   "cell_type": "code",
   "execution_count": 34,
   "id": "3f9b4ceb",
   "metadata": {
    "scrolled": true
   },
   "outputs": [
    {
     "name": "stdout",
     "output_type": "stream",
     "text": [
      "Help on built-in function choice:\n",
      "\n",
      "choice(...) method of numpy.random.mtrand.RandomState instance\n",
      "    choice(a, size=None, replace=True, p=None)\n",
      "    \n",
      "    Generates a random sample from a given 1-D array\n",
      "    \n",
      "    .. versionadded:: 1.7.0\n",
      "    \n",
      "    .. note::\n",
      "        New code should use the `~numpy.random.Generator.choice`\n",
      "        method of a `~numpy.random.Generator` instance instead;\n",
      "        please see the :ref:`random-quick-start`.\n",
      "    \n",
      "    Parameters\n",
      "    ----------\n",
      "    a : 1-D array-like or int\n",
      "        If an ndarray, a random sample is generated from its elements.\n",
      "        If an int, the random sample is generated as if it were ``np.arange(a)``\n",
      "    size : int or tuple of ints, optional\n",
      "        Output shape.  If the given shape is, e.g., ``(m, n, k)``, then\n",
      "        ``m * n * k`` samples are drawn.  Default is None, in which case a\n",
      "        single value is returned.\n",
      "    replace : boolean, optional\n",
      "        Whether the sample is with or without replacement. Default is True,\n",
      "        meaning that a value of ``a`` can be selected multiple times.\n",
      "    p : 1-D array-like, optional\n",
      "        The probabilities associated with each entry in a.\n",
      "        If not given, the sample assumes a uniform distribution over all\n",
      "        entries in ``a``.\n",
      "    \n",
      "    Returns\n",
      "    -------\n",
      "    samples : single item or ndarray\n",
      "        The generated random samples\n",
      "    \n",
      "    Raises\n",
      "    ------\n",
      "    ValueError\n",
      "        If a is an int and less than zero, if a or p are not 1-dimensional,\n",
      "        if a is an array-like of size 0, if p is not a vector of\n",
      "        probabilities, if a and p have different lengths, or if\n",
      "        replace=False and the sample size is greater than the population\n",
      "        size\n",
      "    \n",
      "    See Also\n",
      "    --------\n",
      "    randint, shuffle, permutation\n",
      "    random.Generator.choice: which should be used in new code\n",
      "    \n",
      "    Notes\n",
      "    -----\n",
      "    Setting user-specified probabilities through ``p`` uses a more general but less\n",
      "    efficient sampler than the default. The general sampler produces a different sample\n",
      "    than the optimized sampler even if each element of ``p`` is 1 / len(a).\n",
      "    \n",
      "    Sampling random rows from a 2-D array is not possible with this function,\n",
      "    but is possible with `Generator.choice` through its ``axis`` keyword.\n",
      "    \n",
      "    Examples\n",
      "    --------\n",
      "    Generate a uniform random sample from np.arange(5) of size 3:\n",
      "    \n",
      "    >>> np.random.choice(5, 3)\n",
      "    array([0, 3, 4]) # random\n",
      "    >>> #This is equivalent to np.random.randint(0,5,3)\n",
      "    \n",
      "    Generate a non-uniform random sample from np.arange(5) of size 3:\n",
      "    \n",
      "    >>> np.random.choice(5, 3, p=[0.1, 0, 0.3, 0.6, 0])\n",
      "    array([3, 3, 0]) # random\n",
      "    \n",
      "    Generate a uniform random sample from np.arange(5) of size 3 without\n",
      "    replacement:\n",
      "    \n",
      "    >>> np.random.choice(5, 3, replace=False)\n",
      "    array([3,1,0]) # random\n",
      "    >>> #This is equivalent to np.random.permutation(np.arange(5))[:3]\n",
      "    \n",
      "    Generate a non-uniform random sample from np.arange(5) of size\n",
      "    3 without replacement:\n",
      "    \n",
      "    >>> np.random.choice(5, 3, replace=False, p=[0.1, 0, 0.3, 0.6, 0])\n",
      "    array([2, 3, 0]) # random\n",
      "    \n",
      "    Any of the above can be repeated with an arbitrary array-like\n",
      "    instead of just integers. For instance:\n",
      "    \n",
      "    >>> aa_milne_arr = ['pooh', 'rabbit', 'piglet', 'Christopher']\n",
      "    >>> np.random.choice(aa_milne_arr, 5, p=[0.5, 0.1, 0.1, 0.3])\n",
      "    array(['pooh', 'pooh', 'pooh', 'Christopher', 'piglet'], # random\n",
      "          dtype='<U11')\n",
      "\n"
     ]
    }
   ],
   "source": [
    "help(np.random.choice)"
   ]
  },
  {
   "cell_type": "code",
   "execution_count": 158,
   "id": "982d2360",
   "metadata": {},
   "outputs": [],
   "source": [
    "class Contract():\n",
    "    \"\"\"Class Contract\n",
    "       issue_dt - issue of contract\n",
    "       duration - duration in months\n",
    "    \"\"\"\n",
    "\n",
    "    def __init__(self, cntr_id = 0, issue_dt = 0, duration = 0,\n",
    "                 dod_migration = None):\n",
    "        self.cntr_id = cntr_id\n",
    "        self.dod_status = np.array([1,0,0,0,0])\n",
    "        self.dod_migration = dod_migration\n",
    "        self.issue_dt = issue_dt\n",
    "        self.mob = 0\n",
    "        self.duration = duration\n",
    "        \n",
    "    def next_month(self):\n",
    "        self.mob = self.mob + 1\n",
    "        p = self.dod_migration.T.dot(self.dod_status) # array of probabilities\n",
    "        s = np.random.choice(5,1,p=p)[0] # new state\n",
    "        self.dod_status = dod_states[s]\n",
    "        "
   ]
  },
  {
   "cell_type": "code",
   "execution_count": null,
   "id": "5772f380",
   "metadata": {},
   "outputs": [],
   "source": []
  },
  {
   "cell_type": "code",
   "execution_count": 170,
   "id": "eb169635",
   "metadata": {},
   "outputs": [],
   "source": [
    "cntr = Contract(cntr_id = 1, issue_dt = 0, duration = 36, dod_migration = dod_migration)"
   ]
  },
  {
   "cell_type": "code",
   "execution_count": 171,
   "id": "ff76131d",
   "metadata": {},
   "outputs": [
    {
     "name": "stdout",
     "output_type": "stream",
     "text": [
      "1 [1. 0. 0. 0. 0.]\n",
      "2 [1. 0. 0. 0. 0.]\n",
      "3 [1. 0. 0. 0. 0.]\n",
      "4 [1. 0. 0. 0. 0.]\n",
      "5 [1. 0. 0. 0. 0.]\n",
      "6 [1. 0. 0. 0. 0.]\n",
      "7 [1. 0. 0. 0. 0.]\n",
      "8 [0. 1. 0. 0. 0.]\n",
      "9 [0. 0. 1. 0. 0.]\n",
      "10 [0. 0. 0. 1. 0.]\n",
      "11 [0. 0. 0. 0. 1.]\n",
      "12 [0. 0. 0. 0. 1.]\n",
      "13 [0. 0. 0. 0. 1.]\n",
      "14 [0. 0. 0. 0. 1.]\n",
      "15 [0. 0. 0. 0. 1.]\n",
      "16 [0. 0. 0. 0. 1.]\n",
      "17 [0. 0. 0. 0. 1.]\n",
      "18 [0. 0. 0. 0. 1.]\n",
      "19 [0. 0. 0. 0. 1.]\n",
      "20 [0. 0. 0. 0. 1.]\n",
      "21 [0. 0. 0. 0. 1.]\n",
      "22 [0. 0. 0. 0. 1.]\n",
      "23 [0. 0. 0. 0. 1.]\n",
      "24 [0. 0. 0. 0. 1.]\n",
      "25 [0. 0. 0. 0. 1.]\n",
      "26 [0. 0. 0. 0. 1.]\n",
      "27 [0. 0. 0. 0. 1.]\n",
      "28 [0. 0. 0. 0. 1.]\n",
      "29 [0. 0. 0. 0. 1.]\n",
      "30 [0. 0. 0. 0. 1.]\n",
      "31 [0. 0. 0. 0. 1.]\n",
      "32 [0. 0. 0. 0. 1.]\n",
      "33 [0. 0. 0. 0. 1.]\n",
      "34 [0. 0. 0. 0. 1.]\n",
      "35 [0. 0. 0. 0. 1.]\n",
      "36 [0. 0. 0. 0. 1.]\n"
     ]
    }
   ],
   "source": [
    "for i in range(cntr.duration):\n",
    "    cntr.next_month()\n",
    "    print(cntr.mob, cntr.dod_status)"
   ]
  },
  {
   "cell_type": "code",
   "execution_count": null,
   "id": "4ad85de9",
   "metadata": {},
   "outputs": [],
   "source": []
  },
  {
   "cell_type": "code",
   "execution_count": null,
   "id": "4f4662c4",
   "metadata": {},
   "outputs": [],
   "source": []
  }
 ],
 "metadata": {
  "kernelspec": {
   "display_name": "Python 3 (ipykernel)",
   "language": "python",
   "name": "python3"
  },
  "language_info": {
   "codemirror_mode": {
    "name": "ipython",
    "version": 3
   },
   "file_extension": ".py",
   "mimetype": "text/x-python",
   "name": "python",
   "nbconvert_exporter": "python",
   "pygments_lexer": "ipython3",
   "version": "3.11.5"
  }
 },
 "nbformat": 4,
 "nbformat_minor": 5
}
