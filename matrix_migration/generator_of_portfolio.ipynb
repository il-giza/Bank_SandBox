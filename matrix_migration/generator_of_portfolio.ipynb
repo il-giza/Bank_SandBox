{
 "cells": [
  {
   "cell_type": "code",
   "execution_count": null,
   "id": "35ee1560-c5a0-47cc-9fda-bfb62c390e11",
   "metadata": {},
   "outputs": [],
   "source": []
  },
  {
   "cell_type": "markdown",
   "id": "ae45dd66-4025-4b70-b8d8-ed2b6190eeee",
   "metadata": {},
   "source": [
    "# Загрузки"
   ]
  },
  {
   "cell_type": "code",
   "execution_count": 1,
   "id": "4200d353-e482-48b0-87e7-7cfbb00f9cfc",
   "metadata": {},
   "outputs": [
    {
     "name": "stdout",
     "output_type": "stream",
     "text": [
      "Python 3.12.4\n"
     ]
    }
   ],
   "source": [
    "!python --version"
   ]
  },
  {
   "cell_type": "code",
   "execution_count": 3,
   "id": "56401827-f0e7-469e-b084-4960668633a8",
   "metadata": {},
   "outputs": [
    {
     "data": {
      "text/html": [
       "<style>.container { width:80% !important; }</style>"
      ],
      "text/plain": [
       "<IPython.core.display.HTML object>"
      ]
     },
     "metadata": {},
     "output_type": "display_data"
    }
   ],
   "source": [
    "from IPython.display import display, HTML\n",
    "display(HTML(\"<style>.container { width:80% !important; }</style>\"))"
   ]
  },
  {
   "cell_type": "code",
   "execution_count": 5,
   "id": "0fd4fb9c-7ad4-4063-a212-d680470843a6",
   "metadata": {},
   "outputs": [],
   "source": [
    "import numpy as np\n",
    "import pandas as pd\n",
    "from sklearn import metrics\n",
    "from importlib import reload\n",
    "import matplotlib.pyplot as plt\n",
    "import DS_risk"
   ]
  },
  {
   "cell_type": "code",
   "execution_count": 6,
   "id": "7e5c4fbe-84c1-416c-9a7f-9a5f926b4a53",
   "metadata": {},
   "outputs": [],
   "source": [
    "# Для перезагрузки ранее импортированного модуля.\n",
    "DS_risk = reload(DS_risk)\n",
    "from DS_risk import World, Bank_DS, DWH_DB, Tariff, Contract, Portfolio, Model"
   ]
  },
  {
   "cell_type": "markdown",
   "id": "ba430720-36a4-4e0c-b16a-b85904af26a7",
   "metadata": {},
   "source": [
    "## Инициализации"
   ]
  },
  {
   "cell_type": "code",
   "execution_count": 10,
   "id": "6f117c20-c685-4610-a233-2419a1af0aee",
   "metadata": {},
   "outputs": [
    {
     "name": "stdout",
     "output_type": "stream",
     "text": [
      "test(AVG) -  [1.0, 1.0, 1.0, 1.0, 1.0, 1.0]\n",
      "test(0) -  [1.0, 1.0, 1.0, 1.0, 1.0, 1.0]\n",
      "test(1) -  [1.0, 1.0, 1.0, 1.0, 1.0, 1.0]\n",
      "Hello World!\n"
     ]
    }
   ],
   "source": [
    "W = World()    # Инициализация мира\n",
    "\n",
    "DWH = DWH_DB() # Пародия на базу данных"
   ]
  },
  {
   "cell_type": "code",
   "execution_count": 12,
   "id": "ac9b948b-8582-4e13-ad18-af1ccfe0aa4d",
   "metadata": {},
   "outputs": [
    {
     "name": "stdout",
     "output_type": "stream",
     "text": [
      "Hello DS!\n"
     ]
    }
   ],
   "source": [
    "DS = Bank_DS() # Активности банка"
   ]
  },
  {
   "cell_type": "code",
   "execution_count": 14,
   "id": "3975403c-264f-402d-bf3d-405e69ccdb1e",
   "metadata": {},
   "outputs": [
    {
     "name": "stdout",
     "output_type": "stream",
     "text": [
      "Score = -0.847298\n",
      "PD = 0.3\n"
     ]
    }
   ],
   "source": [
    "# Cut-off предопределенный \n",
    "print('Score = %g\\nPD = %g' % (W.Fate_cutoff_score, DS.sigmoid(W.Fate_cutoff_score)))"
   ]
  },
  {
   "cell_type": "markdown",
   "id": "1c614a6e-5bd7-47fc-b66f-5f58947687e9",
   "metadata": {},
   "source": [
    "### Создание рисковой модели"
   ]
  },
  {
   "cell_type": "code",
   "execution_count": 17,
   "id": "52130936-6e22-40b8-a694-38a8edfcf311",
   "metadata": {},
   "outputs": [],
   "source": [
    "model0 = DS.create_model()"
   ]
  },
  {
   "cell_type": "code",
   "execution_count": 19,
   "id": "eddf332f-ee41-46ab-8bc5-5d078a584a06",
   "metadata": {},
   "outputs": [],
   "source": [
    "model0.Model_Sigma = 0.7"
   ]
  },
  {
   "cell_type": "code",
   "execution_count": 21,
   "id": "1852f2ad-bb86-413a-b080-8bc2439ad48b",
   "metadata": {},
   "outputs": [
    {
     "name": "stdout",
     "output_type": "stream",
     "text": [
      "1 0 0.7\n"
     ]
    }
   ],
   "source": [
    "model0.info()"
   ]
  },
  {
   "cell_type": "code",
   "execution_count": 23,
   "id": "85950057-b4e9-44c2-9b3d-fcdb6b89779f",
   "metadata": {},
   "outputs": [],
   "source": [
    "s = W.get_god_score(5)"
   ]
  },
  {
   "cell_type": "code",
   "execution_count": 25,
   "id": "b48e8876-5b0d-442d-a5ce-32c02cc1f8b2",
   "metadata": {},
   "outputs": [
    {
     "data": {
      "text/plain": [
       "[array([1.76405235, 0.40015721, 0.97873798, 2.2408932 , 1.86755799]),\n",
       " [1, 1, 1, 1, 1]]"
      ]
     },
     "execution_count": 25,
     "metadata": {},
     "output_type": "execute_result"
    }
   ],
   "source": [
    "s"
   ]
  },
  {
   "cell_type": "code",
   "execution_count": 27,
   "id": "c5e3ecf7-b53c-4aeb-bf4e-3cdb08db1b28",
   "metadata": {},
   "outputs": [
    {
     "data": {
      "text/plain": [
       "array([1.07995783, 1.0652191 , 0.87278794, 2.16864   , 2.15497694])"
      ]
     },
     "execution_count": 27,
     "metadata": {},
     "output_type": "execute_result"
    }
   ],
   "source": [
    "m = model0.Score(s[0])\n",
    "m"
   ]
  },
  {
   "cell_type": "markdown",
   "id": "3119a9d3-6205-404c-ac2b-de238e264f0d",
   "metadata": {},
   "source": [
    "### Создание тарифных планов"
   ]
  },
  {
   "cell_type": "code",
   "execution_count": 30,
   "id": "711e2a8a-a62f-41c5-8093-cfd3ac9eb02c",
   "metadata": {},
   "outputs": [
    {
     "name": "stdout",
     "output_type": "stream",
     "text": [
      "Name: TR01 TypePlan = Annuity IR = 0.12 Duration = 24 MD = 11.9046\n",
      "Name: TR02 TypePlan = Annuity IR = 0.18 Duration = 36 MD = 16.6512\n"
     ]
    }
   ],
   "source": [
    "# Создадим тарифные планы\n",
    "tariff_01 = Tariff('TR01')\n",
    "tariff_01.info()\n",
    "\n",
    "tariff_02 = Tariff('TR02', IR = 0.18, DUR = 36)\n",
    "tariff_02.info()"
   ]
  },
  {
   "cell_type": "code",
   "execution_count": 32,
   "id": "565c5e25-9bc9-4954-bba7-8edd8a5e73f4",
   "metadata": {},
   "outputs": [
    {
     "name": "stdout",
     "output_type": "stream",
     "text": [
      " N [' Долг+проц', '    Платеж', 'Плат(долг)', 'Плат(проц)', '  Кум долг', '  Кум проц', 'Кум оплаты']\n",
      "01 [' 101000.00', '   4707.35', '   3707.35', '   1000.00', '   3707.35', '   1000.00', '   4707.35']\n",
      "02 ['  97255.58', '   4707.35', '   3744.42', '    962.93', '   7451.77', '   1962.93', '   9414.69']\n",
      "03 ['  93473.71', '   4707.35', '   3781.86', '    925.48', '  11233.63', '   2888.41', '  14122.04']\n",
      "04 ['  89654.03', '   4707.35', '   3819.68', '    887.66', '  15053.32', '   3776.07', '  18829.39']\n",
      "05 ['  85796.15', '   4707.35', '   3857.88', '    849.47', '  18911.20', '   4625.54', '  23536.74']\n",
      "06 ['  81899.69', '   4707.35', '   3896.46', '    810.89', '  22807.66', '   5436.43', '  28244.08']\n",
      "07 ['  77964.27', '   4707.35', '   3935.42', '    771.92', '  26743.08', '   6208.35', '  32951.43']\n",
      "08 ['  73989.49', '   4707.35', '   3974.78', '    732.57', '  30717.86', '   6940.92', '  37658.78']\n",
      "09 ['  69974.96', '   4707.35', '   4014.53', '    692.82', '  34732.38', '   7633.74', '  42366.13']\n",
      "10 ['  65920.29', '   4707.35', '   4054.67', '    652.68', '  38787.05', '   8286.42', '  47073.47']\n",
      "11 ['  61825.07', '   4707.35', '   4095.22', '    612.13', '  42882.27', '   8898.55', '  51780.82']\n",
      "12 ['  57688.90', '   4707.35', '   4136.17', '    571.18', '  47018.44', '   9469.72', '  56488.17']\n",
      "13 ['  53511.37', '   4707.35', '   4177.53', '    529.82', '  51195.97', '   9999.54', '  61195.51']\n",
      "14 ['  49292.07', '   4707.35', '   4219.31', '    488.04', '  55415.28', '  10487.58', '  65902.86']\n",
      "15 ['  45030.57', '   4707.35', '   4261.50', '    445.85', '  59676.78', '  10933.43', '  70610.21']\n",
      "16 ['  40726.45', '   4707.35', '   4304.12', '    403.23', '  63980.90', '  11336.66', '  75317.56']\n",
      "17 ['  36379.30', '   4707.35', '   4347.16', '    360.19', '  68328.05', '  11696.85', '  80024.90']\n",
      "18 ['  31988.67', '   4707.35', '   4390.63', '    316.72', '  72718.68', '  12013.57', '  84732.25']\n",
      "19 ['  27554.13', '   4707.35', '   4434.53', '    272.81', '  77153.21', '  12286.38', '  89439.60']\n",
      "20 ['  23075.25', '   4707.35', '   4478.88', '    228.47', '  81632.09', '  12514.85', '  94146.94']\n",
      "21 ['  18551.59', '   4707.35', '   4523.67', '    183.68', '  86155.76', '  12698.53', '  98854.29']\n",
      "22 ['  13982.68', '   4707.35', '   4568.90', '    138.44', '  90724.67', '  12836.97', ' 103561.64']\n",
      "23 ['   9368.09', '   4707.35', '   4614.59', '     92.75', '  95339.26', '  12929.73', ' 108268.99']\n",
      "24 ['   4707.35', '   4707.35', '   4660.74', '     46.61', ' 100000.00', '  12976.33', ' 112976.33']\n"
     ]
    }
   ],
   "source": [
    "tariff_01.print_plan(amount=100_000)"
   ]
  },
  {
   "cell_type": "markdown",
   "id": "778091a6-a2b6-4618-bd4c-851dbd2391c9",
   "metadata": {},
   "source": [
    "### Создание портфеля"
   ]
  },
  {
   "cell_type": "code",
   "execution_count": 35,
   "id": "38042cac-a366-44f1-b620-c06f2099d247",
   "metadata": {},
   "outputs": [
    {
     "name": "stdout",
     "output_type": "stream",
     "text": [
      "ID = 1 Возраст портеля 0 мес Кол-во контрактов 0\n",
      "ID = 2 Возраст портеля 0 мес Кол-во контрактов 0\n"
     ]
    }
   ],
   "source": [
    "# Создадим портфели\n",
    "GP1 = Portfolio(world = W, dwh = DWH)\n",
    "GP2 = Portfolio(world = W, dwh = DWH)\n",
    "GP1.info()\n",
    "GP2.info()"
   ]
  },
  {
   "cell_type": "code",
   "execution_count": 37,
   "id": "0730fa2c-cc07-47b5-be3d-e77508a5b6b3",
   "metadata": {},
   "outputs": [],
   "source": [
    "N_const = 1000 # Пусть будут постоянные ежемесячные выдачи "
   ]
  },
  {
   "cell_type": "code",
   "execution_count": 39,
   "id": "3d62411a-1aa3-4987-ac8a-7bc282fe963c",
   "metadata": {},
   "outputs": [
    {
     "name": "stdout",
     "output_type": "stream",
     "text": [
      "1000\n",
      "500\n"
     ]
    }
   ],
   "source": [
    "# Создадим план продаж на основе созданных тарифных планов\n",
    "issue_plan_gp = [(tariff_01, 100_000) for i in range(N_const//2)] + [(tariff_02, 50_000) for i in range(N_const//2)]\n",
    "issue_plan_il = [(tariff_01, 30_000) for i in range(N_const//2)]\n",
    "print(len(issue_plan_gp))\n",
    "print(len(issue_plan_il))"
   ]
  },
  {
   "cell_type": "code",
   "execution_count": 44,
   "id": "79951cc7-a71d-40bf-89cb-85a8bd06440c",
   "metadata": {},
   "outputs": [
    {
     "name": "stdout",
     "output_type": "stream",
     "text": [
      "-2.19722\n"
     ]
    }
   ],
   "source": [
    "# фиксируем Cut_off\n",
    "pd_cutoff = 0.1\n",
    "score_cutoff = DS.logit(pd_cutoff)\n",
    "print('%g' % score_cutoff)"
   ]
  },
  {
   "cell_type": "code",
   "execution_count": null,
   "id": "bcf422e3-fd0b-4880-969d-4605e1041ce2",
   "metadata": {},
   "outputs": [],
   "source": []
  },
  {
   "cell_type": "code",
   "execution_count": 46,
   "id": "279a164d-4042-4b74-b01e-582b3f9b5100",
   "metadata": {},
   "outputs": [
    {
     "name": "stdout",
     "output_type": "stream",
     "text": [
      "ID = 1 Возраст портеля 24 мес Кол-во контрактов 24000\n",
      "ID = 2 Возраст портеля 24 мес Кол-во контрактов 24000\n"
     ]
    }
   ],
   "source": [
    "for t in range(2*12):\n",
    "    GP1.next_month(issue_plan_gp, pd_cutoff = pd_cutoff, model = model0)\n",
    "    GP2.next_month(issue_plan_gp, pd_cutoff = pd_cutoff, model = model0)\n",
    "\n",
    "DWH.update_dwh_dic() # обновим справочники DWH\n",
    "GP1.info()\n",
    "GP2.info()"
   ]
  },
  {
   "cell_type": "markdown",
   "id": "4c2eb17d-7e91-44b2-99c9-ef24b96b1ee0",
   "metadata": {},
   "source": [
    "### Обратимся к базе данных"
   ]
  },
  {
   "cell_type": "code",
   "execution_count": 49,
   "id": "81376431-f0cc-409d-8e1b-6fcecfe6ec95",
   "metadata": {},
   "outputs": [
    {
     "name": "stdout",
     "output_type": "stream",
     "text": [
      "(600000, 7)\n"
     ]
    },
    {
     "data": {
      "text/html": [
       "<div>\n",
       "<style scoped>\n",
       "    .dataframe tbody tr th:only-of-type {\n",
       "        vertical-align: middle;\n",
       "    }\n",
       "\n",
       "    .dataframe tbody tr th {\n",
       "        vertical-align: top;\n",
       "    }\n",
       "\n",
       "    .dataframe thead th {\n",
       "        text-align: right;\n",
       "    }\n",
       "</style>\n",
       "<table border=\"1\" class=\"dataframe\">\n",
       "  <thead>\n",
       "    <tr style=\"text-align: right;\">\n",
       "      <th></th>\n",
       "      <th>PORTFOLIO_ID</th>\n",
       "      <th>CNTR_ID</th>\n",
       "      <th>SD</th>\n",
       "      <th>DOD_ID</th>\n",
       "      <th>MOB</th>\n",
       "      <th>WRTOFF_ID</th>\n",
       "      <th>CLOSED_ID</th>\n",
       "    </tr>\n",
       "  </thead>\n",
       "  <tbody>\n",
       "    <tr>\n",
       "      <th>599995</th>\n",
       "      <td>2</td>\n",
       "      <td>47996</td>\n",
       "      <td>24</td>\n",
       "      <td>0</td>\n",
       "      <td>0</td>\n",
       "      <td>0</td>\n",
       "      <td>0</td>\n",
       "    </tr>\n",
       "    <tr>\n",
       "      <th>599996</th>\n",
       "      <td>2</td>\n",
       "      <td>47997</td>\n",
       "      <td>24</td>\n",
       "      <td>0</td>\n",
       "      <td>0</td>\n",
       "      <td>0</td>\n",
       "      <td>0</td>\n",
       "    </tr>\n",
       "    <tr>\n",
       "      <th>599997</th>\n",
       "      <td>2</td>\n",
       "      <td>47998</td>\n",
       "      <td>24</td>\n",
       "      <td>0</td>\n",
       "      <td>0</td>\n",
       "      <td>0</td>\n",
       "      <td>0</td>\n",
       "    </tr>\n",
       "    <tr>\n",
       "      <th>599998</th>\n",
       "      <td>2</td>\n",
       "      <td>47999</td>\n",
       "      <td>24</td>\n",
       "      <td>0</td>\n",
       "      <td>0</td>\n",
       "      <td>0</td>\n",
       "      <td>0</td>\n",
       "    </tr>\n",
       "    <tr>\n",
       "      <th>599999</th>\n",
       "      <td>2</td>\n",
       "      <td>48000</td>\n",
       "      <td>24</td>\n",
       "      <td>0</td>\n",
       "      <td>0</td>\n",
       "      <td>0</td>\n",
       "      <td>0</td>\n",
       "    </tr>\n",
       "  </tbody>\n",
       "</table>\n",
       "</div>"
      ],
      "text/plain": [
       "       PORTFOLIO_ID CNTR_ID  SD DOD_ID MOB WRTOFF_ID CLOSED_ID\n",
       "599995            2   47996  24      0   0         0         0\n",
       "599996            2   47997  24      0   0         0         0\n",
       "599997            2   47998  24      0   0         0         0\n",
       "599998            2   47999  24      0   0         0         0\n",
       "599999            2   48000  24      0   0         0         0"
      ]
     },
     "execution_count": 49,
     "metadata": {},
     "output_type": "execute_result"
    }
   ],
   "source": [
    "LI = DWH.LI.reset_index(drop=True)\n",
    "print(LI.shape)\n",
    "LI.tail()"
   ]
  },
  {
   "cell_type": "code",
   "execution_count": 51,
   "id": "9fd02986-aaef-4231-abaa-10ab310dd82d",
   "metadata": {},
   "outputs": [],
   "source": [
    "ix_bad = LI['DOD_ID']>=4\n",
    "LI['BADFLAG'] = 0\n",
    "LI.loc[ix_bad,'BADFLAG'] = 1"
   ]
  },
  {
   "cell_type": "code",
   "execution_count": 53,
   "id": "81ebf15d-d22e-44b1-931a-9e5c7cc3c396",
   "metadata": {},
   "outputs": [
    {
     "data": {
      "text/plain": [
       "24"
      ]
     },
     "execution_count": 53,
     "metadata": {},
     "output_type": "execute_result"
    }
   ],
   "source": [
    "Contract.cntr_dic[13].duration"
   ]
  },
  {
   "cell_type": "code",
   "execution_count": 55,
   "id": "b56fa8a7-7ee0-420a-b957-67520c4dad8e",
   "metadata": {},
   "outputs": [
    {
     "data": {
      "image/png": "[encoded data removed]",
      "text/plain": [
       "<Figure size 1500x500 with 1 Axes>"
      ]
     },
     "metadata": {},
     "output_type": "display_data"
    }
   ],
   "source": [
    "ix = LI['CNTR_ID']==11\n",
    "plt.figure(figsize=[15,5])\n",
    "plt.plot(LI[ix].set_index('MOB')[['DOD_ID', 'WRTOFF_ID', 'CLOSED_ID']], '.-')\n",
    "plt.legend(['DOD_ID', 'WRTOFF_ID', 'CLOSED_ID'])\n",
    "plt.grid()\n",
    "plt.show()"
   ]
  },
  {
   "cell_type": "code",
   "execution_count": 57,
   "id": "d432e976-c0d6-4dad-8bc8-7c4aed79327a",
   "metadata": {},
   "outputs": [
    {
     "name": "stdout",
     "output_type": "stream",
     "text": [
      "(48000, 14)\n"
     ]
    },
    {
     "data": {
      "text/html": [
       "<div>\n",
       "<style scoped>\n",
       "    .dataframe tbody tr th:only-of-type {\n",
       "        vertical-align: middle;\n",
       "    }\n",
       "\n",
       "    .dataframe tbody tr th {\n",
       "        vertical-align: top;\n",
       "    }\n",
       "\n",
       "    .dataframe thead th {\n",
       "        text-align: right;\n",
       "    }\n",
       "</style>\n",
       "<table border=\"1\" class=\"dataframe\">\n",
       "  <thead>\n",
       "    <tr style=\"text-align: right;\">\n",
       "      <th></th>\n",
       "      <th>PORTFOLIO_ID</th>\n",
       "      <th>CNTR_ID</th>\n",
       "      <th>ISSUE_DT</th>\n",
       "      <th>WRTOFF_DT</th>\n",
       "      <th>CLOSED_DT</th>\n",
       "      <th>AMOUNT</th>\n",
       "      <th>DURATION</th>\n",
       "      <th>IR</th>\n",
       "      <th>TARIFF</th>\n",
       "      <th>MODEL_SCORE</th>\n",
       "      <th>FATED_SCORE</th>\n",
       "      <th>FATED_RESULT</th>\n",
       "      <th>MODEL_ID</th>\n",
       "      <th>NUM_IN_QUEUE</th>\n",
       "    </tr>\n",
       "  </thead>\n",
       "  <tbody>\n",
       "    <tr>\n",
       "      <th>0</th>\n",
       "      <td>1</td>\n",
       "      <td>1</td>\n",
       "      <td>1</td>\n",
       "      <td>0</td>\n",
       "      <td>0</td>\n",
       "      <td>100000</td>\n",
       "      <td>24</td>\n",
       "      <td>0.12</td>\n",
       "      <td>TR01</td>\n",
       "      <td>-2.219567</td>\n",
       "      <td>-2.060141</td>\n",
       "      <td>0</td>\n",
       "      <td>1</td>\n",
       "      <td>11</td>\n",
       "    </tr>\n",
       "    <tr>\n",
       "      <th>1</th>\n",
       "      <td>1</td>\n",
       "      <td>2</td>\n",
       "      <td>1</td>\n",
       "      <td>0</td>\n",
       "      <td>0</td>\n",
       "      <td>100000</td>\n",
       "      <td>24</td>\n",
       "      <td>0.12</td>\n",
       "      <td>TR01</td>\n",
       "      <td>-3.254088</td>\n",
       "      <td>-2.434838</td>\n",
       "      <td>0</td>\n",
       "      <td>1</td>\n",
       "      <td>140</td>\n",
       "    </tr>\n",
       "    <tr>\n",
       "      <th>2</th>\n",
       "      <td>1</td>\n",
       "      <td>3</td>\n",
       "      <td>1</td>\n",
       "      <td>0</td>\n",
       "      <td>0</td>\n",
       "      <td>100000</td>\n",
       "      <td>24</td>\n",
       "      <td>0.12</td>\n",
       "      <td>TR01</td>\n",
       "      <td>-2.401875</td>\n",
       "      <td>-1.627438</td>\n",
       "      <td>0</td>\n",
       "      <td>1</td>\n",
       "      <td>44</td>\n",
       "    </tr>\n",
       "    <tr>\n",
       "      <th>3</th>\n",
       "      <td>1</td>\n",
       "      <td>4</td>\n",
       "      <td>1</td>\n",
       "      <td>0</td>\n",
       "      <td>0</td>\n",
       "      <td>100000</td>\n",
       "      <td>24</td>\n",
       "      <td>0.12</td>\n",
       "      <td>TR01</td>\n",
       "      <td>-2.355590</td>\n",
       "      <td>-2.793085</td>\n",
       "      <td>0</td>\n",
       "      <td>1</td>\n",
       "      <td>57</td>\n",
       "    </tr>\n",
       "    <tr>\n",
       "      <th>4</th>\n",
       "      <td>1</td>\n",
       "      <td>5</td>\n",
       "      <td>1</td>\n",
       "      <td>0</td>\n",
       "      <td>0</td>\n",
       "      <td>100000</td>\n",
       "      <td>24</td>\n",
       "      <td>0.12</td>\n",
       "      <td>TR01</td>\n",
       "      <td>-2.642712</td>\n",
       "      <td>-1.044589</td>\n",
       "      <td>0</td>\n",
       "      <td>1</td>\n",
       "      <td>3</td>\n",
       "    </tr>\n",
       "    <tr>\n",
       "      <th>5</th>\n",
       "      <td>1</td>\n",
       "      <td>6</td>\n",
       "      <td>1</td>\n",
       "      <td>0</td>\n",
       "      <td>0</td>\n",
       "      <td>100000</td>\n",
       "      <td>24</td>\n",
       "      <td>0.12</td>\n",
       "      <td>TR01</td>\n",
       "      <td>-2.786514</td>\n",
       "      <td>-2.114164</td>\n",
       "      <td>0</td>\n",
       "      <td>1</td>\n",
       "      <td>84</td>\n",
       "    </tr>\n",
       "    <tr>\n",
       "      <th>6</th>\n",
       "      <td>1</td>\n",
       "      <td>7</td>\n",
       "      <td>1</td>\n",
       "      <td>0</td>\n",
       "      <td>0</td>\n",
       "      <td>100000</td>\n",
       "      <td>24</td>\n",
       "      <td>0.12</td>\n",
       "      <td>TR01</td>\n",
       "      <td>-3.124761</td>\n",
       "      <td>-1.943323</td>\n",
       "      <td>0</td>\n",
       "      <td>1</td>\n",
       "      <td>23</td>\n",
       "    </tr>\n",
       "    <tr>\n",
       "      <th>7</th>\n",
       "      <td>1</td>\n",
       "      <td>8</td>\n",
       "      <td>1</td>\n",
       "      <td>0</td>\n",
       "      <td>0</td>\n",
       "      <td>100000</td>\n",
       "      <td>24</td>\n",
       "      <td>0.12</td>\n",
       "      <td>TR01</td>\n",
       "      <td>-2.747886</td>\n",
       "      <td>-2.782534</td>\n",
       "      <td>0</td>\n",
       "      <td>1</td>\n",
       "      <td>5</td>\n",
       "    </tr>\n",
       "    <tr>\n",
       "      <th>8</th>\n",
       "      <td>1</td>\n",
       "      <td>9</td>\n",
       "      <td>1</td>\n",
       "      <td>0</td>\n",
       "      <td>0</td>\n",
       "      <td>100000</td>\n",
       "      <td>24</td>\n",
       "      <td>0.12</td>\n",
       "      <td>TR01</td>\n",
       "      <td>-2.275592</td>\n",
       "      <td>0.021863</td>\n",
       "      <td>1</td>\n",
       "      <td>1</td>\n",
       "      <td>3</td>\n",
       "    </tr>\n",
       "    <tr>\n",
       "      <th>9</th>\n",
       "      <td>1</td>\n",
       "      <td>10</td>\n",
       "      <td>1</td>\n",
       "      <td>0</td>\n",
       "      <td>0</td>\n",
       "      <td>100000</td>\n",
       "      <td>24</td>\n",
       "      <td>0.12</td>\n",
       "      <td>TR01</td>\n",
       "      <td>-2.266085</td>\n",
       "      <td>-1.306534</td>\n",
       "      <td>0</td>\n",
       "      <td>1</td>\n",
       "      <td>30</td>\n",
       "    </tr>\n",
       "  </tbody>\n",
       "</table>\n",
       "</div>"
      ],
      "text/plain": [
       "   PORTFOLIO_ID  CNTR_ID  ISSUE_DT  WRTOFF_DT  CLOSED_DT  AMOUNT  DURATION  \\\n",
       "0             1        1         1          0          0  100000        24   \n",
       "1             1        2         1          0          0  100000        24   \n",
       "2             1        3         1          0          0  100000        24   \n",
       "3             1        4         1          0          0  100000        24   \n",
       "4             1        5         1          0          0  100000        24   \n",
       "5             1        6         1          0          0  100000        24   \n",
       "6             1        7         1          0          0  100000        24   \n",
       "7             1        8         1          0          0  100000        24   \n",
       "8             1        9         1          0          0  100000        24   \n",
       "9             1       10         1          0          0  100000        24   \n",
       "\n",
       "     IR TARIFF  MODEL_SCORE  FATED_SCORE  FATED_RESULT  MODEL_ID  NUM_IN_QUEUE  \n",
       "0  0.12   TR01    -2.219567    -2.060141             0         1            11  \n",
       "1  0.12   TR01    -3.254088    -2.434838             0         1           140  \n",
       "2  0.12   TR01    -2.401875    -1.627438             0         1            44  \n",
       "3  0.12   TR01    -2.355590    -2.793085             0         1            57  \n",
       "4  0.12   TR01    -2.642712    -1.044589             0         1             3  \n",
       "5  0.12   TR01    -2.786514    -2.114164             0         1            84  \n",
       "6  0.12   TR01    -3.124761    -1.943323             0         1            23  \n",
       "7  0.12   TR01    -2.747886    -2.782534             0         1             5  \n",
       "8  0.12   TR01    -2.275592     0.021863             1         1             3  \n",
       "9  0.12   TR01    -2.266085    -1.306534             0         1            30  "
      ]
     },
     "execution_count": 57,
     "metadata": {},
     "output_type": "execute_result"
    }
   ],
   "source": [
    "DMC = DWH.DMContract\n",
    "print(DMC.shape)\n",
    "DMC.head(10)"
   ]
  },
  {
   "cell_type": "code",
   "execution_count": 59,
   "id": "80beed93-592a-4a1b-9339-e98d740effe7",
   "metadata": {},
   "outputs": [
    {
     "data": {
      "text/html": [
       "<div>\n",
       "<style scoped>\n",
       "    .dataframe tbody tr th:only-of-type {\n",
       "        vertical-align: middle;\n",
       "    }\n",
       "\n",
       "    .dataframe tbody tr th {\n",
       "        vertical-align: top;\n",
       "    }\n",
       "\n",
       "    .dataframe thead th {\n",
       "        text-align: right;\n",
       "    }\n",
       "</style>\n",
       "<table border=\"1\" class=\"dataframe\">\n",
       "  <thead>\n",
       "    <tr style=\"text-align: right;\">\n",
       "      <th></th>\n",
       "      <th>PORTFOLIO_ID</th>\n",
       "      <th>CNTR_ID</th>\n",
       "      <th>ISSUE_DT</th>\n",
       "      <th>WRTOFF_DT</th>\n",
       "      <th>CLOSED_DT</th>\n",
       "      <th>AMOUNT</th>\n",
       "      <th>DURATION</th>\n",
       "      <th>IR</th>\n",
       "      <th>TARIFF</th>\n",
       "      <th>MODEL_SCORE</th>\n",
       "      <th>FATED_SCORE</th>\n",
       "      <th>FATED_RESULT</th>\n",
       "      <th>MODEL_ID</th>\n",
       "      <th>NUM_IN_QUEUE</th>\n",
       "    </tr>\n",
       "  </thead>\n",
       "  <tbody>\n",
       "    <tr>\n",
       "      <th>47990</th>\n",
       "      <td>2</td>\n",
       "      <td>47991</td>\n",
       "      <td>24</td>\n",
       "      <td>0</td>\n",
       "      <td>0</td>\n",
       "      <td>50000</td>\n",
       "      <td>36</td>\n",
       "      <td>0.18</td>\n",
       "      <td>TR02</td>\n",
       "      <td>-2.564905</td>\n",
       "      <td>-2.895083</td>\n",
       "      <td>0</td>\n",
       "      <td>1</td>\n",
       "      <td>4</td>\n",
       "    </tr>\n",
       "    <tr>\n",
       "      <th>47991</th>\n",
       "      <td>2</td>\n",
       "      <td>47992</td>\n",
       "      <td>24</td>\n",
       "      <td>0</td>\n",
       "      <td>0</td>\n",
       "      <td>50000</td>\n",
       "      <td>36</td>\n",
       "      <td>0.18</td>\n",
       "      <td>TR02</td>\n",
       "      <td>-2.482308</td>\n",
       "      <td>-1.803461</td>\n",
       "      <td>0</td>\n",
       "      <td>1</td>\n",
       "      <td>58</td>\n",
       "    </tr>\n",
       "    <tr>\n",
       "      <th>47992</th>\n",
       "      <td>2</td>\n",
       "      <td>47993</td>\n",
       "      <td>24</td>\n",
       "      <td>0</td>\n",
       "      <td>0</td>\n",
       "      <td>50000</td>\n",
       "      <td>36</td>\n",
       "      <td>0.18</td>\n",
       "      <td>TR02</td>\n",
       "      <td>-2.379761</td>\n",
       "      <td>-1.195871</td>\n",
       "      <td>0</td>\n",
       "      <td>1</td>\n",
       "      <td>18</td>\n",
       "    </tr>\n",
       "    <tr>\n",
       "      <th>47993</th>\n",
       "      <td>2</td>\n",
       "      <td>47994</td>\n",
       "      <td>24</td>\n",
       "      <td>0</td>\n",
       "      <td>0</td>\n",
       "      <td>50000</td>\n",
       "      <td>36</td>\n",
       "      <td>0.18</td>\n",
       "      <td>TR02</td>\n",
       "      <td>-2.321104</td>\n",
       "      <td>-0.455031</td>\n",
       "      <td>1</td>\n",
       "      <td>1</td>\n",
       "      <td>17</td>\n",
       "    </tr>\n",
       "    <tr>\n",
       "      <th>47994</th>\n",
       "      <td>2</td>\n",
       "      <td>47995</td>\n",
       "      <td>24</td>\n",
       "      <td>0</td>\n",
       "      <td>0</td>\n",
       "      <td>50000</td>\n",
       "      <td>36</td>\n",
       "      <td>0.18</td>\n",
       "      <td>TR02</td>\n",
       "      <td>-2.772403</td>\n",
       "      <td>-2.004192</td>\n",
       "      <td>0</td>\n",
       "      <td>1</td>\n",
       "      <td>1</td>\n",
       "    </tr>\n",
       "    <tr>\n",
       "      <th>47995</th>\n",
       "      <td>2</td>\n",
       "      <td>47996</td>\n",
       "      <td>24</td>\n",
       "      <td>0</td>\n",
       "      <td>0</td>\n",
       "      <td>50000</td>\n",
       "      <td>36</td>\n",
       "      <td>0.18</td>\n",
       "      <td>TR02</td>\n",
       "      <td>-2.202473</td>\n",
       "      <td>-1.130388</td>\n",
       "      <td>0</td>\n",
       "      <td>1</td>\n",
       "      <td>1</td>\n",
       "    </tr>\n",
       "    <tr>\n",
       "      <th>47996</th>\n",
       "      <td>2</td>\n",
       "      <td>47997</td>\n",
       "      <td>24</td>\n",
       "      <td>0</td>\n",
       "      <td>0</td>\n",
       "      <td>50000</td>\n",
       "      <td>36</td>\n",
       "      <td>0.18</td>\n",
       "      <td>TR02</td>\n",
       "      <td>-2.667196</td>\n",
       "      <td>-2.215095</td>\n",
       "      <td>0</td>\n",
       "      <td>1</td>\n",
       "      <td>10</td>\n",
       "    </tr>\n",
       "    <tr>\n",
       "      <th>47997</th>\n",
       "      <td>2</td>\n",
       "      <td>47998</td>\n",
       "      <td>24</td>\n",
       "      <td>0</td>\n",
       "      <td>0</td>\n",
       "      <td>50000</td>\n",
       "      <td>36</td>\n",
       "      <td>0.18</td>\n",
       "      <td>TR02</td>\n",
       "      <td>-3.800669</td>\n",
       "      <td>-3.058285</td>\n",
       "      <td>0</td>\n",
       "      <td>1</td>\n",
       "      <td>50</td>\n",
       "    </tr>\n",
       "    <tr>\n",
       "      <th>47998</th>\n",
       "      <td>2</td>\n",
       "      <td>47999</td>\n",
       "      <td>24</td>\n",
       "      <td>0</td>\n",
       "      <td>0</td>\n",
       "      <td>50000</td>\n",
       "      <td>36</td>\n",
       "      <td>0.18</td>\n",
       "      <td>TR02</td>\n",
       "      <td>-2.594120</td>\n",
       "      <td>-1.557636</td>\n",
       "      <td>0</td>\n",
       "      <td>1</td>\n",
       "      <td>48</td>\n",
       "    </tr>\n",
       "    <tr>\n",
       "      <th>47999</th>\n",
       "      <td>2</td>\n",
       "      <td>48000</td>\n",
       "      <td>24</td>\n",
       "      <td>0</td>\n",
       "      <td>0</td>\n",
       "      <td>50000</td>\n",
       "      <td>36</td>\n",
       "      <td>0.18</td>\n",
       "      <td>TR02</td>\n",
       "      <td>-3.092950</td>\n",
       "      <td>-3.089326</td>\n",
       "      <td>0</td>\n",
       "      <td>1</td>\n",
       "      <td>13</td>\n",
       "    </tr>\n",
       "  </tbody>\n",
       "</table>\n",
       "</div>"
      ],
      "text/plain": [
       "       PORTFOLIO_ID  CNTR_ID  ISSUE_DT  WRTOFF_DT  CLOSED_DT  AMOUNT  \\\n",
       "47990             2    47991        24          0          0   50000   \n",
       "47991             2    47992        24          0          0   50000   \n",
       "47992             2    47993        24          0          0   50000   \n",
       "47993             2    47994        24          0          0   50000   \n",
       "47994             2    47995        24          0          0   50000   \n",
       "47995             2    47996        24          0          0   50000   \n",
       "47996             2    47997        24          0          0   50000   \n",
       "47997             2    47998        24          0          0   50000   \n",
       "47998             2    47999        24          0          0   50000   \n",
       "47999             2    48000        24          0          0   50000   \n",
       "\n",
       "       DURATION    IR TARIFF  MODEL_SCORE  FATED_SCORE  FATED_RESULT  \\\n",
       "47990        36  0.18   TR02    -2.564905    -2.895083             0   \n",
       "47991        36  0.18   TR02    -2.482308    -1.803461             0   \n",
       "47992        36  0.18   TR02    -2.379761    -1.195871             0   \n",
       "47993        36  0.18   TR02    -2.321104    -0.455031             1   \n",
       "47994        36  0.18   TR02    -2.772403    -2.004192             0   \n",
       "47995        36  0.18   TR02    -2.202473    -1.130388             0   \n",
       "47996        36  0.18   TR02    -2.667196    -2.215095             0   \n",
       "47997        36  0.18   TR02    -3.800669    -3.058285             0   \n",
       "47998        36  0.18   TR02    -2.594120    -1.557636             0   \n",
       "47999        36  0.18   TR02    -3.092950    -3.089326             0   \n",
       "\n",
       "       MODEL_ID  NUM_IN_QUEUE  \n",
       "47990         1             4  \n",
       "47991         1            58  \n",
       "47992         1            18  \n",
       "47993         1            17  \n",
       "47994         1             1  \n",
       "47995         1             1  \n",
       "47996         1            10  \n",
       "47997         1            50  \n",
       "47998         1            48  \n",
       "47999         1            13  "
      ]
     },
     "execution_count": 59,
     "metadata": {},
     "output_type": "execute_result"
    }
   ],
   "source": [
    "DMC.tail(10)"
   ]
  },
  {
   "cell_type": "code",
   "execution_count": 61,
   "id": "d7af486c-17ec-4fd1-b05d-13a50d3d8351",
   "metadata": {},
   "outputs": [
    {
     "data": {
      "image/png": "[encoded data removed]",
      "text/plain": [
       "<Figure size 640x480 with 1 Axes>"
      ]
     },
     "metadata": {},
     "output_type": "display_data"
    }
   ],
   "source": [
    "DMC.set_index('CNTR_ID')[['NUM_IN_QUEUE']].hist(bins=100)\n",
    "plt.title('Одобрение %0.2f' % (1/DMC['NUM_IN_QUEUE'].mean()))\n",
    "plt.yscale('log')\n",
    "plt.show()"
   ]
  },
  {
   "cell_type": "code",
   "execution_count": null,
   "id": "dc55cd82-2fb8-4a57-b7c4-553e0ee083f7",
   "metadata": {},
   "outputs": [],
   "source": []
  },
  {
   "cell_type": "code",
   "execution_count": 64,
   "id": "8d1dca01-d640-4031-afce-d38c81c4c728",
   "metadata": {},
   "outputs": [
    {
     "data": {
      "image/png": "[encoded data removed]",
      "text/plain": [
       "<Figure size 1500x300 with 1 Axes>"
      ]
     },
     "metadata": {},
     "output_type": "display_data"
    },
    {
     "data": {
      "image/png": "[encoded data removed]",
      "text/plain": [
       "<Figure size 1500x300 with 1 Axes>"
      ]
     },
     "metadata": {},
     "output_type": "display_data"
    }
   ],
   "source": [
    "ix = ((LI['WRTOFF_ID'] == 0)&\n",
    "      (LI['CLOSED_ID'] == 0)\n",
    "     )\n",
    "ix_bad = LI['BADFLAG'] == 1\n",
    "ix_gp1 = LI['PORTFOLIO_ID'] == 1\n",
    "ix_gp2 = LI['PORTFOLIO_ID'] == 2\n",
    "\n",
    "plt.figure(figsize=[15,3])\n",
    "\n",
    "T1 = LI[ix_gp1&ix].groupby('SD')[['CNTR_ID']].count()\n",
    "B1 = LI[ix_gp1&ix&ix_bad].groupby('SD')[['CNTR_ID']].count()\n",
    "plt.plot(T1)\n",
    "plt.plot(B1)\n",
    "\n",
    "T2 = LI[ix_gp2&ix].groupby('SD')[['CNTR_ID']].count()\n",
    "B2 = LI[ix_gp2&ix&ix_bad].groupby('SD')[['CNTR_ID']].count()\n",
    "plt.plot(T2)\n",
    "plt.plot(B2)\n",
    "\n",
    "\n",
    "plt.title('Динамика портфеля')\n",
    "plt.legend(['Кол-во контрактов в портфеле GP1', 'Кол-во дефолтов в портфеле GP1',\n",
    "            'Кол-во контрактов в портфеле GP2', 'Кол-во дефолтов в портфеле GP2',\n",
    "           ])\n",
    "plt.show()\n",
    "\n",
    "plt.figure(figsize=[15,3])\n",
    "plt.plot(B1/T1)\n",
    "plt.plot(B2/T2)\n",
    "plt.title('Уровень просрочки')\n",
    "plt.legend(['GP1', 'GP2'])\n",
    "plt.show()"
   ]
  },
  {
   "cell_type": "code",
   "execution_count": null,
   "id": "99bff557-e251-4969-a6f1-1cbd3fff08ac",
   "metadata": {},
   "outputs": [],
   "source": []
  },
  {
   "cell_type": "code",
   "execution_count": 67,
   "id": "57182c2a-76e4-4249-8ed1-2adacd24656f",
   "metadata": {},
   "outputs": [],
   "source": [
    "col_on = ['PORTFOLIO_ID', 'CNTR_ID']\n",
    "col_dmc = ['MODEL_SCORE', 'FATED_SCORE'] + col_on\n",
    "ix = LI['MOB'] == 12\n",
    "T = LI[ix_gp1&ix].merge(DMC[col_dmc], on = col_on, how = 'left')"
   ]
  },
  {
   "cell_type": "code",
   "execution_count": 69,
   "id": "3247f4ea-4e6a-43e8-939c-ea9cc5f7c38b",
   "metadata": {},
   "outputs": [],
   "source": [
    "sd_list = T['SD'].unique()\n",
    "dic_stat = {}\n",
    "for sd in sd_list:\n",
    "    ix = T['SD'] == sd\n",
    "    dic_stat[sd-12] = [DS.gini(T[ix], target = 'BADFLAG', score = 'MODEL_SCORE'),\n",
    "                       T[ix]['BADFLAG'].mean()\n",
    "                      ]   "
   ]
  },
  {
   "cell_type": "code",
   "execution_count": 71,
   "id": "22abb990-7711-4ff4-b364-21d575374ef6",
   "metadata": {},
   "outputs": [],
   "source": [
    "D_stat = pd.DataFrame.from_dict(dic_stat, orient = 'index', columns=['GINI', 'DR'])"
   ]
  },
  {
   "cell_type": "code",
   "execution_count": 73,
   "id": "c3891466-e6a5-4944-a9fc-099e91c68dbe",
   "metadata": {},
   "outputs": [
    {
     "data": {
      "image/png": "[encoded data removed]",
      "text/plain": [
       "<Figure size 1500x300 with 1 Axes>"
      ]
     },
     "metadata": {},
     "output_type": "display_data"
    }
   ],
   "source": [
    "\n",
    "plt.figure(figsize=[15,3])\n",
    "plt.plot(D_stat)\n",
    "plt.ylim([0,None])\n",
    "plt.legend(D_stat.columns)\n",
    "plt.grid()\n",
    "plt.show()"
   ]
  },
  {
   "cell_type": "code",
   "execution_count": 85,
   "id": "b9e9525f-6db5-4fee-bdeb-ed65670465b1",
   "metadata": {},
   "outputs": [
    {
     "data": {
      "text/html": [
       "<div>\n",
       "<style scoped>\n",
       "    .dataframe tbody tr th:only-of-type {\n",
       "        vertical-align: middle;\n",
       "    }\n",
       "\n",
       "    .dataframe tbody tr th {\n",
       "        vertical-align: top;\n",
       "    }\n",
       "\n",
       "    .dataframe thead th {\n",
       "        text-align: right;\n",
       "    }\n",
       "</style>\n",
       "<table border=\"1\" class=\"dataframe\">\n",
       "  <thead>\n",
       "    <tr style=\"text-align: right;\">\n",
       "      <th></th>\n",
       "      <th>FATED_SCORE</th>\n",
       "      <th>BADFLAG</th>\n",
       "    </tr>\n",
       "  </thead>\n",
       "  <tbody>\n",
       "    <tr>\n",
       "      <th>0</th>\n",
       "      <td>-2.060141</td>\n",
       "      <td>0</td>\n",
       "    </tr>\n",
       "    <tr>\n",
       "      <th>1</th>\n",
       "      <td>-2.434838</td>\n",
       "      <td>0</td>\n",
       "    </tr>\n",
       "    <tr>\n",
       "      <th>2</th>\n",
       "      <td>-1.627438</td>\n",
       "      <td>0</td>\n",
       "    </tr>\n",
       "    <tr>\n",
       "      <th>3</th>\n",
       "      <td>-2.793085</td>\n",
       "      <td>0</td>\n",
       "    </tr>\n",
       "    <tr>\n",
       "      <th>4</th>\n",
       "      <td>-1.044589</td>\n",
       "      <td>0</td>\n",
       "    </tr>\n",
       "    <tr>\n",
       "      <th>...</th>\n",
       "      <td>...</td>\n",
       "      <td>...</td>\n",
       "    </tr>\n",
       "    <tr>\n",
       "      <th>11995</th>\n",
       "      <td>-2.302774</td>\n",
       "      <td>0</td>\n",
       "    </tr>\n",
       "    <tr>\n",
       "      <th>11996</th>\n",
       "      <td>-1.539607</td>\n",
       "      <td>0</td>\n",
       "    </tr>\n",
       "    <tr>\n",
       "      <th>11997</th>\n",
       "      <td>-2.654530</td>\n",
       "      <td>0</td>\n",
       "    </tr>\n",
       "    <tr>\n",
       "      <th>11998</th>\n",
       "      <td>-2.081976</td>\n",
       "      <td>0</td>\n",
       "    </tr>\n",
       "    <tr>\n",
       "      <th>11999</th>\n",
       "      <td>-2.242058</td>\n",
       "      <td>0</td>\n",
       "    </tr>\n",
       "  </tbody>\n",
       "</table>\n",
       "<p>12000 rows × 2 columns</p>\n",
       "</div>"
      ],
      "text/plain": [
       "       FATED_SCORE  BADFLAG\n",
       "0        -2.060141        0\n",
       "1        -2.434838        0\n",
       "2        -1.627438        0\n",
       "3        -2.793085        0\n",
       "4        -1.044589        0\n",
       "...            ...      ...\n",
       "11995    -2.302774        0\n",
       "11996    -1.539607        0\n",
       "11997    -2.654530        0\n",
       "11998    -2.081976        0\n",
       "11999    -2.242058        0\n",
       "\n",
       "[12000 rows x 2 columns]"
      ]
     },
     "execution_count": 85,
     "metadata": {},
     "output_type": "execute_result"
    }
   ],
   "source": [
    "ix = T['SD'].between(12, 24)\n",
    "TT = T[ix][['FATED_SCORE', 'BADFLAG']]\n",
    "TT"
   ]
  },
  {
   "cell_type": "code",
   "execution_count": 87,
   "id": "c461512b-f094-46b5-a525-25550663f75a",
   "metadata": {},
   "outputs": [],
   "source": [
    "y_gini = 0.60"
   ]
  },
  {
   "cell_type": "code",
   "execution_count": 89,
   "id": "9163a313-6828-4b0a-86bc-6deb553acb2f",
   "metadata": {},
   "outputs": [
    {
     "name": "stdout",
     "output_type": "stream",
     "text": [
      "3 0 0.645\n"
     ]
    }
   ],
   "source": [
    "model2 = DS.create_model(gini = y_gini, tto_sample=TT)\n",
    "model2.info()"
   ]
  },
  {
   "cell_type": "code",
   "execution_count": 91,
   "id": "2699d098-55c8-43c1-86ce-83239d464368",
   "metadata": {},
   "outputs": [
    {
     "data": {
      "text/plain": [
       "      converged: True\n",
       "           flag: converged\n",
       " function_calls: 7\n",
       "     iterations: 6\n",
       "           root: 0.6496800824232175\n",
       "         method: brentq"
      ]
     },
     "execution_count": 91,
     "metadata": {},
     "output_type": "execute_result"
    }
   ],
   "source": [
    "model2.log_dic['root_scalar']"
   ]
  },
  {
   "cell_type": "code",
   "execution_count": 93,
   "id": "29aa33ef-0e48-4295-8837-ba25b819716a",
   "metadata": {},
   "outputs": [
    {
     "data": {
      "image/png": "[encoded data removed]",
      "text/plain": [
       "<Figure size 640x480 with 1 Axes>"
      ]
     },
     "metadata": {},
     "output_type": "display_data"
    }
   ],
   "source": [
    "dic_fun = model2.log_dic['dic_fun']\n",
    "x = list(dic_fun.keys())\n",
    "x.sort()\n",
    "y = [dic_fun[k] for k in x]\n",
    "plt.plot(x, y, '.-')\n",
    "plt.grid()"
   ]
  },
  {
   "cell_type": "code",
   "execution_count": 97,
   "id": "185f00c7-fedf-4089-a331-acafc69f9d53",
   "metadata": {},
   "outputs": [],
   "source": [
    "TT['MODEL_SCORE'] = model2.Score(np.array(TT['FATED_SCORE'].values))"
   ]
  },
  {
   "cell_type": "code",
   "execution_count": 99,
   "id": "d53b5be8-0429-4951-89f9-98f76d304e4f",
   "metadata": {},
   "outputs": [
    {
     "data": {
      "text/plain": [
       "(-1.2840030151825241, 1.397361248162169)"
      ]
     },
     "execution_count": 99,
     "metadata": {},
     "output_type": "execute_result"
    }
   ],
   "source": [
    "DS.calibration(model = model2, sample = TT)"
   ]
  },
  {
   "cell_type": "code",
   "execution_count": 103,
   "id": "93dbbef2-f38e-467b-8ee5-02ea45f8c650",
   "metadata": {},
   "outputs": [
    {
     "data": {
      "text/plain": [
       "{'root_scalar':       converged: True\n",
       "            flag: converged\n",
       "  function_calls: 7\n",
       "      iterations: 6\n",
       "            root: 0.6496800824232175\n",
       "          method: brentq,\n",
       " 'dic_fun': {0.0: 0.7852260869565217,\n",
       "  5.0: 0.11492601391304348,\n",
       "  1.382: 0.3719909495652175,\n",
       "  0.619: 0.6110157182608695,\n",
       "  0.657: 0.597466424347826,\n",
       "  0.65: 0.5996329669565218,\n",
       "  0.645: 0.6007647060869565},\n",
       " 'LR': LogisticRegression(random_state=42)}"
      ]
     },
     "execution_count": 103,
     "metadata": {},
     "output_type": "execute_result"
    }
   ],
   "source": [
    "model2.log_dic"
   ]
  },
  {
   "cell_type": "code",
   "execution_count": 107,
   "id": "df13bd0e-ab6f-41e7-bbb1-a9825779c52b",
   "metadata": {},
   "outputs": [
    {
     "data": {
      "text/plain": [
       "{1: <DS_risk.Model at 0x7963182c3440>,\n",
       " 2: <DS_risk.Model at 0x79631404fec0>,\n",
       " 3: <DS_risk.Model at 0x79631406a420>}"
      ]
     },
     "execution_count": 107,
     "metadata": {},
     "output_type": "execute_result"
    }
   ],
   "source": [
    "Model.model_dic[2]"
   ]
  },
  {
   "cell_type": "code",
   "execution_count": null,
   "id": "0c6061e8-8b94-4572-8783-7d2528ac5f3c",
   "metadata": {},
   "outputs": [],
   "source": []
  },
  {
   "cell_type": "code",
   "execution_count": 121,
   "id": "5dd484f5-3df2-4a92-9f6c-fd6ba3425fc9",
   "metadata": {},
   "outputs": [],
   "source": [
    "TT['PD'] = model2.PD(TT['MODEL_SCORE'])"
   ]
  },
  {
   "cell_type": "code",
   "execution_count": 123,
   "id": "8517f176-bb7e-4d01-8da4-c5b9af2cb6b2",
   "metadata": {},
   "outputs": [
    {
     "data": {
      "text/plain": [
       "(0.041650941820807905, 0.041666666666666664)"
      ]
     },
     "execution_count": 123,
     "metadata": {},
     "output_type": "execute_result"
    }
   ],
   "source": [
    "TT['PD'].mean(), TT['BADFLAG'].mean()"
   ]
  },
  {
   "cell_type": "code",
   "execution_count": 127,
   "id": "c3bca9c8-3646-4cf8-b770-cc433a4856f1",
   "metadata": {},
   "outputs": [
    {
     "data": {
      "image/png": "[encoded data removed]",
      "text/plain": [
       "<Figure size 640x480 with 1 Axes>"
      ]
     },
     "metadata": {},
     "output_type": "display_data"
    }
   ],
   "source": [
    "TT['PD'].hist(bins=100)\n",
    "plt.show()"
   ]
  },
  {
   "cell_type": "code",
   "execution_count": 129,
   "id": "6179a296-7d1a-4eef-95f6-c7adc03d5a71",
   "metadata": {},
   "outputs": [],
   "source": [
    "TT['GRADE'] =  TT['PD'].apply(lambda x: DS.grade(x))"
   ]
  },
  {
   "cell_type": "code",
   "execution_count": 131,
   "id": "fc21fdd7-5908-487e-bae0-f5e292221079",
   "metadata": {},
   "outputs": [],
   "source": [
    "TT_GR = TT.groupby('GRADE')[['BADFLAG', 'PD']].mean().rename(columns = {'BADFLAG': 'DR', 'PD': 'PD_MEAN'})"
   ]
  },
  {
   "cell_type": "code",
   "execution_count": 133,
   "id": "965f01f6-d23b-4d46-83cc-95adb40c52c3",
   "metadata": {},
   "outputs": [],
   "source": [
    "TT_GR['PD_MEDIAN'] = TT.groupby('GRADE')[['PD']].median()"
   ]
  },
  {
   "cell_type": "code",
   "execution_count": 135,
   "id": "3ca3bf5b-9995-4a2f-882f-2337ca478ed3",
   "metadata": {},
   "outputs": [],
   "source": [
    "TT_GR['CNT'] = TT.groupby('GRADE')[['BADFLAG']].count()"
   ]
  },
  {
   "cell_type": "code",
   "execution_count": 137,
   "id": "a1c31a46-c258-4ea1-adde-6c11f55d0541",
   "metadata": {},
   "outputs": [
    {
     "data": {
      "text/html": [
       "<div>\n",
       "<style scoped>\n",
       "    .dataframe tbody tr th:only-of-type {\n",
       "        vertical-align: middle;\n",
       "    }\n",
       "\n",
       "    .dataframe tbody tr th {\n",
       "        vertical-align: top;\n",
       "    }\n",
       "\n",
       "    .dataframe thead th {\n",
       "        text-align: right;\n",
       "    }\n",
       "</style>\n",
       "<table border=\"1\" class=\"dataframe\">\n",
       "  <thead>\n",
       "    <tr style=\"text-align: right;\">\n",
       "      <th></th>\n",
       "      <th>DR</th>\n",
       "      <th>PD_MEAN</th>\n",
       "      <th>PD_MEDIAN</th>\n",
       "      <th>CNT</th>\n",
       "    </tr>\n",
       "    <tr>\n",
       "      <th>GRADE</th>\n",
       "      <th></th>\n",
       "      <th></th>\n",
       "      <th></th>\n",
       "      <th></th>\n",
       "    </tr>\n",
       "  </thead>\n",
       "  <tbody>\n",
       "    <tr>\n",
       "      <th>1</th>\n",
       "      <td>0.006039</td>\n",
       "      <td>0.003292</td>\n",
       "      <td>0.003377</td>\n",
       "      <td>1656</td>\n",
       "    </tr>\n",
       "    <tr>\n",
       "      <th>2</th>\n",
       "      <td>0.006313</td>\n",
       "      <td>0.006648</td>\n",
       "      <td>0.006643</td>\n",
       "      <td>792</td>\n",
       "    </tr>\n",
       "    <tr>\n",
       "      <th>3</th>\n",
       "      <td>0.010669</td>\n",
       "      <td>0.009377</td>\n",
       "      <td>0.009390</td>\n",
       "      <td>1031</td>\n",
       "    </tr>\n",
       "    <tr>\n",
       "      <th>4</th>\n",
       "      <td>0.010244</td>\n",
       "      <td>0.013259</td>\n",
       "      <td>0.013233</td>\n",
       "      <td>1269</td>\n",
       "    </tr>\n",
       "    <tr>\n",
       "      <th>5</th>\n",
       "      <td>0.013189</td>\n",
       "      <td>0.018694</td>\n",
       "      <td>0.018595</td>\n",
       "      <td>1289</td>\n",
       "    </tr>\n",
       "    <tr>\n",
       "      <th>6</th>\n",
       "      <td>0.033489</td>\n",
       "      <td>0.026212</td>\n",
       "      <td>0.025903</td>\n",
       "      <td>1284</td>\n",
       "    </tr>\n",
       "    <tr>\n",
       "      <th>7</th>\n",
       "      <td>0.032993</td>\n",
       "      <td>0.037320</td>\n",
       "      <td>0.037131</td>\n",
       "      <td>1273</td>\n",
       "    </tr>\n",
       "    <tr>\n",
       "      <th>8</th>\n",
       "      <td>0.042190</td>\n",
       "      <td>0.052468</td>\n",
       "      <td>0.052001</td>\n",
       "      <td>1114</td>\n",
       "    </tr>\n",
       "    <tr>\n",
       "      <th>9</th>\n",
       "      <td>0.079677</td>\n",
       "      <td>0.073753</td>\n",
       "      <td>0.072790</td>\n",
       "      <td>866</td>\n",
       "    </tr>\n",
       "    <tr>\n",
       "      <th>10</th>\n",
       "      <td>0.120773</td>\n",
       "      <td>0.104991</td>\n",
       "      <td>0.104488</td>\n",
       "      <td>621</td>\n",
       "    </tr>\n",
       "    <tr>\n",
       "      <th>11</th>\n",
       "      <td>0.135638</td>\n",
       "      <td>0.147150</td>\n",
       "      <td>0.145471</td>\n",
       "      <td>376</td>\n",
       "    </tr>\n",
       "    <tr>\n",
       "      <th>12</th>\n",
       "      <td>0.231405</td>\n",
       "      <td>0.209388</td>\n",
       "      <td>0.205114</td>\n",
       "      <td>242</td>\n",
       "    </tr>\n",
       "    <tr>\n",
       "      <th>13</th>\n",
       "      <td>0.272000</td>\n",
       "      <td>0.292337</td>\n",
       "      <td>0.289315</td>\n",
       "      <td>125</td>\n",
       "    </tr>\n",
       "    <tr>\n",
       "      <th>14</th>\n",
       "      <td>0.400000</td>\n",
       "      <td>0.414477</td>\n",
       "      <td>0.409726</td>\n",
       "      <td>50</td>\n",
       "    </tr>\n",
       "    <tr>\n",
       "      <th>15</th>\n",
       "      <td>0.583333</td>\n",
       "      <td>0.546236</td>\n",
       "      <td>0.538070</td>\n",
       "      <td>12</td>\n",
       "    </tr>\n",
       "  </tbody>\n",
       "</table>\n",
       "</div>"
      ],
      "text/plain": [
       "             DR   PD_MEAN  PD_MEDIAN   CNT\n",
       "GRADE                                     \n",
       "1      0.006039  0.003292   0.003377  1656\n",
       "2      0.006313  0.006648   0.006643   792\n",
       "3      0.010669  0.009377   0.009390  1031\n",
       "4      0.010244  0.013259   0.013233  1269\n",
       "5      0.013189  0.018694   0.018595  1289\n",
       "6      0.033489  0.026212   0.025903  1284\n",
       "7      0.032993  0.037320   0.037131  1273\n",
       "8      0.042190  0.052468   0.052001  1114\n",
       "9      0.079677  0.073753   0.072790   866\n",
       "10     0.120773  0.104991   0.104488   621\n",
       "11     0.135638  0.147150   0.145471   376\n",
       "12     0.231405  0.209388   0.205114   242\n",
       "13     0.272000  0.292337   0.289315   125\n",
       "14     0.400000  0.414477   0.409726    50\n",
       "15     0.583333  0.546236   0.538070    12"
      ]
     },
     "execution_count": 137,
     "metadata": {},
     "output_type": "execute_result"
    }
   ],
   "source": [
    "TT_GR"
   ]
  },
  {
   "cell_type": "code",
   "execution_count": 139,
   "id": "477a1ccb-0eac-422b-9c4a-fe7e19e878d5",
   "metadata": {},
   "outputs": [
    {
     "data": {
      "text/plain": [
       "<matplotlib.legend.Legend at 0x7963095127b0>"
      ]
     },
     "execution_count": 139,
     "metadata": {},
     "output_type": "execute_result"
    },
    {
     "data": {
      "image/png": "[encoded data removed]",
      "text/plain": [
       "<Figure size 1500x300 with 1 Axes>"
      ]
     },
     "metadata": {},
     "output_type": "display_data"
    }
   ],
   "source": [
    "TT_GR[['DR', 'PD_MEAN', 'PD_MEDIAN']].plot(figsize=[15,3], marker = 's')\n",
    "plt.grid()\n",
    "plt.legend(['DR - уровень дефолта рейтинга',\n",
    "            'PD - среднее значение вероятности дефлота в рейтинге',\n",
    "            'PD - медианное значение вероятности дефлота в рейтинге'])"
   ]
  },
  {
   "cell_type": "code",
   "execution_count": null,
   "id": "b4ec9b6a-b3ed-4ce6-a83d-9d48d3ad5d45",
   "metadata": {},
   "outputs": [],
   "source": []
  },
  {
   "cell_type": "code",
   "execution_count": 142,
   "id": "b9769083-525a-42c5-bbf9-89aa0abc58f9",
   "metadata": {},
   "outputs": [
    {
     "data": {
      "text/plain": [
       "0.1"
      ]
     },
     "execution_count": 142,
     "metadata": {},
     "output_type": "execute_result"
    }
   ],
   "source": [
    "pd_cutoff"
   ]
  },
  {
   "cell_type": "code",
   "execution_count": 144,
   "id": "84f89dac-ad10-421c-b71f-b8745513ea7f",
   "metadata": {},
   "outputs": [
    {
     "name": "stdout",
     "output_type": "stream",
     "text": [
      "ID = 1 Возраст портеля 36 мес Кол-во контрактов 30878\n",
      "ID = 2 Возраст портеля 36 мес Кол-во контрактов 30921\n"
     ]
    }
   ],
   "source": [
    "for t in range(1*12):\n",
    "    GP1.next_month(issue_plan_gp, pd_cutoff = pd_cutoff, model = model0)\n",
    "    GP2.next_month(issue_plan_gp, pd_cutoff = pd_cutoff, model = model2)\n",
    "\n",
    "DWH.update_dwh_dic() # обновим справочники DWH\n",
    "GP1.info()\n",
    "GP2.info()"
   ]
  },
  {
   "cell_type": "code",
   "execution_count": null,
   "id": "75e5e866-e646-4936-8e96-c95637d196e3",
   "metadata": {},
   "outputs": [],
   "source": []
  },
  {
   "cell_type": "code",
   "execution_count": 147,
   "id": "4538bf23-493b-4c21-a5df-edff6b640671",
   "metadata": {},
   "outputs": [
    {
     "name": "stdout",
     "output_type": "stream",
     "text": [
      "(1271454, 7)\n"
     ]
    },
    {
     "data": {
      "text/html": [
       "<div>\n",
       "<style scoped>\n",
       "    .dataframe tbody tr th:only-of-type {\n",
       "        vertical-align: middle;\n",
       "    }\n",
       "\n",
       "    .dataframe tbody tr th {\n",
       "        vertical-align: top;\n",
       "    }\n",
       "\n",
       "    .dataframe thead th {\n",
       "        text-align: right;\n",
       "    }\n",
       "</style>\n",
       "<table border=\"1\" class=\"dataframe\">\n",
       "  <thead>\n",
       "    <tr style=\"text-align: right;\">\n",
       "      <th></th>\n",
       "      <th>PORTFOLIO_ID</th>\n",
       "      <th>CNTR_ID</th>\n",
       "      <th>SD</th>\n",
       "      <th>DOD_ID</th>\n",
       "      <th>MOB</th>\n",
       "      <th>WRTOFF_ID</th>\n",
       "      <th>CLOSED_ID</th>\n",
       "    </tr>\n",
       "  </thead>\n",
       "  <tbody>\n",
       "    <tr>\n",
       "      <th>1271449</th>\n",
       "      <td>2</td>\n",
       "      <td>71996</td>\n",
       "      <td>36</td>\n",
       "      <td>0</td>\n",
       "      <td>0</td>\n",
       "      <td>0</td>\n",
       "      <td>0</td>\n",
       "    </tr>\n",
       "    <tr>\n",
       "      <th>1271450</th>\n",
       "      <td>2</td>\n",
       "      <td>71997</td>\n",
       "      <td>36</td>\n",
       "      <td>0</td>\n",
       "      <td>0</td>\n",
       "      <td>0</td>\n",
       "      <td>0</td>\n",
       "    </tr>\n",
       "    <tr>\n",
       "      <th>1271451</th>\n",
       "      <td>2</td>\n",
       "      <td>71998</td>\n",
       "      <td>36</td>\n",
       "      <td>0</td>\n",
       "      <td>0</td>\n",
       "      <td>0</td>\n",
       "      <td>0</td>\n",
       "    </tr>\n",
       "    <tr>\n",
       "      <th>1271452</th>\n",
       "      <td>2</td>\n",
       "      <td>71999</td>\n",
       "      <td>36</td>\n",
       "      <td>0</td>\n",
       "      <td>0</td>\n",
       "      <td>0</td>\n",
       "      <td>0</td>\n",
       "    </tr>\n",
       "    <tr>\n",
       "      <th>1271453</th>\n",
       "      <td>2</td>\n",
       "      <td>72000</td>\n",
       "      <td>36</td>\n",
       "      <td>0</td>\n",
       "      <td>0</td>\n",
       "      <td>0</td>\n",
       "      <td>0</td>\n",
       "    </tr>\n",
       "  </tbody>\n",
       "</table>\n",
       "</div>"
      ],
      "text/plain": [
       "        PORTFOLIO_ID CNTR_ID  SD DOD_ID MOB WRTOFF_ID CLOSED_ID\n",
       "1271449            2   71996  36      0   0         0         0\n",
       "1271450            2   71997  36      0   0         0         0\n",
       "1271451            2   71998  36      0   0         0         0\n",
       "1271452            2   71999  36      0   0         0         0\n",
       "1271453            2   72000  36      0   0         0         0"
      ]
     },
     "execution_count": 147,
     "metadata": {},
     "output_type": "execute_result"
    }
   ],
   "source": [
    "LI = DWH.LI.reset_index(drop=True)\n",
    "print(LI.shape)\n",
    "LI.tail()"
   ]
  },
  {
   "cell_type": "code",
   "execution_count": 149,
   "id": "e986be7c-063a-4326-83ff-fd84cadec911",
   "metadata": {},
   "outputs": [],
   "source": [
    "ix_bad = LI['DOD_ID']>=4\n",
    "LI['BADFLAG'] = 0\n",
    "LI.loc[ix_bad,'BADFLAG'] = 1"
   ]
  },
  {
   "cell_type": "code",
   "execution_count": null,
   "id": "5df0ace2-8253-4412-8a63-b53bc6ede4cd",
   "metadata": {},
   "outputs": [],
   "source": []
  },
  {
   "cell_type": "code",
   "execution_count": 152,
   "id": "14d3e3da-2421-4460-bf35-8a032c435130",
   "metadata": {},
   "outputs": [
    {
     "data": {
      "image/png": "[encoded data removed]",
      "text/plain": [
       "<Figure size 1500x300 with 1 Axes>"
      ]
     },
     "metadata": {},
     "output_type": "display_data"
    },
    {
     "data": {
      "image/png": "[encoded data removed]",
      "text/plain": [
       "<Figure size 1500x300 with 1 Axes>"
      ]
     },
     "metadata": {},
     "output_type": "display_data"
    }
   ],
   "source": [
    "ix = ((LI['WRTOFF_ID'] == 0)&\n",
    "      (LI['CLOSED_ID'] == 0)\n",
    "     )\n",
    "ix_bad = LI['BADFLAG'] == 1\n",
    "ix_gp1 = LI['PORTFOLIO_ID'] == 1\n",
    "ix_gp2 = LI['PORTFOLIO_ID'] == 2\n",
    "\n",
    "plt.figure(figsize=[15,3])\n",
    "\n",
    "T1 = LI[ix_gp1&ix].groupby('SD')[['CNTR_ID']].count()\n",
    "B1 = LI[ix_gp1&ix&ix_bad].groupby('SD')[['CNTR_ID']].count()\n",
    "plt.plot(T1)\n",
    "plt.plot(B1)\n",
    "\n",
    "T2 = LI[ix_gp2&ix].groupby('SD')[['CNTR_ID']].count()\n",
    "B2 = LI[ix_gp2&ix&ix_bad].groupby('SD')[['CNTR_ID']].count()\n",
    "plt.plot(T2)\n",
    "plt.plot(B2)\n",
    "\n",
    "\n",
    "plt.title('Динамика портфеля')\n",
    "plt.legend(['Кол-во контрактов в портфеле GP1', 'Кол-во дефолтов в портфеле GP1',\n",
    "            'Кол-во контрактов в портфеле GP2', 'Кол-во дефолтов в портфеле GP2',\n",
    "           ])\n",
    "plt.show()\n",
    "\n",
    "plt.figure(figsize=[15,3])\n",
    "plt.plot(B1/T1)\n",
    "plt.plot(B2/T2)\n",
    "plt.title('Уровень просрочки')\n",
    "plt.legend(['GP1', 'GP2'])\n",
    "plt.show()"
   ]
  },
  {
   "cell_type": "code",
   "execution_count": null,
   "id": "66b7d959-e86c-4940-b8ff-83989022c21c",
   "metadata": {},
   "outputs": [],
   "source": []
  },
  {
   "cell_type": "code",
   "execution_count": null,
   "id": "bc1ea67c-5cdc-48e9-8520-ed0a21e45899",
   "metadata": {},
   "outputs": [],
   "source": []
  },
  {
   "cell_type": "code",
   "execution_count": 156,
   "id": "5fb86cf4-f6be-4dbe-a645-5b354e3594da",
   "metadata": {},
   "outputs": [
    {
     "name": "stdout",
     "output_type": "stream",
     "text": [
      "ID = 1 Возраст портеля 36 мес Кол-во контрактов 30878\n",
      "ID = 2 Возраст портеля 36 мес Кол-во контрактов 30921\n"
     ]
    }
   ],
   "source": [
    "for p in Portfolio.portfolio_dic:\n",
    "    Portfolio.portfolio_dic[p].info()"
   ]
  },
  {
   "cell_type": "code",
   "execution_count": null,
   "id": "18493c15-43b0-40c7-b369-65bcc68fc89a",
   "metadata": {},
   "outputs": [],
   "source": []
  },
  {
   "cell_type": "code",
   "execution_count": null,
   "id": "63302fe4-7e21-4ab7-9085-35f12b9b9dd1",
   "metadata": {},
   "outputs": [],
   "source": []
  },
  {
   "cell_type": "code",
   "execution_count": null,
   "id": "7ec7e56f-19b3-4441-a593-59fe3b755873",
   "metadata": {},
   "outputs": [],
   "source": []
  },
  {
   "cell_type": "markdown",
   "id": "122e2c8f-92b7-4ec0-8948-fc9f27f0fb9b",
   "metadata": {},
   "source": [
    "### Калибровка на TTC"
   ]
  },
  {
   "cell_type": "code",
   "execution_count": 162,
   "id": "d9e00046-a0f1-439b-b853-8e9c42df5ab3",
   "metadata": {},
   "outputs": [
    {
     "data": {
      "text/plain": [
       "(0.049999999999999996, 0.041666666666666664)"
      ]
     },
     "execution_count": 162,
     "metadata": {},
     "output_type": "execute_result"
    }
   ],
   "source": [
    "DR =  TT['BADFLAG'].mean()\n",
    "CT = 1.2*DR\n",
    "CT, DR"
   ]
  },
  {
   "cell_type": "code",
   "execution_count": 164,
   "id": "aa486d33-78e7-454c-8962-ca4644348a99",
   "metadata": {},
   "outputs": [
    {
     "data": {
      "text/plain": [
       "(1.2, 0.9913043478260869)"
      ]
     },
     "execution_count": 164,
     "metadata": {},
     "output_type": "execute_result"
    }
   ],
   "source": [
    "w_defl = CT/DR\n",
    "w_good = (1-CT)/(1-DR)\n",
    "w_defl, w_good"
   ]
  },
  {
   "cell_type": "code",
   "execution_count": 168,
   "id": "3541557d-2b48-4a33-90ca-4e5ed906a682",
   "metadata": {},
   "outputs": [],
   "source": [
    "from sklearn.linear_model import LogisticRegression\n",
    "clf_ct = LogisticRegression(random_state=42)"
   ]
  },
  {
   "cell_type": "code",
   "execution_count": 170,
   "id": "f65b2ebd-b44a-472f-9350-0557605b6a6e",
   "metadata": {},
   "outputs": [],
   "source": [
    "sample_weight = [w_defl if t == 1 else w_good for t in TT['BADFLAG']]"
   ]
  },
  {
   "cell_type": "code",
   "execution_count": 174,
   "id": "d7679209-0038-412c-900f-1a582909e12f",
   "metadata": {},
   "outputs": [],
   "source": [
    "x = TT[['MODEL_SCORE']]\n",
    "y = TT['BADFLAG']"
   ]
  },
  {
   "cell_type": "code",
   "execution_count": 176,
   "id": "7d1f3194-1e3c-4129-9ebe-67ba11a3b051",
   "metadata": {},
   "outputs": [
    {
     "data": {
      "text/html": [
       "<style>#sk-container-id-1 {\n",
       "  /* Definition of color scheme common for light and dark mode */\n",
       "  --sklearn-color-text: black;\n",
       "  --sklearn-color-line: gray;\n",
       "  /* Definition of color scheme for unfitted estimators */\n",
       "  --sklearn-color-unfitted-level-0: #fff5e6;\n",
       "  --sklearn-color-unfitted-level-1: #f6e4d2;\n",
       "  --sklearn-color-unfitted-level-2: #ffe0b3;\n",
       "  --sklearn-color-unfitted-level-3: chocolate;\n",
       "  /* Definition of color scheme for fitted estimators */\n",
       "  --sklearn-color-fitted-level-0: #f0f8ff;\n",
       "  --sklearn-color-fitted-level-1: #d4ebff;\n",
       "  --sklearn-color-fitted-level-2: #b3dbfd;\n",
       "  --sklearn-color-fitted-level-3: cornflowerblue;\n",
       "\n",
       "  /* Specific color for light theme */\n",
       "  --sklearn-color-text-on-default-background: var(--sg-text-color, var(--theme-code-foreground, var(--jp-content-font-color1, black)));\n",
       "  --sklearn-color-background: var(--sg-background-color, var(--theme-background, var(--jp-layout-color0, white)));\n",
       "  --sklearn-color-border-box: var(--sg-text-color, var(--theme-code-foreground, var(--jp-content-font-color1, black)));\n",
       "  --sklearn-color-icon: #696969;\n",
       "\n",
       "  @media (prefers-color-scheme: dark) {\n",
       "    /* Redefinition of color scheme for dark theme */\n",
       "    --sklearn-color-text-on-default-background: var(--sg-text-color, var(--theme-code-foreground, var(--jp-content-font-color1, white)));\n",
       "    --sklearn-color-background: var(--sg-background-color, var(--theme-background, var(--jp-layout-color0, #111)));\n",
       "    --sklearn-color-border-box: var(--sg-text-color, var(--theme-code-foreground, var(--jp-content-font-color1, white)));\n",
       "    --sklearn-color-icon: #878787;\n",
       "  }\n",
       "}\n",
       "\n",
       "#sk-container-id-1 {\n",
       "  color: var(--sklearn-color-text);\n",
       "}\n",
       "\n",
       "#sk-container-id-1 pre {\n",
       "  padding: 0;\n",
       "}\n",
       "\n",
       "#sk-container-id-1 input.sk-hidden--visually {\n",
       "  border: 0;\n",
       "  clip: rect(1px 1px 1px 1px);\n",
       "  clip: rect(1px, 1px, 1px, 1px);\n",
       "  height: 1px;\n",
       "  margin: -1px;\n",
       "  overflow: hidden;\n",
       "  padding: 0;\n",
       "  position: absolute;\n",
       "  width: 1px;\n",
       "}\n",
       "\n",
       "#sk-container-id-1 div.sk-dashed-wrapped {\n",
       "  border: 1px dashed var(--sklearn-color-line);\n",
       "  margin: 0 0.4em 0.5em 0.4em;\n",
       "  box-sizing: border-box;\n",
       "  padding-bottom: 0.4em;\n",
       "  background-color: var(--sklearn-color-background);\n",
       "}\n",
       "\n",
       "#sk-container-id-1 div.sk-container {\n",
       "  /* jupyter's `normalize.less` sets `[hidden] { display: none; }`\n",
       "     but bootstrap.min.css set `[hidden] { display: none !important; }`\n",
       "     so we also need the `!important` here to be able to override the\n",
       "     default hidden behavior on the sphinx rendered scikit-learn.org.\n",
       "     See: https://github.com/scikit-learn/scikit-learn/issues/21755 */\n",
       "  display: inline-block !important;\n",
       "  position: relative;\n",
       "}\n",
       "\n",
       "#sk-container-id-1 div.sk-text-repr-fallback {\n",
       "  display: none;\n",
       "}\n",
       "\n",
       "div.sk-parallel-item,\n",
       "div.sk-serial,\n",
       "div.sk-item {\n",
       "  /* draw centered vertical line to link estimators */\n",
       "  background-image: linear-gradient(var(--sklearn-color-text-on-default-background), var(--sklearn-color-text-on-default-background));\n",
       "  background-size: 2px 100%;\n",
       "  background-repeat: no-repeat;\n",
       "  background-position: center center;\n",
       "}\n",
       "\n",
       "/* Parallel-specific style estimator block */\n",
       "\n",
       "#sk-container-id-1 div.sk-parallel-item::after {\n",
       "  content: \"\";\n",
       "  width: 100%;\n",
       "  border-bottom: 2px solid var(--sklearn-color-text-on-default-background);\n",
       "  flex-grow: 1;\n",
       "}\n",
       "\n",
       "#sk-container-id-1 div.sk-parallel {\n",
       "  display: flex;\n",
       "  align-items: stretch;\n",
       "  justify-content: center;\n",
       "  background-color: var(--sklearn-color-background);\n",
       "  position: relative;\n",
       "}\n",
       "\n",
       "#sk-container-id-1 div.sk-parallel-item {\n",
       "  display: flex;\n",
       "  flex-direction: column;\n",
       "}\n",
       "\n",
       "#sk-container-id-1 div.sk-parallel-item:first-child::after {\n",
       "  align-self: flex-end;\n",
       "  width: 50%;\n",
       "}\n",
       "\n",
       "#sk-container-id-1 div.sk-parallel-item:last-child::after {\n",
       "  align-self: flex-start;\n",
       "  width: 50%;\n",
       "}\n",
       "\n",
       "#sk-container-id-1 div.sk-parallel-item:only-child::after {\n",
       "  width: 0;\n",
       "}\n",
       "\n",
       "/* Serial-specific style estimator block */\n",
       "\n",
       "#sk-container-id-1 div.sk-serial {\n",
       "  display: flex;\n",
       "  flex-direction: column;\n",
       "  align-items: center;\n",
       "  background-color: var(--sklearn-color-background);\n",
       "  padding-right: 1em;\n",
       "  padding-left: 1em;\n",
       "}\n",
       "\n",
       "\n",
       "/* Toggleable style: style used for estimator/Pipeline/ColumnTransformer box that is\n",
       "clickable and can be expanded/collapsed.\n",
       "- Pipeline and ColumnTransformer use this feature and define the default style\n",
       "- Estimators will overwrite some part of the style using the `sk-estimator` class\n",
       "*/\n",
       "\n",
       "/* Pipeline and ColumnTransformer style (default) */\n",
       "\n",
       "#sk-container-id-1 div.sk-toggleable {\n",
       "  /* Default theme specific background. It is overwritten whether we have a\n",
       "  specific estimator or a Pipeline/ColumnTransformer */\n",
       "  background-color: var(--sklearn-color-background);\n",
       "}\n",
       "\n",
       "/* Toggleable label */\n",
       "#sk-container-id-1 label.sk-toggleable__label {\n",
       "  cursor: pointer;\n",
       "  display: block;\n",
       "  width: 100%;\n",
       "  margin-bottom: 0;\n",
       "  padding: 0.5em;\n",
       "  box-sizing: border-box;\n",
       "  text-align: center;\n",
       "}\n",
       "\n",
       "#sk-container-id-1 label.sk-toggleable__label-arrow:before {\n",
       "  /* Arrow on the left of the label */\n",
       "  content: \"▸\";\n",
       "  float: left;\n",
       "  margin-right: 0.25em;\n",
       "  color: var(--sklearn-color-icon);\n",
       "}\n",
       "\n",
       "#sk-container-id-1 label.sk-toggleable__label-arrow:hover:before {\n",
       "  color: var(--sklearn-color-text);\n",
       "}\n",
       "\n",
       "/* Toggleable content - dropdown */\n",
       "\n",
       "#sk-container-id-1 div.sk-toggleable__content {\n",
       "  max-height: 0;\n",
       "  max-width: 0;\n",
       "  overflow: hidden;\n",
       "  text-align: left;\n",
       "  /* unfitted */\n",
       "  background-color: var(--sklearn-color-unfitted-level-0);\n",
       "}\n",
       "\n",
       "#sk-container-id-1 div.sk-toggleable__content.fitted {\n",
       "  /* fitted */\n",
       "  background-color: var(--sklearn-color-fitted-level-0);\n",
       "}\n",
       "\n",
       "#sk-container-id-1 div.sk-toggleable__content pre {\n",
       "  margin: 0.2em;\n",
       "  border-radius: 0.25em;\n",
       "  color: var(--sklearn-color-text);\n",
       "  /* unfitted */\n",
       "  background-color: var(--sklearn-color-unfitted-level-0);\n",
       "}\n",
       "\n",
       "#sk-container-id-1 div.sk-toggleable__content.fitted pre {\n",
       "  /* unfitted */\n",
       "  background-color: var(--sklearn-color-fitted-level-0);\n",
       "}\n",
       "\n",
       "#sk-container-id-1 input.sk-toggleable__control:checked~div.sk-toggleable__content {\n",
       "  /* Expand drop-down */\n",
       "  max-height: 200px;\n",
       "  max-width: 100%;\n",
       "  overflow: auto;\n",
       "}\n",
       "\n",
       "#sk-container-id-1 input.sk-toggleable__control:checked~label.sk-toggleable__label-arrow:before {\n",
       "  content: \"▾\";\n",
       "}\n",
       "\n",
       "/* Pipeline/ColumnTransformer-specific style */\n",
       "\n",
       "#sk-container-id-1 div.sk-label input.sk-toggleable__control:checked~label.sk-toggleable__label {\n",
       "  color: var(--sklearn-color-text);\n",
       "  background-color: var(--sklearn-color-unfitted-level-2);\n",
       "}\n",
       "\n",
       "#sk-container-id-1 div.sk-label.fitted input.sk-toggleable__control:checked~label.sk-toggleable__label {\n",
       "  background-color: var(--sklearn-color-fitted-level-2);\n",
       "}\n",
       "\n",
       "/* Estimator-specific style */\n",
       "\n",
       "/* Colorize estimator box */\n",
       "#sk-container-id-1 div.sk-estimator input.sk-toggleable__control:checked~label.sk-toggleable__label {\n",
       "  /* unfitted */\n",
       "  background-color: var(--sklearn-color-unfitted-level-2);\n",
       "}\n",
       "\n",
       "#sk-container-id-1 div.sk-estimator.fitted input.sk-toggleable__control:checked~label.sk-toggleable__label {\n",
       "  /* fitted */\n",
       "  background-color: var(--sklearn-color-fitted-level-2);\n",
       "}\n",
       "\n",
       "#sk-container-id-1 div.sk-label label.sk-toggleable__label,\n",
       "#sk-container-id-1 div.sk-label label {\n",
       "  /* The background is the default theme color */\n",
       "  color: var(--sklearn-color-text-on-default-background);\n",
       "}\n",
       "\n",
       "/* On hover, darken the color of the background */\n",
       "#sk-container-id-1 div.sk-label:hover label.sk-toggleable__label {\n",
       "  color: var(--sklearn-color-text);\n",
       "  background-color: var(--sklearn-color-unfitted-level-2);\n",
       "}\n",
       "\n",
       "/* Label box, darken color on hover, fitted */\n",
       "#sk-container-id-1 div.sk-label.fitted:hover label.sk-toggleable__label.fitted {\n",
       "  color: var(--sklearn-color-text);\n",
       "  background-color: var(--sklearn-color-fitted-level-2);\n",
       "}\n",
       "\n",
       "/* Estimator label */\n",
       "\n",
       "#sk-container-id-1 div.sk-label label {\n",
       "  font-family: monospace;\n",
       "  font-weight: bold;\n",
       "  display: inline-block;\n",
       "  line-height: 1.2em;\n",
       "}\n",
       "\n",
       "#sk-container-id-1 div.sk-label-container {\n",
       "  text-align: center;\n",
       "}\n",
       "\n",
       "/* Estimator-specific */\n",
       "#sk-container-id-1 div.sk-estimator {\n",
       "  font-family: monospace;\n",
       "  border: 1px dotted var(--sklearn-color-border-box);\n",
       "  border-radius: 0.25em;\n",
       "  box-sizing: border-box;\n",
       "  margin-bottom: 0.5em;\n",
       "  /* unfitted */\n",
       "  background-color: var(--sklearn-color-unfitted-level-0);\n",
       "}\n",
       "\n",
       "#sk-container-id-1 div.sk-estimator.fitted {\n",
       "  /* fitted */\n",
       "  background-color: var(--sklearn-color-fitted-level-0);\n",
       "}\n",
       "\n",
       "/* on hover */\n",
       "#sk-container-id-1 div.sk-estimator:hover {\n",
       "  /* unfitted */\n",
       "  background-color: var(--sklearn-color-unfitted-level-2);\n",
       "}\n",
       "\n",
       "#sk-container-id-1 div.sk-estimator.fitted:hover {\n",
       "  /* fitted */\n",
       "  background-color: var(--sklearn-color-fitted-level-2);\n",
       "}\n",
       "\n",
       "/* Specification for estimator info (e.g. \"i\" and \"?\") */\n",
       "\n",
       "/* Common style for \"i\" and \"?\" */\n",
       "\n",
       ".sk-estimator-doc-link,\n",
       "a:link.sk-estimator-doc-link,\n",
       "a:visited.sk-estimator-doc-link {\n",
       "  float: right;\n",
       "  font-size: smaller;\n",
       "  line-height: 1em;\n",
       "  font-family: monospace;\n",
       "  background-color: var(--sklearn-color-background);\n",
       "  border-radius: 1em;\n",
       "  height: 1em;\n",
       "  width: 1em;\n",
       "  text-decoration: none !important;\n",
       "  margin-left: 1ex;\n",
       "  /* unfitted */\n",
       "  border: var(--sklearn-color-unfitted-level-1) 1pt solid;\n",
       "  color: var(--sklearn-color-unfitted-level-1);\n",
       "}\n",
       "\n",
       ".sk-estimator-doc-link.fitted,\n",
       "a:link.sk-estimator-doc-link.fitted,\n",
       "a:visited.sk-estimator-doc-link.fitted {\n",
       "  /* fitted */\n",
       "  border: var(--sklearn-color-fitted-level-1) 1pt solid;\n",
       "  color: var(--sklearn-color-fitted-level-1);\n",
       "}\n",
       "\n",
       "/* On hover */\n",
       "div.sk-estimator:hover .sk-estimator-doc-link:hover,\n",
       ".sk-estimator-doc-link:hover,\n",
       "div.sk-label-container:hover .sk-estimator-doc-link:hover,\n",
       ".sk-estimator-doc-link:hover {\n",
       "  /* unfitted */\n",
       "  background-color: var(--sklearn-color-unfitted-level-3);\n",
       "  color: var(--sklearn-color-background);\n",
       "  text-decoration: none;\n",
       "}\n",
       "\n",
       "div.sk-estimator.fitted:hover .sk-estimator-doc-link.fitted:hover,\n",
       ".sk-estimator-doc-link.fitted:hover,\n",
       "div.sk-label-container:hover .sk-estimator-doc-link.fitted:hover,\n",
       ".sk-estimator-doc-link.fitted:hover {\n",
       "  /* fitted */\n",
       "  background-color: var(--sklearn-color-fitted-level-3);\n",
       "  color: var(--sklearn-color-background);\n",
       "  text-decoration: none;\n",
       "}\n",
       "\n",
       "/* Span, style for the box shown on hovering the info icon */\n",
       ".sk-estimator-doc-link span {\n",
       "  display: none;\n",
       "  z-index: 9999;\n",
       "  position: relative;\n",
       "  font-weight: normal;\n",
       "  right: .2ex;\n",
       "  padding: .5ex;\n",
       "  margin: .5ex;\n",
       "  width: min-content;\n",
       "  min-width: 20ex;\n",
       "  max-width: 50ex;\n",
       "  color: var(--sklearn-color-text);\n",
       "  box-shadow: 2pt 2pt 4pt #999;\n",
       "  /* unfitted */\n",
       "  background: var(--sklearn-color-unfitted-level-0);\n",
       "  border: .5pt solid var(--sklearn-color-unfitted-level-3);\n",
       "}\n",
       "\n",
       ".sk-estimator-doc-link.fitted span {\n",
       "  /* fitted */\n",
       "  background: var(--sklearn-color-fitted-level-0);\n",
       "  border: var(--sklearn-color-fitted-level-3);\n",
       "}\n",
       "\n",
       ".sk-estimator-doc-link:hover span {\n",
       "  display: block;\n",
       "}\n",
       "\n",
       "/* \"?\"-specific style due to the `<a>` HTML tag */\n",
       "\n",
       "#sk-container-id-1 a.estimator_doc_link {\n",
       "  float: right;\n",
       "  font-size: 1rem;\n",
       "  line-height: 1em;\n",
       "  font-family: monospace;\n",
       "  background-color: var(--sklearn-color-background);\n",
       "  border-radius: 1rem;\n",
       "  height: 1rem;\n",
       "  width: 1rem;\n",
       "  text-decoration: none;\n",
       "  /* unfitted */\n",
       "  color: var(--sklearn-color-unfitted-level-1);\n",
       "  border: var(--sklearn-color-unfitted-level-1) 1pt solid;\n",
       "}\n",
       "\n",
       "#sk-container-id-1 a.estimator_doc_link.fitted {\n",
       "  /* fitted */\n",
       "  border: var(--sklearn-color-fitted-level-1) 1pt solid;\n",
       "  color: var(--sklearn-color-fitted-level-1);\n",
       "}\n",
       "\n",
       "/* On hover */\n",
       "#sk-container-id-1 a.estimator_doc_link:hover {\n",
       "  /* unfitted */\n",
       "  background-color: var(--sklearn-color-unfitted-level-3);\n",
       "  color: var(--sklearn-color-background);\n",
       "  text-decoration: none;\n",
       "}\n",
       "\n",
       "#sk-container-id-1 a.estimator_doc_link.fitted:hover {\n",
       "  /* fitted */\n",
       "  background-color: var(--sklearn-color-fitted-level-3);\n",
       "}\n",
       "</style><div id=\"sk-container-id-1\" class=\"sk-top-container\"><div class=\"sk-text-repr-fallback\"><pre>LogisticRegression(random_state=42)</pre><b>In a Jupyter environment, please rerun this cell to show the HTML representation or trust the notebook. <br />On GitHub, the HTML representation is unable to render, please try loading this page with nbviewer.org.</b></div><div class=\"sk-container\" hidden><div class=\"sk-item\"><div class=\"sk-estimator fitted sk-toggleable\"><input class=\"sk-toggleable__control sk-hidden--visually\" id=\"sk-estimator-id-1\" type=\"checkbox\" checked><label for=\"sk-estimator-id-1\" class=\"sk-toggleable__label fitted sk-toggleable__label-arrow fitted\">&nbsp;&nbsp;LogisticRegression<a class=\"sk-estimator-doc-link fitted\" rel=\"noreferrer\" target=\"_blank\" href=\"https://scikit-learn.org/1.4/modules/generated/sklearn.linear_model.LogisticRegression.html\">?<span>Documentation for LogisticRegression</span></a><span class=\"sk-estimator-doc-link fitted\">i<span>Fitted</span></span></label><div class=\"sk-toggleable__content fitted\"><pre>LogisticRegression(random_state=42)</pre></div> </div></div></div></div>"
      ],
      "text/plain": [
       "LogisticRegression(random_state=42)"
      ]
     },
     "execution_count": 176,
     "metadata": {},
     "output_type": "execute_result"
    }
   ],
   "source": [
    "clf_ct.fit(X = x, y = y, sample_weight=sample_weight)"
   ]
  },
  {
   "cell_type": "code",
   "execution_count": 178,
   "id": "bc6c60d5-fcc4-41c8-922f-ff6677af71fa",
   "metadata": {},
   "outputs": [
    {
     "data": {
      "text/plain": [
       "(-1.0918104053716045, 1.3986648639122392)"
      ]
     },
     "execution_count": 178,
     "metadata": {},
     "output_type": "execute_result"
    }
   ],
   "source": [
    "A_CT = clf_ct.intercept_[0]\n",
    "B_CT = clf_ct.coef_[0][0]\n",
    "A_CT, B_CT"
   ]
  },
  {
   "cell_type": "code",
   "execution_count": null,
   "id": "b909cbbf-6c20-4179-b71a-1f83d179a247",
   "metadata": {},
   "outputs": [],
   "source": []
  },
  {
   "cell_type": "code",
   "execution_count": 180,
   "id": "1c1f0111-248e-4e52-87d4-7084b31803a0",
   "metadata": {},
   "outputs": [
    {
     "data": {
      "text/plain": [
       "(-1.0918104053716045, 1.3986648639122392)"
      ]
     },
     "execution_count": 180,
     "metadata": {},
     "output_type": "execute_result"
    }
   ],
   "source": [
    "DS.calibration(model = Model.model_dic[2], sample = TT, CT = CT)"
   ]
  },
  {
   "cell_type": "code",
   "execution_count": null,
   "id": "4f32c096-538e-476d-97fd-576e761ae9f4",
   "metadata": {},
   "outputs": [],
   "source": []
  },
  {
   "cell_type": "code",
   "execution_count": 226,
   "id": "3438de8e-3eb1-49c3-92d7-285713f572d7",
   "metadata": {},
   "outputs": [],
   "source": [
    "TT['PD_TTC'] = DS.sigmoid(A_CT + B_CT * TT['MODEL_SCORE'])"
   ]
  },
  {
   "cell_type": "code",
   "execution_count": 228,
   "id": "104316aa-d71a-4392-a63d-b6a06e66f9ce",
   "metadata": {},
   "outputs": [
    {
     "data": {
      "text/plain": [
       "(0.053323393425779415, 0.04528925619834711)"
      ]
     },
     "execution_count": 228,
     "metadata": {},
     "output_type": "execute_result"
    }
   ],
   "source": [
    "TT['PD_TTC'].mean(), TT['BADFLAG'].mean()"
   ]
  },
  {
   "cell_type": "code",
   "execution_count": 230,
   "id": "2553ee7d-e448-4ea6-8330-df5d07fdbe72",
   "metadata": {
    "scrolled": true
   },
   "outputs": [
    {
     "data": {
      "text/plain": [
       "<Axes: >"
      ]
     },
     "execution_count": 230,
     "metadata": {},
     "output_type": "execute_result"
    },
    {
     "data": {
      "image/png": "[encoded data removed]",
      "text/plain": [
       "<Figure size 640x480 with 1 Axes>"
      ]
     },
     "metadata": {},
     "output_type": "display_data"
    }
   ],
   "source": [
    "TT['PD_TTC'].hist(bins=100)"
   ]
  },
  {
   "cell_type": "code",
   "execution_count": 232,
   "id": "8f4788c6-327f-4fb6-ad98-63e3a7d89e51",
   "metadata": {},
   "outputs": [],
   "source": [
    "TT['BADFLAG_W'] = np.where(TT['BADFLAG'] == 1, w_defl, 0)"
   ]
  },
  {
   "cell_type": "code",
   "execution_count": 234,
   "id": "ed9cd137-a2af-4f9d-9c7c-ecdbcfe4daa2",
   "metadata": {},
   "outputs": [
    {
     "data": {
      "text/plain": [
       "-6.938893903907228e-18"
      ]
     },
     "execution_count": 234,
     "metadata": {},
     "output_type": "execute_result"
    }
   ],
   "source": [
    "TT['BADFLAG_W'].mean() - CT"
   ]
  },
  {
   "cell_type": "code",
   "execution_count": 236,
   "id": "e843460b-ebf8-4e62-9b7b-16c20911590d",
   "metadata": {},
   "outputs": [],
   "source": [
    "TT['SMPL_WEIGHT'] = np.where(TT['BADFLAG'] == 1, w_defl, w_good)\n",
    "TT['PD_TTC_W'] = TT['PD_TTC'] * TT['SMPL_WEIGHT']"
   ]
  },
  {
   "cell_type": "code",
   "execution_count": 238,
   "id": "745f9e40-0e7a-446b-87dd-7bb26a6d78ed",
   "metadata": {},
   "outputs": [
    {
     "data": {
      "text/plain": [
       "(12099.999999999998, 12100)"
      ]
     },
     "execution_count": 238,
     "metadata": {},
     "output_type": "execute_result"
    }
   ],
   "source": [
    "TT['SMPL_WEIGHT'].sum(), TT.shape[0]"
   ]
  },
  {
   "cell_type": "code",
   "execution_count": 240,
   "id": "01d8613c-7ee8-447b-bdf7-3ab17445a006",
   "metadata": {},
   "outputs": [],
   "source": [
    "assert abs(TT['BADFLAG_W'].mean() - CT) < 1e-4"
   ]
  },
  {
   "cell_type": "code",
   "execution_count": 242,
   "id": "feab2245-9f40-458c-8097-baadd45d9247",
   "metadata": {},
   "outputs": [],
   "source": [
    "assert abs(TT['PD_TTC_W'].mean() - CT) < 1e-4"
   ]
  },
  {
   "cell_type": "code",
   "execution_count": 244,
   "id": "d155c4d6-b7cb-40d5-859f-73839fa6756f",
   "metadata": {},
   "outputs": [
    {
     "data": {
      "text/plain": [
       "(-6.556855539519013e-06, -6.938893903907228e-18)"
      ]
     },
     "execution_count": 244,
     "metadata": {},
     "output_type": "execute_result"
    }
   ],
   "source": [
    "TT['PD_TTC_W'].mean() - CT, TT['BADFLAG_W'].mean() - CT"
   ]
  },
  {
   "cell_type": "code",
   "execution_count": null,
   "id": "7592a407-722e-403d-be2d-c227016d4cc3",
   "metadata": {},
   "outputs": [],
   "source": []
  },
  {
   "cell_type": "code",
   "execution_count": 247,
   "id": "258c3272-870c-43b7-b358-a558952f1a82",
   "metadata": {},
   "outputs": [],
   "source": [
    "TT['GRADE_TTC'] =  TT['PD_TTC'].apply(lambda x: DS.grade(x))"
   ]
  },
  {
   "cell_type": "code",
   "execution_count": 249,
   "id": "faced819-25f7-4270-a98a-f9e64488b9fa",
   "metadata": {},
   "outputs": [],
   "source": [
    "TT_GR_PIT = TT.groupby('GRADE')[['SMPL_WEIGHT', 'BADFLAG', 'BADFLAG_W', 'PD_TTC_W']].sum()"
   ]
  },
  {
   "cell_type": "code",
   "execution_count": 251,
   "id": "a8abea70-d9c8-404c-8586-798867fba55c",
   "metadata": {},
   "outputs": [],
   "source": [
    "TT_GR_PIT['DR'] = TT_GR_PIT['BADFLAG_W']/TT_GR_PIT['SMPL_WEIGHT']"
   ]
  },
  {
   "cell_type": "code",
   "execution_count": 253,
   "id": "24dfdce6-df36-4605-aae5-cadc5f6a53e0",
   "metadata": {},
   "outputs": [],
   "source": [
    "TT_GR_PIT['PD_TTC_W'] = TT_GR_PIT['PD_TTC_W']/TT_GR_PIT['SMPL_WEIGHT']"
   ]
  },
  {
   "cell_type": "code",
   "execution_count": 255,
   "id": "b4437ef9-b1b3-497c-9ea3-00ffeed3941a",
   "metadata": {},
   "outputs": [
    {
     "data": {
      "text/html": [
       "<div>\n",
       "<style scoped>\n",
       "    .dataframe tbody tr th:only-of-type {\n",
       "        vertical-align: middle;\n",
       "    }\n",
       "\n",
       "    .dataframe tbody tr th {\n",
       "        vertical-align: top;\n",
       "    }\n",
       "\n",
       "    .dataframe thead th {\n",
       "        text-align: right;\n",
       "    }\n",
       "</style>\n",
       "<table border=\"1\" class=\"dataframe\">\n",
       "  <thead>\n",
       "    <tr style=\"text-align: right;\">\n",
       "      <th></th>\n",
       "      <th>SMPL_WEIGHT</th>\n",
       "      <th>BADFLAG</th>\n",
       "      <th>BADFLAG_W</th>\n",
       "      <th>PD_TTC_W</th>\n",
       "      <th>DR</th>\n",
       "    </tr>\n",
       "    <tr>\n",
       "      <th>GRADE</th>\n",
       "      <th></th>\n",
       "      <th></th>\n",
       "      <th></th>\n",
       "      <th></th>\n",
       "      <th></th>\n",
       "    </tr>\n",
       "  </thead>\n",
       "  <tbody>\n",
       "    <tr>\n",
       "      <th>1</th>\n",
       "      <td>1491.729986</td>\n",
       "      <td>19</td>\n",
       "      <td>22.8</td>\n",
       "      <td>0.003949</td>\n",
       "      <td>0.015284</td>\n",
       "    </tr>\n",
       "    <tr>\n",
       "      <th>2</th>\n",
       "      <td>768.179986</td>\n",
       "      <td>12</td>\n",
       "      <td>14.4</td>\n",
       "      <td>0.008105</td>\n",
       "      <td>0.018746</td>\n",
       "    </tr>\n",
       "    <tr>\n",
       "      <th>3</th>\n",
       "      <td>989.540166</td>\n",
       "      <td>19</td>\n",
       "      <td>22.8</td>\n",
       "      <td>0.011449</td>\n",
       "      <td>0.023041</td>\n",
       "    </tr>\n",
       "    <tr>\n",
       "      <th>4</th>\n",
       "      <td>1187.319321</td>\n",
       "      <td>8</td>\n",
       "      <td>9.6</td>\n",
       "      <td>0.016077</td>\n",
       "      <td>0.008085</td>\n",
       "    </tr>\n",
       "    <tr>\n",
       "      <th>5</th>\n",
       "      <td>1270.579294</td>\n",
       "      <td>13</td>\n",
       "      <td>15.6</td>\n",
       "      <td>0.022703</td>\n",
       "      <td>0.012278</td>\n",
       "    </tr>\n",
       "    <tr>\n",
       "      <th>6</th>\n",
       "      <td>1339.666967</td>\n",
       "      <td>26</td>\n",
       "      <td>31.2</td>\n",
       "      <td>0.031897</td>\n",
       "      <td>0.023289</td>\n",
       "    </tr>\n",
       "    <tr>\n",
       "      <th>7</th>\n",
       "      <td>1280.197507</td>\n",
       "      <td>40</td>\n",
       "      <td>48.0</td>\n",
       "      <td>0.044533</td>\n",
       "      <td>0.037494</td>\n",
       "    </tr>\n",
       "    <tr>\n",
       "      <th>8</th>\n",
       "      <td>1137.563712</td>\n",
       "      <td>40</td>\n",
       "      <td>48.0</td>\n",
       "      <td>0.063047</td>\n",
       "      <td>0.042195</td>\n",
       "    </tr>\n",
       "    <tr>\n",
       "      <th>9</th>\n",
       "      <td>946.888920</td>\n",
       "      <td>66</td>\n",
       "      <td>79.2</td>\n",
       "      <td>0.088108</td>\n",
       "      <td>0.083642</td>\n",
       "    </tr>\n",
       "    <tr>\n",
       "      <th>10</th>\n",
       "      <td>685.507479</td>\n",
       "      <td>76</td>\n",
       "      <td>91.2</td>\n",
       "      <td>0.123780</td>\n",
       "      <td>0.133040</td>\n",
       "    </tr>\n",
       "    <tr>\n",
       "      <th>11</th>\n",
       "      <td>450.908587</td>\n",
       "      <td>72</td>\n",
       "      <td>86.4</td>\n",
       "      <td>0.171938</td>\n",
       "      <td>0.191613</td>\n",
       "    </tr>\n",
       "    <tr>\n",
       "      <th>12</th>\n",
       "      <td>322.713504</td>\n",
       "      <td>70</td>\n",
       "      <td>84.0</td>\n",
       "      <td>0.239268</td>\n",
       "      <td>0.260293</td>\n",
       "    </tr>\n",
       "    <tr>\n",
       "      <th>13</th>\n",
       "      <td>148.727147</td>\n",
       "      <td>48</td>\n",
       "      <td>57.6</td>\n",
       "      <td>0.335396</td>\n",
       "      <td>0.387286</td>\n",
       "    </tr>\n",
       "    <tr>\n",
       "      <th>14</th>\n",
       "      <td>51.734349</td>\n",
       "      <td>20</td>\n",
       "      <td>24.0</td>\n",
       "      <td>0.461966</td>\n",
       "      <td>0.463908</td>\n",
       "    </tr>\n",
       "    <tr>\n",
       "      <th>15</th>\n",
       "      <td>27.543075</td>\n",
       "      <td>18</td>\n",
       "      <td>21.6</td>\n",
       "      <td>0.615949</td>\n",
       "      <td>0.784226</td>\n",
       "    </tr>\n",
       "    <tr>\n",
       "      <th>16</th>\n",
       "      <td>1.200000</td>\n",
       "      <td>1</td>\n",
       "      <td>1.2</td>\n",
       "      <td>0.754553</td>\n",
       "      <td>1.000000</td>\n",
       "    </tr>\n",
       "  </tbody>\n",
       "</table>\n",
       "</div>"
      ],
      "text/plain": [
       "       SMPL_WEIGHT  BADFLAG  BADFLAG_W  PD_TTC_W        DR\n",
       "GRADE                                                     \n",
       "1      1491.729986       19       22.8  0.003949  0.015284\n",
       "2       768.179986       12       14.4  0.008105  0.018746\n",
       "3       989.540166       19       22.8  0.011449  0.023041\n",
       "4      1187.319321        8        9.6  0.016077  0.008085\n",
       "5      1270.579294       13       15.6  0.022703  0.012278\n",
       "6      1339.666967       26       31.2  0.031897  0.023289\n",
       "7      1280.197507       40       48.0  0.044533  0.037494\n",
       "8      1137.563712       40       48.0  0.063047  0.042195\n",
       "9       946.888920       66       79.2  0.088108  0.083642\n",
       "10      685.507479       76       91.2  0.123780  0.133040\n",
       "11      450.908587       72       86.4  0.171938  0.191613\n",
       "12      322.713504       70       84.0  0.239268  0.260293\n",
       "13      148.727147       48       57.6  0.335396  0.387286\n",
       "14       51.734349       20       24.0  0.461966  0.463908\n",
       "15       27.543075       18       21.6  0.615949  0.784226\n",
       "16        1.200000        1        1.2  0.754553  1.000000"
      ]
     },
     "execution_count": 255,
     "metadata": {},
     "output_type": "execute_result"
    }
   ],
   "source": [
    "TT_GR_PIT"
   ]
  },
  {
   "cell_type": "code",
   "execution_count": null,
   "id": "f08caa61-8b60-49ce-9754-58af32cab666",
   "metadata": {},
   "outputs": [],
   "source": []
  },
  {
   "cell_type": "code",
   "execution_count": 258,
   "id": "60091a9a-46ff-47d6-a146-4b8f6a35bc55",
   "metadata": {},
   "outputs": [],
   "source": [
    "def weighted_median(DF, col_values, col_weight, col_group = None):\n",
    "    ''' Вычисление медианы на выборке значений, которые имеют вес.\n",
    "        col_values - значения, по которым вычисляется медиана\n",
    "        col_weight - вес значения col_values\n",
    "        col_group  - поле группировки, необязательное условие\n",
    "    '''\n",
    "\n",
    "    # Если поля групировки нет, то создадим фиктивное поле.\n",
    "    if not col_group:\n",
    "        col_group = '-'\n",
    "        T = DF[[col_values, col_weight]].copy()\n",
    "        T[col_group] = col_group\n",
    "    else:\n",
    "        T = DF[[col_values, col_weight, col_group]].copy()\n",
    "\n",
    "    T.sort_values([col_group, col_values], inplace = True)\n",
    "    T['cumsum'] = T.groupby(col_group)[col_weight].transform('cumsum')\n",
    "    T['sum']    = T.groupby(col_group)[col_weight].transform('sum')\n",
    "    ix = T['cumsum'] >= T['sum']/2.0\n",
    "    T['vm'] = T[ix].groupby(col_group)[col_values].transform('min')\n",
    "\n",
    "    return T.groupby(col_group)[['vm']].min().rename(columns = {'vm': 'midian'})\n",
    "    \n"
   ]
  },
  {
   "cell_type": "code",
   "execution_count": 260,
   "id": "0e714ba4-fc25-43d3-8941-ff60b2350205",
   "metadata": {},
   "outputs": [],
   "source": [
    "TT_GR_PIT['MEDIAN_W'] = weighted_median(TT, 'PD_TTC', 'SMPL_WEIGHT', 'GRADE')"
   ]
  },
  {
   "cell_type": "code",
   "execution_count": 262,
   "id": "14b19793-5d1e-436b-acf6-4da355597acb",
   "metadata": {},
   "outputs": [
    {
     "data": {
      "text/html": [
       "<div>\n",
       "<style scoped>\n",
       "    .dataframe tbody tr th:only-of-type {\n",
       "        vertical-align: middle;\n",
       "    }\n",
       "\n",
       "    .dataframe tbody tr th {\n",
       "        vertical-align: top;\n",
       "    }\n",
       "\n",
       "    .dataframe thead th {\n",
       "        text-align: right;\n",
       "    }\n",
       "</style>\n",
       "<table border=\"1\" class=\"dataframe\">\n",
       "  <thead>\n",
       "    <tr style=\"text-align: right;\">\n",
       "      <th></th>\n",
       "      <th>SMPL_WEIGHT</th>\n",
       "      <th>BADFLAG</th>\n",
       "      <th>BADFLAG_W</th>\n",
       "      <th>PD_TTC_W</th>\n",
       "      <th>DR</th>\n",
       "      <th>MEDIAN_W</th>\n",
       "    </tr>\n",
       "    <tr>\n",
       "      <th>GRADE</th>\n",
       "      <th></th>\n",
       "      <th></th>\n",
       "      <th></th>\n",
       "      <th></th>\n",
       "      <th></th>\n",
       "      <th></th>\n",
       "    </tr>\n",
       "  </thead>\n",
       "  <tbody>\n",
       "    <tr>\n",
       "      <th>1</th>\n",
       "      <td>1491.729986</td>\n",
       "      <td>19</td>\n",
       "      <td>22.8</td>\n",
       "      <td>0.003949</td>\n",
       "      <td>0.015284</td>\n",
       "      <td>0.004015</td>\n",
       "    </tr>\n",
       "    <tr>\n",
       "      <th>2</th>\n",
       "      <td>768.179986</td>\n",
       "      <td>12</td>\n",
       "      <td>14.4</td>\n",
       "      <td>0.008105</td>\n",
       "      <td>0.018746</td>\n",
       "      <td>0.008064</td>\n",
       "    </tr>\n",
       "    <tr>\n",
       "      <th>3</th>\n",
       "      <td>989.540166</td>\n",
       "      <td>19</td>\n",
       "      <td>22.8</td>\n",
       "      <td>0.011449</td>\n",
       "      <td>0.023041</td>\n",
       "      <td>0.011407</td>\n",
       "    </tr>\n",
       "    <tr>\n",
       "      <th>4</th>\n",
       "      <td>1187.319321</td>\n",
       "      <td>8</td>\n",
       "      <td>9.6</td>\n",
       "      <td>0.016077</td>\n",
       "      <td>0.008085</td>\n",
       "      <td>0.016032</td>\n",
       "    </tr>\n",
       "    <tr>\n",
       "      <th>5</th>\n",
       "      <td>1270.579294</td>\n",
       "      <td>13</td>\n",
       "      <td>15.6</td>\n",
       "      <td>0.022703</td>\n",
       "      <td>0.012278</td>\n",
       "      <td>0.022713</td>\n",
       "    </tr>\n",
       "    <tr>\n",
       "      <th>6</th>\n",
       "      <td>1339.666967</td>\n",
       "      <td>26</td>\n",
       "      <td>31.2</td>\n",
       "      <td>0.031897</td>\n",
       "      <td>0.023289</td>\n",
       "      <td>0.031690</td>\n",
       "    </tr>\n",
       "    <tr>\n",
       "      <th>7</th>\n",
       "      <td>1280.197507</td>\n",
       "      <td>40</td>\n",
       "      <td>48.0</td>\n",
       "      <td>0.044533</td>\n",
       "      <td>0.037494</td>\n",
       "      <td>0.044138</td>\n",
       "    </tr>\n",
       "    <tr>\n",
       "      <th>8</th>\n",
       "      <td>1137.563712</td>\n",
       "      <td>40</td>\n",
       "      <td>48.0</td>\n",
       "      <td>0.063047</td>\n",
       "      <td>0.042195</td>\n",
       "      <td>0.062719</td>\n",
       "    </tr>\n",
       "    <tr>\n",
       "      <th>9</th>\n",
       "      <td>946.888920</td>\n",
       "      <td>66</td>\n",
       "      <td>79.2</td>\n",
       "      <td>0.088108</td>\n",
       "      <td>0.083642</td>\n",
       "      <td>0.087535</td>\n",
       "    </tr>\n",
       "    <tr>\n",
       "      <th>10</th>\n",
       "      <td>685.507479</td>\n",
       "      <td>76</td>\n",
       "      <td>91.2</td>\n",
       "      <td>0.123780</td>\n",
       "      <td>0.133040</td>\n",
       "      <td>0.122506</td>\n",
       "    </tr>\n",
       "    <tr>\n",
       "      <th>11</th>\n",
       "      <td>450.908587</td>\n",
       "      <td>72</td>\n",
       "      <td>86.4</td>\n",
       "      <td>0.171938</td>\n",
       "      <td>0.191613</td>\n",
       "      <td>0.170488</td>\n",
       "    </tr>\n",
       "    <tr>\n",
       "      <th>12</th>\n",
       "      <td>322.713504</td>\n",
       "      <td>70</td>\n",
       "      <td>84.0</td>\n",
       "      <td>0.239268</td>\n",
       "      <td>0.260293</td>\n",
       "      <td>0.236519</td>\n",
       "    </tr>\n",
       "    <tr>\n",
       "      <th>13</th>\n",
       "      <td>148.727147</td>\n",
       "      <td>48</td>\n",
       "      <td>57.6</td>\n",
       "      <td>0.335396</td>\n",
       "      <td>0.387286</td>\n",
       "      <td>0.331194</td>\n",
       "    </tr>\n",
       "    <tr>\n",
       "      <th>14</th>\n",
       "      <td>51.734349</td>\n",
       "      <td>20</td>\n",
       "      <td>24.0</td>\n",
       "      <td>0.461966</td>\n",
       "      <td>0.463908</td>\n",
       "      <td>0.453942</td>\n",
       "    </tr>\n",
       "    <tr>\n",
       "      <th>15</th>\n",
       "      <td>27.543075</td>\n",
       "      <td>18</td>\n",
       "      <td>21.6</td>\n",
       "      <td>0.615949</td>\n",
       "      <td>0.784226</td>\n",
       "      <td>0.585967</td>\n",
       "    </tr>\n",
       "    <tr>\n",
       "      <th>16</th>\n",
       "      <td>1.200000</td>\n",
       "      <td>1</td>\n",
       "      <td>1.2</td>\n",
       "      <td>0.754553</td>\n",
       "      <td>1.000000</td>\n",
       "      <td>0.754553</td>\n",
       "    </tr>\n",
       "  </tbody>\n",
       "</table>\n",
       "</div>"
      ],
      "text/plain": [
       "       SMPL_WEIGHT  BADFLAG  BADFLAG_W  PD_TTC_W        DR  MEDIAN_W\n",
       "GRADE                                                               \n",
       "1      1491.729986       19       22.8  0.003949  0.015284  0.004015\n",
       "2       768.179986       12       14.4  0.008105  0.018746  0.008064\n",
       "3       989.540166       19       22.8  0.011449  0.023041  0.011407\n",
       "4      1187.319321        8        9.6  0.016077  0.008085  0.016032\n",
       "5      1270.579294       13       15.6  0.022703  0.012278  0.022713\n",
       "6      1339.666967       26       31.2  0.031897  0.023289  0.031690\n",
       "7      1280.197507       40       48.0  0.044533  0.037494  0.044138\n",
       "8      1137.563712       40       48.0  0.063047  0.042195  0.062719\n",
       "9       946.888920       66       79.2  0.088108  0.083642  0.087535\n",
       "10      685.507479       76       91.2  0.123780  0.133040  0.122506\n",
       "11      450.908587       72       86.4  0.171938  0.191613  0.170488\n",
       "12      322.713504       70       84.0  0.239268  0.260293  0.236519\n",
       "13      148.727147       48       57.6  0.335396  0.387286  0.331194\n",
       "14       51.734349       20       24.0  0.461966  0.463908  0.453942\n",
       "15       27.543075       18       21.6  0.615949  0.784226  0.585967\n",
       "16        1.200000        1        1.2  0.754553  1.000000  0.754553"
      ]
     },
     "execution_count": 262,
     "metadata": {},
     "output_type": "execute_result"
    }
   ],
   "source": [
    "TT_GR_PIT"
   ]
  },
  {
   "cell_type": "code",
   "execution_count": 264,
   "id": "a0631566-f919-44c7-b919-4024488f0565",
   "metadata": {},
   "outputs": [
    {
     "data": {
      "text/plain": [
       "<matplotlib.legend.Legend at 0x776d4dbd5070>"
      ]
     },
     "execution_count": 264,
     "metadata": {},
     "output_type": "execute_result"
    },
    {
     "data": {
      "image/png": "[encoded data removed]",
      "text/plain": [
       "<Figure size 1500x300 with 1 Axes>"
      ]
     },
     "metadata": {},
     "output_type": "display_data"
    }
   ],
   "source": [
    "TT_GR_PIT[['DR', 'PD_TTC_W', 'MEDIAN_W']].plot(figsize=[15,3], marker = 's')\n",
    "plt.grid()\n",
    "plt.legend(['DR - уровень дефолта рейтинга', 'PD - среднее значение вероятности дефлота в рейтинге', 'M'])"
   ]
  },
  {
   "cell_type": "code",
   "execution_count": 266,
   "id": "9bb9c96f-f86b-47da-8d15-c8eaf33db0a0",
   "metadata": {},
   "outputs": [
    {
     "data": {
      "text/html": [
       "<div>\n",
       "<style scoped>\n",
       "    .dataframe tbody tr th:only-of-type {\n",
       "        vertical-align: middle;\n",
       "    }\n",
       "\n",
       "    .dataframe tbody tr th {\n",
       "        vertical-align: top;\n",
       "    }\n",
       "\n",
       "    .dataframe thead th {\n",
       "        text-align: right;\n",
       "    }\n",
       "</style>\n",
       "<table border=\"1\" class=\"dataframe\">\n",
       "  <thead>\n",
       "    <tr style=\"text-align: right;\">\n",
       "      <th></th>\n",
       "      <th>midian</th>\n",
       "    </tr>\n",
       "    <tr>\n",
       "      <th>-</th>\n",
       "      <th></th>\n",
       "    </tr>\n",
       "  </thead>\n",
       "  <tbody>\n",
       "    <tr>\n",
       "      <th>-</th>\n",
       "      <td>0.029187</td>\n",
       "    </tr>\n",
       "  </tbody>\n",
       "</table>\n",
       "</div>"
      ],
      "text/plain": [
       "     midian\n",
       "-          \n",
       "-  0.029187"
      ]
     },
     "execution_count": 266,
     "metadata": {},
     "output_type": "execute_result"
    }
   ],
   "source": [
    "weighted_median(TT, 'PD_TTC', 'SMPL_WEIGHT')"
   ]
  },
  {
   "cell_type": "code",
   "execution_count": 268,
   "id": "a0932ff8-1934-42bb-8072-9c187e2dbada",
   "metadata": {},
   "outputs": [
    {
     "data": {
      "text/plain": [
       "<Axes: xlabel='GRADE'>"
      ]
     },
     "execution_count": 268,
     "metadata": {},
     "output_type": "execute_result"
    },
    {
     "data": {
      "image/png": "[encoded data removed]",
      "text/plain": [
       "<Figure size 640x480 with 1 Axes>"
      ]
     },
     "metadata": {},
     "output_type": "display_data"
    }
   ],
   "source": [
    "TT_GR_PIT['SMPL_WEIGHT'].plot()"
   ]
  },
  {
   "cell_type": "code",
   "execution_count": null,
   "id": "b15a4bff-3fe5-4db2-8a58-dc23da371a66",
   "metadata": {},
   "outputs": [],
   "source": []
  }
 ],
 "metadata": {
  "kernelspec": {
   "display_name": "Python [conda env:base] *",
   "language": "python",
   "name": "conda-base-py"
  },
  "language_info": {
   "codemirror_mode": {
    "name": "ipython",
    "version": 3
   },
   "file_extension": ".py",
   "mimetype": "text/x-python",
   "name": "python",
   "nbconvert_exporter": "python",
   "pygments_lexer": "ipython3",
   "version": "3.12.4"
  }
 },
 "nbformat": 4,
 "nbformat_minor": 5
}
