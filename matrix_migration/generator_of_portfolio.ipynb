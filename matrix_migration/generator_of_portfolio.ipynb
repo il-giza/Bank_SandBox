{
 "cells": [
  {
   "cell_type": "code",
   "execution_count": null,
   "id": "ed0e0698",
   "metadata": {},
   "outputs": [],
   "source": []
  },
  {
   "cell_type": "code",
   "execution_count": null,
   "id": "3ecc2f4f",
   "metadata": {},
   "outputs": [],
   "source": []
  },
  {
   "cell_type": "code",
   "execution_count": 1,
   "id": "e8ab0b68",
   "metadata": {},
   "outputs": [],
   "source": [
    "#import random\n",
    "import numpy as np"
   ]
  },
  {
   "cell_type": "code",
   "execution_count": 2,
   "id": "2ae72cf6",
   "metadata": {},
   "outputs": [
    {
     "data": {
      "text/plain": [
       "[1.0, 1.0, 1.0, 1.0, 1.0]"
      ]
     },
     "execution_count": 2,
     "metadata": {},
     "output_type": "execute_result"
    }
   ],
   "source": [
    "\n",
    "\n",
    "#                             0   30+   60+   90+   WOF\n",
    "dod_migration = np.array([[0.95, 0.05, 0.00, 0.00, 0.00], #  0\n",
    "                          [0.15, 0.05, 0.80, 0.00, 0.00], # 30+\n",
    "                          [0.05, 0.05, 0.05, 0.85, 0.00], # 60+\n",
    "                          [0.01, 0.02, 0.02, 0.05, 0.90], # 90+\n",
    "                          [0.00, 0.00, 0.00, 0.00, 1.00]  # WOF\n",
    "                         ])\n",
    "[i.sum() for i in dod_migration]"
   ]
  },
  {
   "cell_type": "code",
   "execution_count": null,
   "id": "3f9b4ceb",
   "metadata": {
    "scrolled": true
   },
   "outputs": [],
   "source": []
  },
  {
   "cell_type": "code",
   "execution_count": 26,
   "id": "982d2360",
   "metadata": {},
   "outputs": [],
   "source": [
    "class Contract():\n",
    "    \"\"\"Class Contract\n",
    "       issue_dt - issue of contract\n",
    "       duration - duration in months\n",
    "    \"\"\"\n",
    "\n",
    "    dod_dic = {0: '0',\n",
    "               1: '30+',\n",
    "               2: '60+',\n",
    "               3: '90+',\n",
    "               4: 'WOF'\n",
    "              }\n",
    "    N = 5 # кол-во состояний\n",
    "    dod_states = np.eye(N) # матрица состояний (для удобства использована единичная матрица)\n",
    "\n",
    "    def __init__(self, cntr_id = 0, issue_dt = 0, duration = 0,\n",
    "                 dod_migration = None):\n",
    "        self.cntr_id = cntr_id\n",
    "        self.dod_id = 0        # начальное состояние контракта при выдачи: DOD = 0\n",
    "        self.dod_state = self.dod_states[0] # np.array([1,0,0,0,0]) \n",
    "        self.dod_migration = dod_migration\n",
    "        self.issue_dt = issue_dt\n",
    "        self.mob = 0\n",
    "        self.duration = duration\n",
    "        self.closed_id = 0     # 0 - контратк открыт, 1 - закрыт\n",
    "        \n",
    "    def next_month(self):\n",
    "        if self.closed_id == 1:\n",
    "            return None\n",
    "           \n",
    "        self.mob = self.mob + 1\n",
    "        p = self.dod_migration.T.dot(self.dod_state) # array of probabilities\n",
    "        self.dod_id = np.random.choice(self.N,1,p=p)[0] # new state\n",
    "        self.dod_state = self.dod_states[self.dod_id]\n",
    "\n",
    "        if self.dod_id == 0 and self.mob > self.duration:\n",
    "            self.closed_id = 1\n",
    "\n",
    "        "
   ]
  },
  {
   "cell_type": "code",
   "execution_count": null,
   "id": "d0251f75",
   "metadata": {},
   "outputs": [],
   "source": [
    "class World():\n",
    "    \"\"\"Class World - Макромир, который задает начало отсчета времени, законы макроэкономики и остальное окружение.\"\"\"\n",
    "\n",
    "    def __init__(self):\n",
    "        self.World_Time = 0"
   ]
  },
  {
   "cell_type": "code",
   "execution_count": null,
   "id": "332deaf3",
   "metadata": {},
   "outputs": [],
   "source": []
  },
  {
   "cell_type": "code",
   "execution_count": null,
   "id": "5772f380",
   "metadata": {},
   "outputs": [],
   "source": [
    "class Portfolio():\n",
    "    \"\"\"Class Portfolio - Портфель - динамика \n",
    "    \n",
    "    \"\"\"\n",
    "    def __init__(self, N = 1000, start_portfolio_dt = 0):\n",
    "        self.N = N\n",
    "        self.cntr_id = 0\n",
    "        self.start_portfolio_dt = start_portfolio_dt\n",
    "        for i in range(self.N):\n",
    "            self.cntr_id += 1\n",
    "            cntr = Contract(cntr_id = self.cntr_id, issue_dt = start_portfolio_dt, duration = 36, dod_migration = dod_migration)\n",
    "\n",
    "    def next_month(self, N = 1000):\n",
    "\n"
   ]
  },
  {
   "cell_type": "code",
   "execution_count": 41,
   "id": "eb169635",
   "metadata": {},
   "outputs": [],
   "source": [
    "cntr = Contract(cntr_id = 1, issue_dt = 0, duration = 36, dod_migration = dod_migration)"
   ]
  },
  {
   "cell_type": "code",
   "execution_count": 42,
   "id": "ff76131d",
   "metadata": {},
   "outputs": [
    {
     "name": "stdout",
     "output_type": "stream",
     "text": [
      "1 [1. 0. 0. 0. 0.] 0\n",
      "2 [1. 0. 0. 0. 0.] 0\n",
      "3 [1. 0. 0. 0. 0.] 0\n",
      "4 [1. 0. 0. 0. 0.] 0\n",
      "5 [1. 0. 0. 0. 0.] 0\n",
      "6 [1. 0. 0. 0. 0.] 0\n",
      "7 [1. 0. 0. 0. 0.] 0\n",
      "8 [1. 0. 0. 0. 0.] 0\n",
      "9 [1. 0. 0. 0. 0.] 0\n",
      "10 [1. 0. 0. 0. 0.] 0\n",
      "11 [1. 0. 0. 0. 0.] 0\n",
      "12 [1. 0. 0. 0. 0.] 0\n",
      "13 [1. 0. 0. 0. 0.] 0\n",
      "14 [1. 0. 0. 0. 0.] 0\n",
      "15 [1. 0. 0. 0. 0.] 0\n",
      "16 [1. 0. 0. 0. 0.] 0\n",
      "17 [0. 1. 0. 0. 0.] 0\n",
      "18 [1. 0. 0. 0. 0.] 0\n",
      "19 [1. 0. 0. 0. 0.] 0\n",
      "20 [1. 0. 0. 0. 0.] 0\n",
      "21 [1. 0. 0. 0. 0.] 0\n",
      "22 [1. 0. 0. 0. 0.] 0\n",
      "23 [1. 0. 0. 0. 0.] 0\n",
      "24 [1. 0. 0. 0. 0.] 0\n",
      "25 [1. 0. 0. 0. 0.] 0\n",
      "26 [1. 0. 0. 0. 0.] 0\n",
      "27 [0. 1. 0. 0. 0.] 0\n",
      "28 [0. 0. 1. 0. 0.] 0\n",
      "29 [0. 0. 0. 1. 0.] 0\n",
      "30 [0. 1. 0. 0. 0.] 0\n",
      "31 [0. 0. 1. 0. 0.] 0\n",
      "32 [0. 0. 0. 1. 0.] 0\n",
      "33 [0. 0. 0. 0. 1.] 0\n",
      "34 [0. 0. 0. 0. 1.] 0\n",
      "35 [0. 0. 0. 0. 1.] 0\n",
      "36 [0. 0. 0. 0. 1.] 0\n",
      "37 [0. 0. 0. 0. 1.] 0\n",
      "38 [0. 0. 0. 0. 1.] 0\n",
      "39 [0. 0. 0. 0. 1.] 0\n",
      "40 [0. 0. 0. 0. 1.] 0\n",
      "41 [0. 0. 0. 0. 1.] 0\n",
      "42 [0. 0. 0. 0. 1.] 0\n",
      "43 [0. 0. 0. 0. 1.] 0\n",
      "44 [0. 0. 0. 0. 1.] 0\n",
      "45 [0. 0. 0. 0. 1.] 0\n",
      "46 [0. 0. 0. 0. 1.] 0\n"
     ]
    }
   ],
   "source": [
    "for i in range(cntr.duration + 10):\n",
    "    cntr.next_month()\n",
    "    print(cntr.mob, cntr.dod_state, cntr.closed_id)"
   ]
  },
  {
   "cell_type": "code",
   "execution_count": null,
   "id": "4ad85de9",
   "metadata": {},
   "outputs": [],
   "source": []
  },
  {
   "cell_type": "code",
   "execution_count": null,
   "id": "4f4662c4",
   "metadata": {},
   "outputs": [],
   "source": []
  }
 ],
 "metadata": {
  "kernelspec": {
   "display_name": "Python 3 (ipykernel)",
   "language": "python",
   "name": "python3"
  },
  "language_info": {
   "codemirror_mode": {
    "name": "ipython",
    "version": 3
   },
   "file_extension": ".py",
   "mimetype": "text/x-python",
   "name": "python",
   "nbconvert_exporter": "python",
   "pygments_lexer": "ipython3",
   "version": "3.11.5"
  }
 },
 "nbformat": 4,
 "nbformat_minor": 5
}
