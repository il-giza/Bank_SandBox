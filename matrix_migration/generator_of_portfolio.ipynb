{
 "cells": [
  {
   "cell_type": "code",
   "execution_count": null,
   "id": "35ee1560-c5a0-47cc-9fda-bfb62c390e11",
   "metadata": {},
   "outputs": [],
   "source": []
  },
  {
   "cell_type": "code",
   "execution_count": null,
   "id": "67c73bda-841e-4858-b6a6-9191d4afc0b8",
   "metadata": {},
   "outputs": [],
   "source": []
  },
  {
   "cell_type": "code",
   "execution_count": 1,
   "id": "4200d353-e482-48b0-87e7-7cfbb00f9cfc",
   "metadata": {},
   "outputs": [
    {
     "name": "stdout",
     "output_type": "stream",
     "text": [
      "Python 3.12.4\n"
     ]
    }
   ],
   "source": [
    "!python --version"
   ]
  },
  {
   "cell_type": "code",
   "execution_count": 3,
   "id": "56401827-f0e7-469e-b084-4960668633a8",
   "metadata": {},
   "outputs": [
    {
     "data": {
      "text/html": [
       "<style>.container { width:100% !important; }</style>"
      ],
      "text/plain": [
       "<IPython.core.display.HTML object>"
      ]
     },
     "metadata": {},
     "output_type": "display_data"
    }
   ],
   "source": [
    "from IPython.display import display, HTML\n",
    "display(HTML(\"<style>.container { width:100% !important; }</style>\"))"
   ]
  },
  {
   "cell_type": "code",
   "execution_count": 389,
   "id": "0fd4fb9c-7ad4-4063-a212-d680470843a6",
   "metadata": {},
   "outputs": [],
   "source": [
    "import numpy as np\n",
    "import pandas as pd\n",
    "from sklearn import metrics\n",
    "from importlib import reload\n",
    "import matplotlib.pyplot as plt\n",
    "import DS_risk\n",
    "\n"
   ]
  },
  {
   "cell_type": "code",
   "execution_count": null,
   "id": "7e5c4fbe-84c1-416c-9a7f-9a5f926b4a53",
   "metadata": {},
   "outputs": [],
   "source": [
    "# Для перезагрузки ранее импортированного модуля.\n",
    "DS_risk = reload(DS_risk)\n",
    "from DS_risk import World, Bank_DS, DWH_DB, Tariff, Contract, Portfolio, Model"
   ]
  },
  {
   "cell_type": "code",
   "execution_count": 519,
   "id": "6f117c20-c685-4610-a233-2419a1af0aee",
   "metadata": {},
   "outputs": [
    {
     "name": "stdout",
     "output_type": "stream",
     "text": [
      "test(AVG) -  [1.0, 1.0, 1.0, 1.0, 1.0, 1.0]\n",
      "test(0) -  [1.0, 1.0, 1.0, 1.0, 1.0, 1.0]\n",
      "test(1) -  [1.0, 1.0, 1.0, 1.0, 1.0, 1.0]\n",
      "Hello DS!\n"
     ]
    }
   ],
   "source": [
    "W = World()    # Инициализация мира\n",
    "DS = Bank_DS() # Активности банка\n",
    "DWH = DWH_DB() # Пародия на базу данных"
   ]
  },
  {
   "cell_type": "code",
   "execution_count": 521,
   "id": "52130936-6e22-40b8-a694-38a8edfcf311",
   "metadata": {},
   "outputs": [],
   "source": [
    "model0 = DS.create_model(0)"
   ]
  },
  {
   "cell_type": "code",
   "execution_count": 523,
   "id": "1852f2ad-bb86-413a-b080-8bc2439ad48b",
   "metadata": {},
   "outputs": [
    {
     "data": {
      "text/plain": [
       "0"
      ]
     },
     "execution_count": 523,
     "metadata": {},
     "output_type": "execute_result"
    }
   ],
   "source": [
    "model0.Model_id"
   ]
  },
  {
   "cell_type": "code",
   "execution_count": 584,
   "id": "85950057-b4e9-44c2-9b3d-fcdb6b89779f",
   "metadata": {},
   "outputs": [],
   "source": [
    "s = W.get_god_score(5)"
   ]
  },
  {
   "cell_type": "code",
   "execution_count": 586,
   "id": "b48e8876-5b0d-442d-a5ce-32c02cc1f8b2",
   "metadata": {},
   "outputs": [
    {
     "data": {
      "text/plain": [
       "[array([ 0.28847906, -0.46295408, -1.33800442,  2.31701567, -1.46737593]),\n",
       " [1, 1, 0, 1, 0]]"
      ]
     },
     "execution_count": 586,
     "metadata": {},
     "output_type": "execute_result"
    }
   ],
   "source": [
    "s"
   ]
  },
  {
   "cell_type": "code",
   "execution_count": 529,
   "id": "c5e3ecf7-b53c-4aeb-bf4e-3cdb08db1b28",
   "metadata": {},
   "outputs": [
    {
     "data": {
      "text/plain": [
       "array([ 1.90809592,  1.85443072,  1.73977571,  2.36256822,  2.31142122,\n",
       "       -0.64360355,  2.44416749, -0.35651547,  0.20984885, -0.44349724])"
      ]
     },
     "execution_count": 529,
     "metadata": {},
     "output_type": "execute_result"
    }
   ],
   "source": [
    "m = model0.Score(s[0])\n",
    "m"
   ]
  },
  {
   "cell_type": "code",
   "execution_count": 533,
   "id": "3975403c-264f-402d-bf3d-405e69ccdb1e",
   "metadata": {},
   "outputs": [
    {
     "data": {
      "text/plain": [
       "(-0.8472978603872036, 0.30000000000000004)"
      ]
     },
     "execution_count": 533,
     "metadata": {},
     "output_type": "execute_result"
    }
   ],
   "source": [
    "W.Fate_cutoff_score, DS.sigmoid(W.Fate_cutoff_score)"
   ]
  },
  {
   "cell_type": "code",
   "execution_count": 535,
   "id": "711e2a8a-a62f-41c5-8093-cfd3ac9eb02c",
   "metadata": {},
   "outputs": [
    {
     "name": "stdout",
     "output_type": "stream",
     "text": [
      "Name: TR01 TypePlan = Annuity IR = 0.12 Duration = 24 MD = 11.9046\n",
      "Name: TR02 TypePlan = Annuity IR = 0.18 Duration = 36 MD = 16.6512\n"
     ]
    }
   ],
   "source": [
    "# Создадим тарифные планы\n",
    "tariff_01 = Tariff('TR01')\n",
    "tariff_01.info()\n",
    "\n",
    "tariff_02 = Tariff('TR02', IR = 0.18, DUR = 36)\n",
    "tariff_02.info()"
   ]
  },
  {
   "cell_type": "code",
   "execution_count": 537,
   "id": "38042cac-a366-44f1-b620-c06f2099d247",
   "metadata": {},
   "outputs": [],
   "source": [
    "# Создадим портфель\n",
    "GP = Portfolio(world = W, dwh = DWH)"
   ]
  },
  {
   "cell_type": "code",
   "execution_count": 539,
   "id": "0730fa2c-cc07-47b5-be3d-e77508a5b6b3",
   "metadata": {},
   "outputs": [],
   "source": [
    "N_const = 1000 # Пусть будут постоянные ежемесячные выдачи "
   ]
  },
  {
   "cell_type": "code",
   "execution_count": 541,
   "id": "3d62411a-1aa3-4987-ac8a-7bc282fe963c",
   "metadata": {},
   "outputs": [
    {
     "name": "stdout",
     "output_type": "stream",
     "text": [
      "1000\n"
     ]
    }
   ],
   "source": [
    "# Создадим план продаж\n",
    "issue_plan = [(tariff_01, 100_000) for i in range(N_const//2)] + [(tariff_02, 50_000) for i in range(N_const//2)]\n",
    "print(len(issue_plan))"
   ]
  },
  {
   "cell_type": "code",
   "execution_count": null,
   "id": "f93f6326-7dae-4820-8c60-b6d8cd0e3ad0",
   "metadata": {},
   "outputs": [],
   "source": []
  },
  {
   "cell_type": "code",
   "execution_count": 544,
   "id": "79951cc7-a71d-40bf-89cb-85a8bd06440c",
   "metadata": {},
   "outputs": [
    {
     "data": {
      "text/plain": [
       "-1.3862943611198906"
      ]
     },
     "execution_count": 544,
     "metadata": {},
     "output_type": "execute_result"
    }
   ],
   "source": [
    "pd_cutoff = 0.2\n",
    "score_cutoff = np.log(pd_cutoff / (1 - pd_cutoff))\n",
    "score_cutoff"
   ]
  },
  {
   "cell_type": "code",
   "execution_count": 546,
   "id": "5db6deb5-137c-46e1-a396-20771525c7b4",
   "metadata": {},
   "outputs": [],
   "source": [
    "#GP.next_month(issue_plan, pd_cutoff = pd_cutoff, model = model0)"
   ]
  },
  {
   "cell_type": "code",
   "execution_count": null,
   "id": "bcf422e3-fd0b-4880-969d-4605e1041ce2",
   "metadata": {},
   "outputs": [],
   "source": []
  },
  {
   "cell_type": "code",
   "execution_count": 549,
   "id": "279a164d-4042-4b74-b01e-582b3f9b5100",
   "metadata": {},
   "outputs": [
    {
     "data": {
      "text/plain": [
       "120"
      ]
     },
     "execution_count": 549,
     "metadata": {},
     "output_type": "execute_result"
    }
   ],
   "source": [
    "for t in range(120):\n",
    "    GP.next_month(issue_plan, pd_cutoff = pd_cutoff, model = model0)\n",
    "GP.portfolio_age    "
   ]
  },
  {
   "cell_type": "code",
   "execution_count": 550,
   "id": "f159c80c-9432-4047-823e-4da21c92b384",
   "metadata": {},
   "outputs": [],
   "source": [
    "# обновим справочники DWH\n",
    "GP.update_dwh_dic()"
   ]
  },
  {
   "cell_type": "code",
   "execution_count": 551,
   "id": "81376431-f0cc-409d-8e1b-6fcecfe6ec95",
   "metadata": {},
   "outputs": [
    {
     "name": "stdout",
     "output_type": "stream",
     "text": [
      "(3933263, 6)\n"
     ]
    },
    {
     "data": {
      "text/html": [
       "<div>\n",
       "<style scoped>\n",
       "    .dataframe tbody tr th:only-of-type {\n",
       "        vertical-align: middle;\n",
       "    }\n",
       "\n",
       "    .dataframe tbody tr th {\n",
       "        vertical-align: top;\n",
       "    }\n",
       "\n",
       "    .dataframe thead th {\n",
       "        text-align: right;\n",
       "    }\n",
       "</style>\n",
       "<table border=\"1\" class=\"dataframe\">\n",
       "  <thead>\n",
       "    <tr style=\"text-align: right;\">\n",
       "      <th></th>\n",
       "      <th>CNTR_ID</th>\n",
       "      <th>SD</th>\n",
       "      <th>DOD_ID</th>\n",
       "      <th>MOB</th>\n",
       "      <th>WRTOFF_ID</th>\n",
       "      <th>CLOSED_ID</th>\n",
       "    </tr>\n",
       "  </thead>\n",
       "  <tbody>\n",
       "    <tr>\n",
       "      <th>3933258</th>\n",
       "      <td>119996</td>\n",
       "      <td>120</td>\n",
       "      <td>0</td>\n",
       "      <td>0</td>\n",
       "      <td>0</td>\n",
       "      <td>0</td>\n",
       "    </tr>\n",
       "    <tr>\n",
       "      <th>3933259</th>\n",
       "      <td>119997</td>\n",
       "      <td>120</td>\n",
       "      <td>0</td>\n",
       "      <td>0</td>\n",
       "      <td>0</td>\n",
       "      <td>0</td>\n",
       "    </tr>\n",
       "    <tr>\n",
       "      <th>3933260</th>\n",
       "      <td>119998</td>\n",
       "      <td>120</td>\n",
       "      <td>0</td>\n",
       "      <td>0</td>\n",
       "      <td>0</td>\n",
       "      <td>0</td>\n",
       "    </tr>\n",
       "    <tr>\n",
       "      <th>3933261</th>\n",
       "      <td>119999</td>\n",
       "      <td>120</td>\n",
       "      <td>0</td>\n",
       "      <td>0</td>\n",
       "      <td>0</td>\n",
       "      <td>0</td>\n",
       "    </tr>\n",
       "    <tr>\n",
       "      <th>3933262</th>\n",
       "      <td>120000</td>\n",
       "      <td>120</td>\n",
       "      <td>0</td>\n",
       "      <td>0</td>\n",
       "      <td>0</td>\n",
       "      <td>0</td>\n",
       "    </tr>\n",
       "  </tbody>\n",
       "</table>\n",
       "</div>"
      ],
      "text/plain": [
       "        CNTR_ID   SD DOD_ID MOB WRTOFF_ID CLOSED_ID\n",
       "3933258  119996  120      0   0         0         0\n",
       "3933259  119997  120      0   0         0         0\n",
       "3933260  119998  120      0   0         0         0\n",
       "3933261  119999  120      0   0         0         0\n",
       "3933262  120000  120      0   0         0         0"
      ]
     },
     "execution_count": 551,
     "metadata": {},
     "output_type": "execute_result"
    }
   ],
   "source": [
    "LI = DWH.LI.reset_index(drop=True)\n",
    "print(LI.shape)\n",
    "LI.tail()"
   ]
  },
  {
   "cell_type": "code",
   "execution_count": 552,
   "id": "9fd02986-aaef-4231-abaa-10ab310dd82d",
   "metadata": {},
   "outputs": [],
   "source": [
    "ix_bad = LI['DOD_ID']>=4\n",
    "LI['BADFLAG'] = 0\n",
    "LI.loc[ix_bad,'BADFLAG'] = 1"
   ]
  },
  {
   "cell_type": "code",
   "execution_count": 553,
   "id": "81ebf15d-d22e-44b1-931a-9e5c7cc3c396",
   "metadata": {},
   "outputs": [
    {
     "data": {
      "text/plain": [
       "24"
      ]
     },
     "execution_count": 553,
     "metadata": {},
     "output_type": "execute_result"
    }
   ],
   "source": [
    "GP.cntr_dic[13].duration"
   ]
  },
  {
   "cell_type": "code",
   "execution_count": 554,
   "id": "b56fa8a7-7ee0-420a-b957-67520c4dad8e",
   "metadata": {},
   "outputs": [
    {
     "data": {
      "image/png": "[encoded data removed]",
      "text/plain": [
       "<Figure size 1500x500 with 1 Axes>"
      ]
     },
     "metadata": {},
     "output_type": "display_data"
    }
   ],
   "source": [
    "ix = LI['CNTR_ID']==7\n",
    "plt.figure(figsize=[15,5])\n",
    "plt.plot(LI[ix].set_index('MOB')[['DOD_ID', 'WRTOFF_ID', 'CLOSED_ID']])\n",
    "plt.legend(['DOD_ID', 'WRTOFF_ID', 'CLOSED_ID'])\n",
    "plt.show()"
   ]
  },
  {
   "cell_type": "code",
   "execution_count": 555,
   "id": "d432e976-c0d6-4dad-8bc8-7c4aed79327a",
   "metadata": {},
   "outputs": [
    {
     "name": "stdout",
     "output_type": "stream",
     "text": [
      "(120000, 13)\n"
     ]
    },
    {
     "data": {
      "text/html": [
       "<div>\n",
       "<style scoped>\n",
       "    .dataframe tbody tr th:only-of-type {\n",
       "        vertical-align: middle;\n",
       "    }\n",
       "\n",
       "    .dataframe tbody tr th {\n",
       "        vertical-align: top;\n",
       "    }\n",
       "\n",
       "    .dataframe thead th {\n",
       "        text-align: right;\n",
       "    }\n",
       "</style>\n",
       "<table border=\"1\" class=\"dataframe\">\n",
       "  <thead>\n",
       "    <tr style=\"text-align: right;\">\n",
       "      <th></th>\n",
       "      <th>CNTR_ID</th>\n",
       "      <th>ISSUE_DT</th>\n",
       "      <th>WRTOFF_DT</th>\n",
       "      <th>CLOSED_DT</th>\n",
       "      <th>AMOUNT</th>\n",
       "      <th>DURATION</th>\n",
       "      <th>IR</th>\n",
       "      <th>TARIFF</th>\n",
       "      <th>MODEL_SCORE</th>\n",
       "      <th>FATED_SCORE</th>\n",
       "      <th>FATED_RESULT</th>\n",
       "      <th>MODEL_ID</th>\n",
       "      <th>NUM_IN_QUEUE</th>\n",
       "    </tr>\n",
       "  </thead>\n",
       "  <tbody>\n",
       "    <tr>\n",
       "      <th>0</th>\n",
       "      <td>1</td>\n",
       "      <td>1</td>\n",
       "      <td>0</td>\n",
       "      <td>1</td>\n",
       "      <td>100000</td>\n",
       "      <td>24</td>\n",
       "      <td>0.12</td>\n",
       "      <td>TR01</td>\n",
       "      <td>-1.903522</td>\n",
       "      <td>-1.072969</td>\n",
       "      <td>0</td>\n",
       "      <td>0</td>\n",
       "      <td>3</td>\n",
       "    </tr>\n",
       "    <tr>\n",
       "      <th>1</th>\n",
       "      <td>2</td>\n",
       "      <td>1</td>\n",
       "      <td>0</td>\n",
       "      <td>1</td>\n",
       "      <td>100000</td>\n",
       "      <td>24</td>\n",
       "      <td>0.12</td>\n",
       "      <td>TR01</td>\n",
       "      <td>-2.132184</td>\n",
       "      <td>-2.301539</td>\n",
       "      <td>0</td>\n",
       "      <td>0</td>\n",
       "      <td>5</td>\n",
       "    </tr>\n",
       "    <tr>\n",
       "      <th>2</th>\n",
       "      <td>3</td>\n",
       "      <td>1</td>\n",
       "      <td>0</td>\n",
       "      <td>1</td>\n",
       "      <td>100000</td>\n",
       "      <td>24</td>\n",
       "      <td>0.12</td>\n",
       "      <td>TR01</td>\n",
       "      <td>-2.287893</td>\n",
       "      <td>-2.060141</td>\n",
       "      <td>0</td>\n",
       "      <td>0</td>\n",
       "      <td>11</td>\n",
       "    </tr>\n",
       "    <tr>\n",
       "      <th>3</th>\n",
       "      <td>4</td>\n",
       "      <td>1</td>\n",
       "      <td>0</td>\n",
       "      <td>1</td>\n",
       "      <td>100000</td>\n",
       "      <td>24</td>\n",
       "      <td>0.12</td>\n",
       "      <td>TR01</td>\n",
       "      <td>-1.759613</td>\n",
       "      <td>-1.099891</td>\n",
       "      <td>0</td>\n",
       "      <td>0</td>\n",
       "      <td>15</td>\n",
       "    </tr>\n",
       "    <tr>\n",
       "      <th>4</th>\n",
       "      <td>5</td>\n",
       "      <td>1</td>\n",
       "      <td>1</td>\n",
       "      <td>1</td>\n",
       "      <td>100000</td>\n",
       "      <td>24</td>\n",
       "      <td>0.12</td>\n",
       "      <td>TR01</td>\n",
       "      <td>-2.474520</td>\n",
       "      <td>-0.683728</td>\n",
       "      <td>1</td>\n",
       "      <td>0</td>\n",
       "      <td>25</td>\n",
       "    </tr>\n",
       "    <tr>\n",
       "      <th>5</th>\n",
       "      <td>6</td>\n",
       "      <td>1</td>\n",
       "      <td>0</td>\n",
       "      <td>1</td>\n",
       "      <td>100000</td>\n",
       "      <td>24</td>\n",
       "      <td>0.12</td>\n",
       "      <td>TR01</td>\n",
       "      <td>-1.518823</td>\n",
       "      <td>-0.687173</td>\n",
       "      <td>1</td>\n",
       "      <td>0</td>\n",
       "      <td>32</td>\n",
       "    </tr>\n",
       "    <tr>\n",
       "      <th>6</th>\n",
       "      <td>7</td>\n",
       "      <td>1</td>\n",
       "      <td>1</td>\n",
       "      <td>1</td>\n",
       "      <td>100000</td>\n",
       "      <td>24</td>\n",
       "      <td>0.12</td>\n",
       "      <td>TR01</td>\n",
       "      <td>-1.501934</td>\n",
       "      <td>0.234416</td>\n",
       "      <td>1</td>\n",
       "      <td>0</td>\n",
       "      <td>37</td>\n",
       "    </tr>\n",
       "    <tr>\n",
       "      <th>7</th>\n",
       "      <td>8</td>\n",
       "      <td>1</td>\n",
       "      <td>0</td>\n",
       "      <td>1</td>\n",
       "      <td>100000</td>\n",
       "      <td>24</td>\n",
       "      <td>0.12</td>\n",
       "      <td>TR01</td>\n",
       "      <td>-2.044560</td>\n",
       "      <td>-0.747158</td>\n",
       "      <td>1</td>\n",
       "      <td>0</td>\n",
       "      <td>42</td>\n",
       "    </tr>\n",
       "    <tr>\n",
       "      <th>8</th>\n",
       "      <td>9</td>\n",
       "      <td>1</td>\n",
       "      <td>1</td>\n",
       "      <td>1</td>\n",
       "      <td>100000</td>\n",
       "      <td>24</td>\n",
       "      <td>0.12</td>\n",
       "      <td>TR01</td>\n",
       "      <td>-1.950114</td>\n",
       "      <td>-0.352250</td>\n",
       "      <td>1</td>\n",
       "      <td>0</td>\n",
       "      <td>51</td>\n",
       "    </tr>\n",
       "    <tr>\n",
       "      <th>9</th>\n",
       "      <td>10</td>\n",
       "      <td>1</td>\n",
       "      <td>0</td>\n",
       "      <td>1</td>\n",
       "      <td>100000</td>\n",
       "      <td>24</td>\n",
       "      <td>0.12</td>\n",
       "      <td>TR01</td>\n",
       "      <td>-2.202970</td>\n",
       "      <td>-1.142518</td>\n",
       "      <td>0</td>\n",
       "      <td>0</td>\n",
       "      <td>52</td>\n",
       "    </tr>\n",
       "    <tr>\n",
       "      <th>10</th>\n",
       "      <td>11</td>\n",
       "      <td>1</td>\n",
       "      <td>0</td>\n",
       "      <td>1</td>\n",
       "      <td>100000</td>\n",
       "      <td>24</td>\n",
       "      <td>0.12</td>\n",
       "      <td>TR01</td>\n",
       "      <td>-1.906792</td>\n",
       "      <td>-1.444114</td>\n",
       "      <td>0</td>\n",
       "      <td>0</td>\n",
       "      <td>70</td>\n",
       "    </tr>\n",
       "    <tr>\n",
       "      <th>11</th>\n",
       "      <td>12</td>\n",
       "      <td>1</td>\n",
       "      <td>1</td>\n",
       "      <td>1</td>\n",
       "      <td>100000</td>\n",
       "      <td>24</td>\n",
       "      <td>0.12</td>\n",
       "      <td>TR01</td>\n",
       "      <td>-1.401455</td>\n",
       "      <td>0.160037</td>\n",
       "      <td>1</td>\n",
       "      <td>0</td>\n",
       "      <td>72</td>\n",
       "    </tr>\n",
       "    <tr>\n",
       "      <th>12</th>\n",
       "      <td>13</td>\n",
       "      <td>1</td>\n",
       "      <td>0</td>\n",
       "      <td>1</td>\n",
       "      <td>100000</td>\n",
       "      <td>24</td>\n",
       "      <td>0.12</td>\n",
       "      <td>TR01</td>\n",
       "      <td>-2.067059</td>\n",
       "      <td>-2.022201</td>\n",
       "      <td>0</td>\n",
       "      <td>0</td>\n",
       "      <td>75</td>\n",
       "    </tr>\n",
       "    <tr>\n",
       "      <th>13</th>\n",
       "      <td>14</td>\n",
       "      <td>1</td>\n",
       "      <td>0</td>\n",
       "      <td>1</td>\n",
       "      <td>100000</td>\n",
       "      <td>24</td>\n",
       "      <td>0.12</td>\n",
       "      <td>TR01</td>\n",
       "      <td>-1.908184</td>\n",
       "      <td>-0.447129</td>\n",
       "      <td>1</td>\n",
       "      <td>0</td>\n",
       "      <td>100</td>\n",
       "    </tr>\n",
       "    <tr>\n",
       "      <th>14</th>\n",
       "      <td>15</td>\n",
       "      <td>1</td>\n",
       "      <td>0</td>\n",
       "      <td>1</td>\n",
       "      <td>100000</td>\n",
       "      <td>24</td>\n",
       "      <td>0.12</td>\n",
       "      <td>TR01</td>\n",
       "      <td>-2.445003</td>\n",
       "      <td>-0.953701</td>\n",
       "      <td>0</td>\n",
       "      <td>0</td>\n",
       "      <td>107</td>\n",
       "    </tr>\n",
       "    <tr>\n",
       "      <th>15</th>\n",
       "      <td>16</td>\n",
       "      <td>1</td>\n",
       "      <td>1</td>\n",
       "      <td>1</td>\n",
       "      <td>100000</td>\n",
       "      <td>24</td>\n",
       "      <td>0.12</td>\n",
       "      <td>TR01</td>\n",
       "      <td>-1.627110</td>\n",
       "      <td>0.032615</td>\n",
       "      <td>1</td>\n",
       "      <td>0</td>\n",
       "      <td>109</td>\n",
       "    </tr>\n",
       "    <tr>\n",
       "      <th>16</th>\n",
       "      <td>17</td>\n",
       "      <td>1</td>\n",
       "      <td>0</td>\n",
       "      <td>1</td>\n",
       "      <td>100000</td>\n",
       "      <td>24</td>\n",
       "      <td>0.12</td>\n",
       "      <td>TR01</td>\n",
       "      <td>-1.542866</td>\n",
       "      <td>-1.312283</td>\n",
       "      <td>0</td>\n",
       "      <td>0</td>\n",
       "      <td>115</td>\n",
       "    </tr>\n",
       "    <tr>\n",
       "      <th>17</th>\n",
       "      <td>18</td>\n",
       "      <td>1</td>\n",
       "      <td>0</td>\n",
       "      <td>1</td>\n",
       "      <td>100000</td>\n",
       "      <td>24</td>\n",
       "      <td>0.12</td>\n",
       "      <td>TR01</td>\n",
       "      <td>-1.674415</td>\n",
       "      <td>-1.615772</td>\n",
       "      <td>0</td>\n",
       "      <td>0</td>\n",
       "      <td>117</td>\n",
       "    </tr>\n",
       "    <tr>\n",
       "      <th>18</th>\n",
       "      <td>19</td>\n",
       "      <td>1</td>\n",
       "      <td>0</td>\n",
       "      <td>1</td>\n",
       "      <td>100000</td>\n",
       "      <td>24</td>\n",
       "      <td>0.12</td>\n",
       "      <td>TR01</td>\n",
       "      <td>-1.746978</td>\n",
       "      <td>-1.199268</td>\n",
       "      <td>0</td>\n",
       "      <td>0</td>\n",
       "      <td>128</td>\n",
       "    </tr>\n",
       "    <tr>\n",
       "      <th>19</th>\n",
       "      <td>20</td>\n",
       "      <td>1</td>\n",
       "      <td>0</td>\n",
       "      <td>0</td>\n",
       "      <td>100000</td>\n",
       "      <td>24</td>\n",
       "      <td>0.12</td>\n",
       "      <td>TR01</td>\n",
       "      <td>-1.709446</td>\n",
       "      <td>0.550537</td>\n",
       "      <td>1</td>\n",
       "      <td>0</td>\n",
       "      <td>133</td>\n",
       "    </tr>\n",
       "  </tbody>\n",
       "</table>\n",
       "</div>"
      ],
      "text/plain": [
       "    CNTR_ID  ISSUE_DT  WRTOFF_DT  CLOSED_DT  AMOUNT  DURATION    IR TARIFF  \\\n",
       "0         1         1          0          1  100000        24  0.12   TR01   \n",
       "1         2         1          0          1  100000        24  0.12   TR01   \n",
       "2         3         1          0          1  100000        24  0.12   TR01   \n",
       "3         4         1          0          1  100000        24  0.12   TR01   \n",
       "4         5         1          1          1  100000        24  0.12   TR01   \n",
       "5         6         1          0          1  100000        24  0.12   TR01   \n",
       "6         7         1          1          1  100000        24  0.12   TR01   \n",
       "7         8         1          0          1  100000        24  0.12   TR01   \n",
       "8         9         1          1          1  100000        24  0.12   TR01   \n",
       "9        10         1          0          1  100000        24  0.12   TR01   \n",
       "10       11         1          0          1  100000        24  0.12   TR01   \n",
       "11       12         1          1          1  100000        24  0.12   TR01   \n",
       "12       13         1          0          1  100000        24  0.12   TR01   \n",
       "13       14         1          0          1  100000        24  0.12   TR01   \n",
       "14       15         1          0          1  100000        24  0.12   TR01   \n",
       "15       16         1          1          1  100000        24  0.12   TR01   \n",
       "16       17         1          0          1  100000        24  0.12   TR01   \n",
       "17       18         1          0          1  100000        24  0.12   TR01   \n",
       "18       19         1          0          1  100000        24  0.12   TR01   \n",
       "19       20         1          0          0  100000        24  0.12   TR01   \n",
       "\n",
       "    MODEL_SCORE  FATED_SCORE  FATED_RESULT  MODEL_ID  NUM_IN_QUEUE  \n",
       "0     -1.903522    -1.072969             0         0             3  \n",
       "1     -2.132184    -2.301539             0         0             5  \n",
       "2     -2.287893    -2.060141             0         0            11  \n",
       "3     -1.759613    -1.099891             0         0            15  \n",
       "4     -2.474520    -0.683728             1         0            25  \n",
       "5     -1.518823    -0.687173             1         0            32  \n",
       "6     -1.501934     0.234416             1         0            37  \n",
       "7     -2.044560    -0.747158             1         0            42  \n",
       "8     -1.950114    -0.352250             1         0            51  \n",
       "9     -2.202970    -1.142518             0         0            52  \n",
       "10    -1.906792    -1.444114             0         0            70  \n",
       "11    -1.401455     0.160037             1         0            72  \n",
       "12    -2.067059    -2.022201             0         0            75  \n",
       "13    -1.908184    -0.447129             1         0           100  \n",
       "14    -2.445003    -0.953701             0         0           107  \n",
       "15    -1.627110     0.032615             1         0           109  \n",
       "16    -1.542866    -1.312283             0         0           115  \n",
       "17    -1.674415    -1.615772             0         0           117  \n",
       "18    -1.746978    -1.199268             0         0           128  \n",
       "19    -1.709446     0.550537             1         0           133  "
      ]
     },
     "execution_count": 555,
     "metadata": {},
     "output_type": "execute_result"
    }
   ],
   "source": [
    "DMC = DWH.DMContract\n",
    "print(DMC.shape)\n",
    "DMC.head(20)"
   ]
  },
  {
   "cell_type": "code",
   "execution_count": 556,
   "id": "80beed93-592a-4a1b-9339-e98d740effe7",
   "metadata": {},
   "outputs": [
    {
     "data": {
      "text/html": [
       "<div>\n",
       "<style scoped>\n",
       "    .dataframe tbody tr th:only-of-type {\n",
       "        vertical-align: middle;\n",
       "    }\n",
       "\n",
       "    .dataframe tbody tr th {\n",
       "        vertical-align: top;\n",
       "    }\n",
       "\n",
       "    .dataframe thead th {\n",
       "        text-align: right;\n",
       "    }\n",
       "</style>\n",
       "<table border=\"1\" class=\"dataframe\">\n",
       "  <thead>\n",
       "    <tr style=\"text-align: right;\">\n",
       "      <th></th>\n",
       "      <th>CNTR_ID</th>\n",
       "      <th>ISSUE_DT</th>\n",
       "      <th>WRTOFF_DT</th>\n",
       "      <th>CLOSED_DT</th>\n",
       "      <th>AMOUNT</th>\n",
       "      <th>DURATION</th>\n",
       "      <th>IR</th>\n",
       "      <th>TARIFF</th>\n",
       "      <th>MODEL_SCORE</th>\n",
       "      <th>FATED_SCORE</th>\n",
       "      <th>FATED_RESULT</th>\n",
       "      <th>MODEL_ID</th>\n",
       "      <th>NUM_IN_QUEUE</th>\n",
       "    </tr>\n",
       "  </thead>\n",
       "  <tbody>\n",
       "    <tr>\n",
       "      <th>119980</th>\n",
       "      <td>119981</td>\n",
       "      <td>120</td>\n",
       "      <td>0</td>\n",
       "      <td>0</td>\n",
       "      <td>50000</td>\n",
       "      <td>36</td>\n",
       "      <td>0.18</td>\n",
       "      <td>TR02</td>\n",
       "      <td>-1.562975</td>\n",
       "      <td>-0.375959</td>\n",
       "      <td>1</td>\n",
       "      <td>0</td>\n",
       "      <td>735540</td>\n",
       "    </tr>\n",
       "    <tr>\n",
       "      <th>119981</th>\n",
       "      <td>119982</td>\n",
       "      <td>120</td>\n",
       "      <td>0</td>\n",
       "      <td>0</td>\n",
       "      <td>50000</td>\n",
       "      <td>36</td>\n",
       "      <td>0.18</td>\n",
       "      <td>TR02</td>\n",
       "      <td>-2.082776</td>\n",
       "      <td>-1.450211</td>\n",
       "      <td>0</td>\n",
       "      <td>0</td>\n",
       "      <td>735568</td>\n",
       "    </tr>\n",
       "    <tr>\n",
       "      <th>119982</th>\n",
       "      <td>119983</td>\n",
       "      <td>120</td>\n",
       "      <td>0</td>\n",
       "      <td>0</td>\n",
       "      <td>50000</td>\n",
       "      <td>36</td>\n",
       "      <td>0.18</td>\n",
       "      <td>TR02</td>\n",
       "      <td>-2.873195</td>\n",
       "      <td>-2.201858</td>\n",
       "      <td>0</td>\n",
       "      <td>0</td>\n",
       "      <td>735578</td>\n",
       "    </tr>\n",
       "    <tr>\n",
       "      <th>119983</th>\n",
       "      <td>119984</td>\n",
       "      <td>120</td>\n",
       "      <td>0</td>\n",
       "      <td>0</td>\n",
       "      <td>50000</td>\n",
       "      <td>36</td>\n",
       "      <td>0.18</td>\n",
       "      <td>TR02</td>\n",
       "      <td>-1.947953</td>\n",
       "      <td>0.371549</td>\n",
       "      <td>1</td>\n",
       "      <td>0</td>\n",
       "      <td>735581</td>\n",
       "    </tr>\n",
       "    <tr>\n",
       "      <th>119984</th>\n",
       "      <td>119985</td>\n",
       "      <td>120</td>\n",
       "      <td>0</td>\n",
       "      <td>0</td>\n",
       "      <td>50000</td>\n",
       "      <td>36</td>\n",
       "      <td>0.18</td>\n",
       "      <td>TR02</td>\n",
       "      <td>-1.943294</td>\n",
       "      <td>-1.116811</td>\n",
       "      <td>0</td>\n",
       "      <td>0</td>\n",
       "      <td>735583</td>\n",
       "    </tr>\n",
       "    <tr>\n",
       "      <th>119985</th>\n",
       "      <td>119986</td>\n",
       "      <td>120</td>\n",
       "      <td>0</td>\n",
       "      <td>0</td>\n",
       "      <td>50000</td>\n",
       "      <td>36</td>\n",
       "      <td>0.18</td>\n",
       "      <td>TR02</td>\n",
       "      <td>-4.441511</td>\n",
       "      <td>-2.382998</td>\n",
       "      <td>0</td>\n",
       "      <td>0</td>\n",
       "      <td>735591</td>\n",
       "    </tr>\n",
       "    <tr>\n",
       "      <th>119986</th>\n",
       "      <td>119987</td>\n",
       "      <td>120</td>\n",
       "      <td>0</td>\n",
       "      <td>0</td>\n",
       "      <td>50000</td>\n",
       "      <td>36</td>\n",
       "      <td>0.18</td>\n",
       "      <td>TR02</td>\n",
       "      <td>-1.667115</td>\n",
       "      <td>-0.489512</td>\n",
       "      <td>1</td>\n",
       "      <td>0</td>\n",
       "      <td>735592</td>\n",
       "    </tr>\n",
       "    <tr>\n",
       "      <th>119987</th>\n",
       "      <td>119988</td>\n",
       "      <td>120</td>\n",
       "      <td>0</td>\n",
       "      <td>0</td>\n",
       "      <td>50000</td>\n",
       "      <td>36</td>\n",
       "      <td>0.18</td>\n",
       "      <td>TR02</td>\n",
       "      <td>-1.637461</td>\n",
       "      <td>-1.158276</td>\n",
       "      <td>0</td>\n",
       "      <td>0</td>\n",
       "      <td>735595</td>\n",
       "    </tr>\n",
       "    <tr>\n",
       "      <th>119988</th>\n",
       "      <td>119989</td>\n",
       "      <td>120</td>\n",
       "      <td>0</td>\n",
       "      <td>0</td>\n",
       "      <td>50000</td>\n",
       "      <td>36</td>\n",
       "      <td>0.18</td>\n",
       "      <td>TR02</td>\n",
       "      <td>-1.604258</td>\n",
       "      <td>-0.858120</td>\n",
       "      <td>0</td>\n",
       "      <td>0</td>\n",
       "      <td>735600</td>\n",
       "    </tr>\n",
       "    <tr>\n",
       "      <th>119989</th>\n",
       "      <td>119990</td>\n",
       "      <td>120</td>\n",
       "      <td>0</td>\n",
       "      <td>0</td>\n",
       "      <td>50000</td>\n",
       "      <td>36</td>\n",
       "      <td>0.18</td>\n",
       "      <td>TR02</td>\n",
       "      <td>-1.671737</td>\n",
       "      <td>-1.526741</td>\n",
       "      <td>0</td>\n",
       "      <td>0</td>\n",
       "      <td>735601</td>\n",
       "    </tr>\n",
       "    <tr>\n",
       "      <th>119990</th>\n",
       "      <td>119991</td>\n",
       "      <td>120</td>\n",
       "      <td>0</td>\n",
       "      <td>0</td>\n",
       "      <td>50000</td>\n",
       "      <td>36</td>\n",
       "      <td>0.18</td>\n",
       "      <td>TR02</td>\n",
       "      <td>-1.889368</td>\n",
       "      <td>-2.150675</td>\n",
       "      <td>0</td>\n",
       "      <td>0</td>\n",
       "      <td>735609</td>\n",
       "    </tr>\n",
       "    <tr>\n",
       "      <th>119991</th>\n",
       "      <td>119992</td>\n",
       "      <td>120</td>\n",
       "      <td>0</td>\n",
       "      <td>0</td>\n",
       "      <td>50000</td>\n",
       "      <td>36</td>\n",
       "      <td>0.18</td>\n",
       "      <td>TR02</td>\n",
       "      <td>-1.781708</td>\n",
       "      <td>-1.618385</td>\n",
       "      <td>0</td>\n",
       "      <td>0</td>\n",
       "      <td>735621</td>\n",
       "    </tr>\n",
       "    <tr>\n",
       "      <th>119992</th>\n",
       "      <td>119993</td>\n",
       "      <td>120</td>\n",
       "      <td>0</td>\n",
       "      <td>0</td>\n",
       "      <td>50000</td>\n",
       "      <td>36</td>\n",
       "      <td>0.18</td>\n",
       "      <td>TR02</td>\n",
       "      <td>-1.686197</td>\n",
       "      <td>-0.998775</td>\n",
       "      <td>0</td>\n",
       "      <td>0</td>\n",
       "      <td>735624</td>\n",
       "    </tr>\n",
       "    <tr>\n",
       "      <th>119993</th>\n",
       "      <td>119994</td>\n",
       "      <td>120</td>\n",
       "      <td>0</td>\n",
       "      <td>0</td>\n",
       "      <td>50000</td>\n",
       "      <td>36</td>\n",
       "      <td>0.18</td>\n",
       "      <td>TR02</td>\n",
       "      <td>-3.769700</td>\n",
       "      <td>-1.664029</td>\n",
       "      <td>0</td>\n",
       "      <td>0</td>\n",
       "      <td>735634</td>\n",
       "    </tr>\n",
       "    <tr>\n",
       "      <th>119994</th>\n",
       "      <td>119995</td>\n",
       "      <td>120</td>\n",
       "      <td>0</td>\n",
       "      <td>0</td>\n",
       "      <td>50000</td>\n",
       "      <td>36</td>\n",
       "      <td>0.18</td>\n",
       "      <td>TR02</td>\n",
       "      <td>-1.440259</td>\n",
       "      <td>-0.552248</td>\n",
       "      <td>1</td>\n",
       "      <td>0</td>\n",
       "      <td>735636</td>\n",
       "    </tr>\n",
       "    <tr>\n",
       "      <th>119995</th>\n",
       "      <td>119996</td>\n",
       "      <td>120</td>\n",
       "      <td>0</td>\n",
       "      <td>0</td>\n",
       "      <td>50000</td>\n",
       "      <td>36</td>\n",
       "      <td>0.18</td>\n",
       "      <td>TR02</td>\n",
       "      <td>-1.399031</td>\n",
       "      <td>-1.543112</td>\n",
       "      <td>0</td>\n",
       "      <td>0</td>\n",
       "      <td>735638</td>\n",
       "    </tr>\n",
       "    <tr>\n",
       "      <th>119996</th>\n",
       "      <td>119997</td>\n",
       "      <td>120</td>\n",
       "      <td>0</td>\n",
       "      <td>0</td>\n",
       "      <td>50000</td>\n",
       "      <td>36</td>\n",
       "      <td>0.18</td>\n",
       "      <td>TR02</td>\n",
       "      <td>-2.929907</td>\n",
       "      <td>-2.026896</td>\n",
       "      <td>0</td>\n",
       "      <td>0</td>\n",
       "      <td>735658</td>\n",
       "    </tr>\n",
       "    <tr>\n",
       "      <th>119997</th>\n",
       "      <td>119998</td>\n",
       "      <td>120</td>\n",
       "      <td>0</td>\n",
       "      <td>0</td>\n",
       "      <td>50000</td>\n",
       "      <td>36</td>\n",
       "      <td>0.18</td>\n",
       "      <td>TR02</td>\n",
       "      <td>-2.410762</td>\n",
       "      <td>-0.377529</td>\n",
       "      <td>1</td>\n",
       "      <td>0</td>\n",
       "      <td>735660</td>\n",
       "    </tr>\n",
       "    <tr>\n",
       "      <th>119998</th>\n",
       "      <td>119999</td>\n",
       "      <td>120</td>\n",
       "      <td>0</td>\n",
       "      <td>0</td>\n",
       "      <td>50000</td>\n",
       "      <td>36</td>\n",
       "      <td>0.18</td>\n",
       "      <td>TR02</td>\n",
       "      <td>-1.685372</td>\n",
       "      <td>-0.735491</td>\n",
       "      <td>1</td>\n",
       "      <td>0</td>\n",
       "      <td>735663</td>\n",
       "    </tr>\n",
       "    <tr>\n",
       "      <th>119999</th>\n",
       "      <td>120000</td>\n",
       "      <td>120</td>\n",
       "      <td>0</td>\n",
       "      <td>0</td>\n",
       "      <td>50000</td>\n",
       "      <td>36</td>\n",
       "      <td>0.18</td>\n",
       "      <td>TR02</td>\n",
       "      <td>-1.644871</td>\n",
       "      <td>-1.062046</td>\n",
       "      <td>0</td>\n",
       "      <td>0</td>\n",
       "      <td>735665</td>\n",
       "    </tr>\n",
       "  </tbody>\n",
       "</table>\n",
       "</div>"
      ],
      "text/plain": [
       "        CNTR_ID  ISSUE_DT  WRTOFF_DT  CLOSED_DT  AMOUNT  DURATION    IR  \\\n",
       "119980   119981       120          0          0   50000        36  0.18   \n",
       "119981   119982       120          0          0   50000        36  0.18   \n",
       "119982   119983       120          0          0   50000        36  0.18   \n",
       "119983   119984       120          0          0   50000        36  0.18   \n",
       "119984   119985       120          0          0   50000        36  0.18   \n",
       "119985   119986       120          0          0   50000        36  0.18   \n",
       "119986   119987       120          0          0   50000        36  0.18   \n",
       "119987   119988       120          0          0   50000        36  0.18   \n",
       "119988   119989       120          0          0   50000        36  0.18   \n",
       "119989   119990       120          0          0   50000        36  0.18   \n",
       "119990   119991       120          0          0   50000        36  0.18   \n",
       "119991   119992       120          0          0   50000        36  0.18   \n",
       "119992   119993       120          0          0   50000        36  0.18   \n",
       "119993   119994       120          0          0   50000        36  0.18   \n",
       "119994   119995       120          0          0   50000        36  0.18   \n",
       "119995   119996       120          0          0   50000        36  0.18   \n",
       "119996   119997       120          0          0   50000        36  0.18   \n",
       "119997   119998       120          0          0   50000        36  0.18   \n",
       "119998   119999       120          0          0   50000        36  0.18   \n",
       "119999   120000       120          0          0   50000        36  0.18   \n",
       "\n",
       "       TARIFF  MODEL_SCORE  FATED_SCORE  FATED_RESULT  MODEL_ID  NUM_IN_QUEUE  \n",
       "119980   TR02    -1.562975    -0.375959             1         0        735540  \n",
       "119981   TR02    -2.082776    -1.450211             0         0        735568  \n",
       "119982   TR02    -2.873195    -2.201858             0         0        735578  \n",
       "119983   TR02    -1.947953     0.371549             1         0        735581  \n",
       "119984   TR02    -1.943294    -1.116811             0         0        735583  \n",
       "119985   TR02    -4.441511    -2.382998             0         0        735591  \n",
       "119986   TR02    -1.667115    -0.489512             1         0        735592  \n",
       "119987   TR02    -1.637461    -1.158276             0         0        735595  \n",
       "119988   TR02    -1.604258    -0.858120             0         0        735600  \n",
       "119989   TR02    -1.671737    -1.526741             0         0        735601  \n",
       "119990   TR02    -1.889368    -2.150675             0         0        735609  \n",
       "119991   TR02    -1.781708    -1.618385             0         0        735621  \n",
       "119992   TR02    -1.686197    -0.998775             0         0        735624  \n",
       "119993   TR02    -3.769700    -1.664029             0         0        735634  \n",
       "119994   TR02    -1.440259    -0.552248             1         0        735636  \n",
       "119995   TR02    -1.399031    -1.543112             0         0        735638  \n",
       "119996   TR02    -2.929907    -2.026896             0         0        735658  \n",
       "119997   TR02    -2.410762    -0.377529             1         0        735660  \n",
       "119998   TR02    -1.685372    -0.735491             1         0        735663  \n",
       "119999   TR02    -1.644871    -1.062046             0         0        735665  "
      ]
     },
     "execution_count": 556,
     "metadata": {},
     "output_type": "execute_result"
    }
   ],
   "source": [
    "DMC.tail(20)"
   ]
  },
  {
   "cell_type": "code",
   "execution_count": 557,
   "id": "d7af486c-17ec-4fd1-b05d-13a50d3d8351",
   "metadata": {},
   "outputs": [
    {
     "data": {
      "text/plain": [
       "<Axes: xlabel='CNTR_ID'>"
      ]
     },
     "execution_count": 557,
     "metadata": {},
     "output_type": "execute_result"
    },
    {
     "data": {
      "image/png": "[encoded data removed]",
      "text/plain": [
       "<Figure size 640x480 with 1 Axes>"
      ]
     },
     "metadata": {},
     "output_type": "display_data"
    }
   ],
   "source": [
    "DMC.set_index('CNTR_ID')[['NUM_IN_QUEUE']].plot()"
   ]
  },
  {
   "cell_type": "code",
   "execution_count": 558,
   "id": "8d1dca01-d640-4031-afce-d38c81c4c728",
   "metadata": {},
   "outputs": [
    {
     "data": {
      "image/png": "[encoded data removed]",
      "text/plain": [
       "<Figure size 1500x500 with 1 Axes>"
      ]
     },
     "metadata": {},
     "output_type": "display_data"
    },
    {
     "data": {
      "image/png": "[encoded data removed]",
      "text/plain": [
       "<Figure size 640x480 with 1 Axes>"
      ]
     },
     "metadata": {},
     "output_type": "display_data"
    }
   ],
   "source": [
    "ix = ((LI['WRTOFF_ID'] == 0)&\n",
    "      (LI['CLOSED_ID'] == 0)\n",
    "     )\n",
    "ix_bad = LI['BADFLAG'] == 1\n",
    "\n",
    "T = LI[ix].groupby('SD')[['CNTR_ID']].count()\n",
    "B = LI[ix&ix_bad].groupby('SD')[['CNTR_ID']].count()\n",
    "\n",
    "\n",
    "plt.figure(figsize=[15,5])\n",
    "plt.plot(T)\n",
    "plt.plot(B)\n",
    "plt.show()\n",
    "\n",
    "plt.plot(B/T)\n",
    "plt.show()\n",
    "\n"
   ]
  },
  {
   "cell_type": "code",
   "execution_count": null,
   "id": "99bff557-e251-4969-a6f1-1cbd3fff08ac",
   "metadata": {},
   "outputs": [],
   "source": []
  },
  {
   "cell_type": "code",
   "execution_count": 560,
   "id": "c3891466-e6a5-4944-a9fc-099e91c68dbe",
   "metadata": {},
   "outputs": [
    {
     "data": {
      "image/png": "[encoded data removed]",
      "text/plain": [
       "<Figure size 1500x500 with 1 Axes>"
      ]
     },
     "metadata": {},
     "output_type": "display_data"
    }
   ],
   "source": [
    "ix = LI['MOB'] == 12\n",
    "\n",
    "T = LI[ix].groupby('SD')[['BADFLAG']].agg(['mean'])\n",
    "\n",
    "plt.figure(figsize=[15,5])\n",
    "plt.plot(T)\n",
    "plt.show()"
   ]
  },
  {
   "cell_type": "code",
   "execution_count": null,
   "id": "3f9582e0-c754-4164-b30f-3f4647cbf438",
   "metadata": {},
   "outputs": [],
   "source": []
  },
  {
   "cell_type": "code",
   "execution_count": null,
   "id": "57182c2a-76e4-4249-8ed1-2adacd24656f",
   "metadata": {},
   "outputs": [],
   "source": []
  },
  {
   "cell_type": "code",
   "execution_count": null,
   "id": "029b6fa1-ed80-430a-aef7-62de9d73574e",
   "metadata": {},
   "outputs": [],
   "source": []
  }
 ],
 "metadata": {
  "kernelspec": {
   "display_name": "Python [conda env:base] *",
   "language": "python",
   "name": "conda-base-py"
  },
  "language_info": {
   "codemirror_mode": {
    "name": "ipython",
    "version": 3
   },
   "file_extension": ".py",
   "mimetype": "text/x-python",
   "name": "python",
   "nbconvert_exporter": "python",
   "pygments_lexer": "ipython3",
   "version": "3.12.4"
  }
 },
 "nbformat": 4,
 "nbformat_minor": 5
}
