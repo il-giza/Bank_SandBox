{
 "cells": [
  {
   "cell_type": "code",
   "execution_count": null,
   "id": "35ee1560-c5a0-47cc-9fda-bfb62c390e11",
   "metadata": {},
   "outputs": [],
   "source": []
  },
  {
   "cell_type": "markdown",
   "id": "ae45dd66-4025-4b70-b8d8-ed2b6190eeee",
   "metadata": {},
   "source": [
    "# Загрузки"
   ]
  },
  {
   "cell_type": "code",
   "execution_count": 1,
   "id": "4200d353-e482-48b0-87e7-7cfbb00f9cfc",
   "metadata": {},
   "outputs": [
    {
     "name": "stdout",
     "output_type": "stream",
     "text": [
      "Python 3.12.4\n"
     ]
    }
   ],
   "source": [
    "!python --version"
   ]
  },
  {
   "cell_type": "code",
   "execution_count": 3,
   "id": "56401827-f0e7-469e-b084-4960668633a8",
   "metadata": {},
   "outputs": [
    {
     "data": {
      "text/html": [
       "<style>.container { width:80% !important; }</style>"
      ],
      "text/plain": [
       "<IPython.core.display.HTML object>"
      ]
     },
     "metadata": {},
     "output_type": "display_data"
    }
   ],
   "source": [
    "from IPython.display import display, HTML\n",
    "display(HTML(\"<style>.container { width:80% !important; }</style>\"))"
   ]
  },
  {
   "cell_type": "code",
   "execution_count": 4,
   "id": "0fd4fb9c-7ad4-4063-a212-d680470843a6",
   "metadata": {},
   "outputs": [],
   "source": [
    "import numpy as np\n",
    "import pandas as pd\n",
    "from sklearn import metrics\n",
    "from importlib import reload\n",
    "import matplotlib.pyplot as plt\n",
    "import DS_risk"
   ]
  },
  {
   "cell_type": "code",
   "execution_count": 6,
   "id": "7e5c4fbe-84c1-416c-9a7f-9a5f926b4a53",
   "metadata": {},
   "outputs": [],
   "source": [
    "# Для перезагрузки ранее импортированного модуля.\n",
    "DS_risk = reload(DS_risk)\n",
    "from DS_risk import World, Bank_DS, DWH_DB, Tariff, Contract, Portfolio, Model"
   ]
  },
  {
   "cell_type": "markdown",
   "id": "ba430720-36a4-4e0c-b16a-b85904af26a7",
   "metadata": {},
   "source": [
    "## Инициализации"
   ]
  },
  {
   "cell_type": "code",
   "execution_count": 10,
   "id": "6f117c20-c685-4610-a233-2419a1af0aee",
   "metadata": {},
   "outputs": [
    {
     "name": "stdout",
     "output_type": "stream",
     "text": [
      "test(AVG) -  [1.0, 1.0, 1.0, 1.0, 1.0, 1.0]\n",
      "test(0) -  [1.0, 1.0, 1.0, 1.0, 1.0, 1.0]\n",
      "test(1) -  [1.0, 1.0, 1.0, 1.0, 1.0, 1.0]\n",
      "Hello World!\n"
     ]
    }
   ],
   "source": [
    "W = World()    # Инициализация мира\n",
    "\n",
    "DWH = DWH_DB() # Пародия на базу данных"
   ]
  },
  {
   "cell_type": "code",
   "execution_count": 12,
   "id": "ac9b948b-8582-4e13-ad18-af1ccfe0aa4d",
   "metadata": {},
   "outputs": [
    {
     "name": "stdout",
     "output_type": "stream",
     "text": [
      "Hello DS!\n"
     ]
    }
   ],
   "source": [
    "DS = Bank_DS() # Активности банка"
   ]
  },
  {
   "cell_type": "code",
   "execution_count": 14,
   "id": "3975403c-264f-402d-bf3d-405e69ccdb1e",
   "metadata": {},
   "outputs": [
    {
     "name": "stdout",
     "output_type": "stream",
     "text": [
      "Score = -0.847298\n",
      "PD = 0.3\n"
     ]
    }
   ],
   "source": [
    "# Cut-off предопределенный \n",
    "print('Score = %g\\nPD = %g' % (W.Fate_cutoff_score, DS.sigmoid(W.Fate_cutoff_score)))"
   ]
  },
  {
   "cell_type": "code",
   "execution_count": null,
   "id": "d12b03d9-e871-457b-9422-a5c68444baf4",
   "metadata": {},
   "outputs": [],
   "source": []
  },
  {
   "cell_type": "markdown",
   "id": "1c614a6e-5bd7-47fc-b66f-5f58947687e9",
   "metadata": {},
   "source": [
    "### Создание рисковой модели"
   ]
  },
  {
   "cell_type": "code",
   "execution_count": 18,
   "id": "52130936-6e22-40b8-a694-38a8edfcf311",
   "metadata": {},
   "outputs": [],
   "source": [
    "model0 = DS.create_model()"
   ]
  },
  {
   "cell_type": "code",
   "execution_count": 20,
   "id": "eddf332f-ee41-46ab-8bc5-5d078a584a06",
   "metadata": {},
   "outputs": [],
   "source": [
    "model0.Model_Sigma = 0.7"
   ]
  },
  {
   "cell_type": "code",
   "execution_count": 22,
   "id": "1852f2ad-bb86-413a-b080-8bc2439ad48b",
   "metadata": {},
   "outputs": [
    {
     "name": "stdout",
     "output_type": "stream",
     "text": [
      "1 0 0.7\n"
     ]
    }
   ],
   "source": [
    "model0.info()"
   ]
  },
  {
   "cell_type": "code",
   "execution_count": 24,
   "id": "85950057-b4e9-44c2-9b3d-fcdb6b89779f",
   "metadata": {},
   "outputs": [],
   "source": [
    "s = W.get_god_score(5)"
   ]
  },
  {
   "cell_type": "code",
   "execution_count": 26,
   "id": "b48e8876-5b0d-442d-a5ce-32c02cc1f8b2",
   "metadata": {},
   "outputs": [
    {
     "data": {
      "text/plain": [
       "[array([1.76405235, 0.40015721, 0.97873798, 2.2408932 , 1.86755799]),\n",
       " [1, 1, 1, 1, 1]]"
      ]
     },
     "execution_count": 26,
     "metadata": {},
     "output_type": "execute_result"
    }
   ],
   "source": [
    "s"
   ]
  },
  {
   "cell_type": "code",
   "execution_count": 28,
   "id": "c5e3ecf7-b53c-4aeb-bf4e-3cdb08db1b28",
   "metadata": {},
   "outputs": [
    {
     "data": {
      "text/plain": [
       "array([1.07995783, 1.0652191 , 0.87278794, 2.16864   , 2.15497694])"
      ]
     },
     "execution_count": 28,
     "metadata": {},
     "output_type": "execute_result"
    }
   ],
   "source": [
    "m = model0.Score(s[0])\n",
    "m"
   ]
  },
  {
   "cell_type": "markdown",
   "id": "3119a9d3-6205-404c-ac2b-de238e264f0d",
   "metadata": {},
   "source": [
    "### Создание тарифных планов"
   ]
  },
  {
   "cell_type": "code",
   "execution_count": 31,
   "id": "711e2a8a-a62f-41c5-8093-cfd3ac9eb02c",
   "metadata": {},
   "outputs": [
    {
     "name": "stdout",
     "output_type": "stream",
     "text": [
      "Name: TR01 TypePlan = Annuity IR = 0.12 Duration = 24 MD = 11.9046\n",
      "Name: TR02 TypePlan = Annuity IR = 0.18 Duration = 36 MD = 16.6512\n"
     ]
    }
   ],
   "source": [
    "# Создадим тарифные планы\n",
    "tariff_01 = Tariff('TR01')\n",
    "tariff_01.info()\n",
    "\n",
    "tariff_02 = Tariff('TR02', IR = 0.18, DUR = 36)\n",
    "tariff_02.info()"
   ]
  },
  {
   "cell_type": "code",
   "execution_count": 33,
   "id": "565c5e25-9bc9-4954-bba7-8edd8a5e73f4",
   "metadata": {},
   "outputs": [
    {
     "name": "stdout",
     "output_type": "stream",
     "text": [
      " N [' Долг+проц', '    Платеж', 'Плат(долг)', 'Плат(проц)', '  Кум долг', '  Кум проц', 'Кум оплаты']\n",
      "01 [' 101000.00', '   4707.35', '   3707.35', '   1000.00', '   3707.35', '   1000.00', '   4707.35']\n",
      "02 ['  97255.58', '   4707.35', '   3744.42', '    962.93', '   7451.77', '   1962.93', '   9414.69']\n",
      "03 ['  93473.71', '   4707.35', '   3781.86', '    925.48', '  11233.63', '   2888.41', '  14122.04']\n",
      "04 ['  89654.03', '   4707.35', '   3819.68', '    887.66', '  15053.32', '   3776.07', '  18829.39']\n",
      "05 ['  85796.15', '   4707.35', '   3857.88', '    849.47', '  18911.20', '   4625.54', '  23536.74']\n",
      "06 ['  81899.69', '   4707.35', '   3896.46', '    810.89', '  22807.66', '   5436.43', '  28244.08']\n",
      "07 ['  77964.27', '   4707.35', '   3935.42', '    771.92', '  26743.08', '   6208.35', '  32951.43']\n",
      "08 ['  73989.49', '   4707.35', '   3974.78', '    732.57', '  30717.86', '   6940.92', '  37658.78']\n",
      "09 ['  69974.96', '   4707.35', '   4014.53', '    692.82', '  34732.38', '   7633.74', '  42366.13']\n",
      "10 ['  65920.29', '   4707.35', '   4054.67', '    652.68', '  38787.05', '   8286.42', '  47073.47']\n",
      "11 ['  61825.07', '   4707.35', '   4095.22', '    612.13', '  42882.27', '   8898.55', '  51780.82']\n",
      "12 ['  57688.90', '   4707.35', '   4136.17', '    571.18', '  47018.44', '   9469.72', '  56488.17']\n",
      "13 ['  53511.37', '   4707.35', '   4177.53', '    529.82', '  51195.97', '   9999.54', '  61195.51']\n",
      "14 ['  49292.07', '   4707.35', '   4219.31', '    488.04', '  55415.28', '  10487.58', '  65902.86']\n",
      "15 ['  45030.57', '   4707.35', '   4261.50', '    445.85', '  59676.78', '  10933.43', '  70610.21']\n",
      "16 ['  40726.45', '   4707.35', '   4304.12', '    403.23', '  63980.90', '  11336.66', '  75317.56']\n",
      "17 ['  36379.30', '   4707.35', '   4347.16', '    360.19', '  68328.05', '  11696.85', '  80024.90']\n",
      "18 ['  31988.67', '   4707.35', '   4390.63', '    316.72', '  72718.68', '  12013.57', '  84732.25']\n",
      "19 ['  27554.13', '   4707.35', '   4434.53', '    272.81', '  77153.21', '  12286.38', '  89439.60']\n",
      "20 ['  23075.25', '   4707.35', '   4478.88', '    228.47', '  81632.09', '  12514.85', '  94146.94']\n",
      "21 ['  18551.59', '   4707.35', '   4523.67', '    183.68', '  86155.76', '  12698.53', '  98854.29']\n",
      "22 ['  13982.68', '   4707.35', '   4568.90', '    138.44', '  90724.67', '  12836.97', ' 103561.64']\n",
      "23 ['   9368.09', '   4707.35', '   4614.59', '     92.75', '  95339.26', '  12929.73', ' 108268.99']\n",
      "24 ['   4707.35', '   4707.35', '   4660.74', '     46.61', ' 100000.00', '  12976.33', ' 112976.33']\n"
     ]
    }
   ],
   "source": [
    "tariff_01.print_plan(amount=100_000)"
   ]
  },
  {
   "cell_type": "markdown",
   "id": "778091a6-a2b6-4618-bd4c-851dbd2391c9",
   "metadata": {},
   "source": [
    "### Создание портфеля"
   ]
  },
  {
   "cell_type": "code",
   "execution_count": 36,
   "id": "38042cac-a366-44f1-b620-c06f2099d247",
   "metadata": {},
   "outputs": [
    {
     "name": "stdout",
     "output_type": "stream",
     "text": [
      "ID = 1 Возраст портеля 0 мес Кол-во контрактов 0\n",
      "ID = 2 Возраст портеля 0 мес Кол-во контрактов 0\n"
     ]
    }
   ],
   "source": [
    "# Создадим портфели\n",
    "GP1 = Portfolio(world = W, dwh = DWH)\n",
    "GP2 = Portfolio(world = W, dwh = DWH)\n",
    "GP1.info()\n",
    "GP2.info()"
   ]
  },
  {
   "cell_type": "code",
   "execution_count": 87,
   "id": "0730fa2c-cc07-47b5-be3d-e77508a5b6b3",
   "metadata": {},
   "outputs": [],
   "source": [
    "N_const = 1000 # Пусть будут постоянные ежемесячные выдачи "
   ]
  },
  {
   "cell_type": "code",
   "execution_count": 89,
   "id": "3d62411a-1aa3-4987-ac8a-7bc282fe963c",
   "metadata": {},
   "outputs": [
    {
     "name": "stdout",
     "output_type": "stream",
     "text": [
      "1000\n",
      "500\n"
     ]
    }
   ],
   "source": [
    "# Создадим план продаж на основе созданных тарифных планов\n",
    "issue_plan_gp = [(tariff_01, 100_000) for i in range(N_const//2)] + [(tariff_02, 50_000) for i in range(N_const//2)]\n",
    "issue_plan_il = [(tariff_01, 30_000) for i in range(N_const//2)]\n",
    "print(len(issue_plan_gp))\n",
    "print(len(issue_plan_il))"
   ]
  },
  {
   "cell_type": "code",
   "execution_count": null,
   "id": "f93f6326-7dae-4820-8c60-b6d8cd0e3ad0",
   "metadata": {},
   "outputs": [],
   "source": []
  },
  {
   "cell_type": "code",
   "execution_count": 92,
   "id": "79951cc7-a71d-40bf-89cb-85a8bd06440c",
   "metadata": {},
   "outputs": [
    {
     "name": "stdout",
     "output_type": "stream",
     "text": [
      "-2.19722\n"
     ]
    }
   ],
   "source": [
    "# фиксируем Cut_off\n",
    "pd_cutoff = 0.1\n",
    "score_cutoff = np.log(pd_cutoff / (1 - pd_cutoff))\n",
    "print('%g' % score_cutoff)"
   ]
  },
  {
   "cell_type": "code",
   "execution_count": 94,
   "id": "5db6deb5-137c-46e1-a396-20771525c7b4",
   "metadata": {},
   "outputs": [],
   "source": [
    "#GP.next_month(issue_plan, pd_cutoff = pd_cutoff, model = model0)"
   ]
  },
  {
   "cell_type": "code",
   "execution_count": null,
   "id": "bcf422e3-fd0b-4880-969d-4605e1041ce2",
   "metadata": {},
   "outputs": [],
   "source": []
  },
  {
   "cell_type": "code",
   "execution_count": 97,
   "id": "279a164d-4042-4b74-b01e-582b3f9b5100",
   "metadata": {},
   "outputs": [
    {
     "name": "stdout",
     "output_type": "stream",
     "text": [
      "ID = 1 Возраст портеля 60 мес Кол-во контрактов 32121\n",
      "ID = 2 Возраст портеля 60 мес Кол-во контрактов 32144\n"
     ]
    }
   ],
   "source": [
    "for t in range(4*12):\n",
    "    GP1.next_month(issue_plan_gp, pd_cutoff = pd_cutoff, model = model0)\n",
    "    GP2.next_month(issue_plan_gp, pd_cutoff = pd_cutoff, model = model0)\n",
    "\n",
    "DWH.update_dwh_dic() # обновим справочники DWH\n",
    "GP1.info()\n",
    "GP2.info()"
   ]
  },
  {
   "cell_type": "markdown",
   "id": "4c2eb17d-7e91-44b2-99c9-ef24b96b1ee0",
   "metadata": {},
   "source": [
    "### Обратимся к базе данных"
   ]
  },
  {
   "cell_type": "code",
   "execution_count": 100,
   "id": "81376431-f0cc-409d-8e1b-6fcecfe6ec95",
   "metadata": {},
   "outputs": [
    {
     "name": "stdout",
     "output_type": "stream",
     "text": [
      "(2111101, 7)\n"
     ]
    },
    {
     "data": {
      "text/html": [
       "<div>\n",
       "<style scoped>\n",
       "    .dataframe tbody tr th:only-of-type {\n",
       "        vertical-align: middle;\n",
       "    }\n",
       "\n",
       "    .dataframe tbody tr th {\n",
       "        vertical-align: top;\n",
       "    }\n",
       "\n",
       "    .dataframe thead th {\n",
       "        text-align: right;\n",
       "    }\n",
       "</style>\n",
       "<table border=\"1\" class=\"dataframe\">\n",
       "  <thead>\n",
       "    <tr style=\"text-align: right;\">\n",
       "      <th></th>\n",
       "      <th>PORTFOLIO_ID</th>\n",
       "      <th>CNTR_ID</th>\n",
       "      <th>SD</th>\n",
       "      <th>DOD_ID</th>\n",
       "      <th>MOB</th>\n",
       "      <th>WRTOFF_ID</th>\n",
       "      <th>CLOSED_ID</th>\n",
       "    </tr>\n",
       "  </thead>\n",
       "  <tbody>\n",
       "    <tr>\n",
       "      <th>2111096</th>\n",
       "      <td>2</td>\n",
       "      <td>98396</td>\n",
       "      <td>60</td>\n",
       "      <td>0</td>\n",
       "      <td>0</td>\n",
       "      <td>0</td>\n",
       "      <td>0</td>\n",
       "    </tr>\n",
       "    <tr>\n",
       "      <th>2111097</th>\n",
       "      <td>2</td>\n",
       "      <td>98397</td>\n",
       "      <td>60</td>\n",
       "      <td>0</td>\n",
       "      <td>0</td>\n",
       "      <td>0</td>\n",
       "      <td>0</td>\n",
       "    </tr>\n",
       "    <tr>\n",
       "      <th>2111098</th>\n",
       "      <td>2</td>\n",
       "      <td>98398</td>\n",
       "      <td>60</td>\n",
       "      <td>0</td>\n",
       "      <td>0</td>\n",
       "      <td>0</td>\n",
       "      <td>0</td>\n",
       "    </tr>\n",
       "    <tr>\n",
       "      <th>2111099</th>\n",
       "      <td>2</td>\n",
       "      <td>98399</td>\n",
       "      <td>60</td>\n",
       "      <td>0</td>\n",
       "      <td>0</td>\n",
       "      <td>0</td>\n",
       "      <td>0</td>\n",
       "    </tr>\n",
       "    <tr>\n",
       "      <th>2111100</th>\n",
       "      <td>2</td>\n",
       "      <td>98400</td>\n",
       "      <td>60</td>\n",
       "      <td>0</td>\n",
       "      <td>0</td>\n",
       "      <td>0</td>\n",
       "      <td>0</td>\n",
       "    </tr>\n",
       "  </tbody>\n",
       "</table>\n",
       "</div>"
      ],
      "text/plain": [
       "        PORTFOLIO_ID CNTR_ID  SD DOD_ID MOB WRTOFF_ID CLOSED_ID\n",
       "2111096            2   98396  60      0   0         0         0\n",
       "2111097            2   98397  60      0   0         0         0\n",
       "2111098            2   98398  60      0   0         0         0\n",
       "2111099            2   98399  60      0   0         0         0\n",
       "2111100            2   98400  60      0   0         0         0"
      ]
     },
     "execution_count": 100,
     "metadata": {},
     "output_type": "execute_result"
    }
   ],
   "source": [
    "LI = DWH.LI.reset_index(drop=True)\n",
    "print(LI.shape)\n",
    "LI.tail()"
   ]
  },
  {
   "cell_type": "code",
   "execution_count": 102,
   "id": "9fd02986-aaef-4231-abaa-10ab310dd82d",
   "metadata": {},
   "outputs": [],
   "source": [
    "ix_bad = LI['DOD_ID']>=4\n",
    "LI['BADFLAG'] = 0\n",
    "LI.loc[ix_bad,'BADFLAG'] = 1"
   ]
  },
  {
   "cell_type": "code",
   "execution_count": 104,
   "id": "81ebf15d-d22e-44b1-931a-9e5c7cc3c396",
   "metadata": {},
   "outputs": [
    {
     "data": {
      "text/plain": [
       "24"
      ]
     },
     "execution_count": 104,
     "metadata": {},
     "output_type": "execute_result"
    }
   ],
   "source": [
    "Contract.cntr_dic[13].duration"
   ]
  },
  {
   "cell_type": "code",
   "execution_count": 274,
   "id": "b56fa8a7-7ee0-420a-b957-67520c4dad8e",
   "metadata": {},
   "outputs": [
    {
     "data": {
      "image/png": "[encoded data removed]",
      "text/plain": [
       "<Figure size 1500x500 with 1 Axes>"
      ]
     },
     "metadata": {},
     "output_type": "display_data"
    }
   ],
   "source": [
    "ix = LI['CNTR_ID']==11\n",
    "plt.figure(figsize=[15,5])\n",
    "plt.plot(LI[ix].set_index('MOB')[['DOD_ID', 'WRTOFF_ID', 'CLOSED_ID']], '.-')\n",
    "plt.legend(['DOD_ID', 'WRTOFF_ID', 'CLOSED_ID'])\n",
    "plt.grid()\n",
    "plt.show()"
   ]
  },
  {
   "cell_type": "code",
   "execution_count": 108,
   "id": "d432e976-c0d6-4dad-8bc8-7c4aed79327a",
   "metadata": {},
   "outputs": [
    {
     "name": "stdout",
     "output_type": "stream",
     "text": [
      "(98400, 14)\n"
     ]
    },
    {
     "data": {
      "text/html": [
       "<div>\n",
       "<style scoped>\n",
       "    .dataframe tbody tr th:only-of-type {\n",
       "        vertical-align: middle;\n",
       "    }\n",
       "\n",
       "    .dataframe tbody tr th {\n",
       "        vertical-align: top;\n",
       "    }\n",
       "\n",
       "    .dataframe thead th {\n",
       "        text-align: right;\n",
       "    }\n",
       "</style>\n",
       "<table border=\"1\" class=\"dataframe\">\n",
       "  <thead>\n",
       "    <tr style=\"text-align: right;\">\n",
       "      <th></th>\n",
       "      <th>PORTFOLIO_ID</th>\n",
       "      <th>CNTR_ID</th>\n",
       "      <th>ISSUE_DT</th>\n",
       "      <th>WRTOFF_DT</th>\n",
       "      <th>CLOSED_DT</th>\n",
       "      <th>AMOUNT</th>\n",
       "      <th>DURATION</th>\n",
       "      <th>IR</th>\n",
       "      <th>TARIFF</th>\n",
       "      <th>MODEL_SCORE</th>\n",
       "      <th>FATED_SCORE</th>\n",
       "      <th>FATED_RESULT</th>\n",
       "      <th>MODEL_ID</th>\n",
       "      <th>NUM_IN_QUEUE</th>\n",
       "    </tr>\n",
       "  </thead>\n",
       "  <tbody>\n",
       "    <tr>\n",
       "      <th>0</th>\n",
       "      <td>1</td>\n",
       "      <td>1</td>\n",
       "      <td>1</td>\n",
       "      <td>1</td>\n",
       "      <td>1</td>\n",
       "      <td>100000</td>\n",
       "      <td>24</td>\n",
       "      <td>0.12</td>\n",
       "      <td>TR01</td>\n",
       "      <td>-2.314512</td>\n",
       "      <td>-0.611756</td>\n",
       "      <td>1</td>\n",
       "      <td>1</td>\n",
       "      <td>1</td>\n",
       "    </tr>\n",
       "    <tr>\n",
       "      <th>1</th>\n",
       "      <td>1</td>\n",
       "      <td>2</td>\n",
       "      <td>1</td>\n",
       "      <td>0</td>\n",
       "      <td>1</td>\n",
       "      <td>100000</td>\n",
       "      <td>24</td>\n",
       "      <td>0.12</td>\n",
       "      <td>TR01</td>\n",
       "      <td>-2.911534</td>\n",
       "      <td>-2.301539</td>\n",
       "      <td>0</td>\n",
       "      <td>1</td>\n",
       "      <td>4</td>\n",
       "    </tr>\n",
       "    <tr>\n",
       "      <th>2</th>\n",
       "      <td>1</td>\n",
       "      <td>3</td>\n",
       "      <td>1</td>\n",
       "      <td>0</td>\n",
       "      <td>1</td>\n",
       "      <td>100000</td>\n",
       "      <td>24</td>\n",
       "      <td>0.12</td>\n",
       "      <td>TR01</td>\n",
       "      <td>-3.006295</td>\n",
       "      <td>-2.060141</td>\n",
       "      <td>0</td>\n",
       "      <td>1</td>\n",
       "      <td>6</td>\n",
       "    </tr>\n",
       "    <tr>\n",
       "      <th>3</th>\n",
       "      <td>1</td>\n",
       "      <td>4</td>\n",
       "      <td>1</td>\n",
       "      <td>0</td>\n",
       "      <td>1</td>\n",
       "      <td>100000</td>\n",
       "      <td>24</td>\n",
       "      <td>0.12</td>\n",
       "      <td>TR01</td>\n",
       "      <td>-2.525529</td>\n",
       "      <td>-1.142518</td>\n",
       "      <td>0</td>\n",
       "      <td>1</td>\n",
       "      <td>41</td>\n",
       "    </tr>\n",
       "    <tr>\n",
       "      <th>4</th>\n",
       "      <td>1</td>\n",
       "      <td>5</td>\n",
       "      <td>1</td>\n",
       "      <td>0</td>\n",
       "      <td>1</td>\n",
       "      <td>100000</td>\n",
       "      <td>24</td>\n",
       "      <td>0.12</td>\n",
       "      <td>TR01</td>\n",
       "      <td>-2.877854</td>\n",
       "      <td>-1.444114</td>\n",
       "      <td>0</td>\n",
       "      <td>1</td>\n",
       "      <td>18</td>\n",
       "    </tr>\n",
       "    <tr>\n",
       "      <th>5</th>\n",
       "      <td>1</td>\n",
       "      <td>6</td>\n",
       "      <td>1</td>\n",
       "      <td>0</td>\n",
       "      <td>1</td>\n",
       "      <td>100000</td>\n",
       "      <td>24</td>\n",
       "      <td>0.12</td>\n",
       "      <td>TR01</td>\n",
       "      <td>-2.631762</td>\n",
       "      <td>-2.022201</td>\n",
       "      <td>0</td>\n",
       "      <td>1</td>\n",
       "      <td>5</td>\n",
       "    </tr>\n",
       "    <tr>\n",
       "      <th>6</th>\n",
       "      <td>1</td>\n",
       "      <td>7</td>\n",
       "      <td>1</td>\n",
       "      <td>0</td>\n",
       "      <td>1</td>\n",
       "      <td>100000</td>\n",
       "      <td>24</td>\n",
       "      <td>0.12</td>\n",
       "      <td>TR01</td>\n",
       "      <td>-2.767051</td>\n",
       "      <td>-2.434838</td>\n",
       "      <td>0</td>\n",
       "      <td>1</td>\n",
       "      <td>76</td>\n",
       "    </tr>\n",
       "    <tr>\n",
       "      <th>7</th>\n",
       "      <td>1</td>\n",
       "      <td>8</td>\n",
       "      <td>1</td>\n",
       "      <td>0</td>\n",
       "      <td>1</td>\n",
       "      <td>100000</td>\n",
       "      <td>24</td>\n",
       "      <td>0.12</td>\n",
       "      <td>TR01</td>\n",
       "      <td>-2.417320</td>\n",
       "      <td>-2.506441</td>\n",
       "      <td>0</td>\n",
       "      <td>1</td>\n",
       "      <td>187</td>\n",
       "    </tr>\n",
       "    <tr>\n",
       "      <th>8</th>\n",
       "      <td>1</td>\n",
       "      <td>9</td>\n",
       "      <td>1</td>\n",
       "      <td>0</td>\n",
       "      <td>1</td>\n",
       "      <td>100000</td>\n",
       "      <td>24</td>\n",
       "      <td>0.12</td>\n",
       "      <td>TR01</td>\n",
       "      <td>-2.593956</td>\n",
       "      <td>-2.782534</td>\n",
       "      <td>0</td>\n",
       "      <td>1</td>\n",
       "      <td>29</td>\n",
       "    </tr>\n",
       "    <tr>\n",
       "      <th>9</th>\n",
       "      <td>1</td>\n",
       "      <td>10</td>\n",
       "      <td>1</td>\n",
       "      <td>0</td>\n",
       "      <td>1</td>\n",
       "      <td>100000</td>\n",
       "      <td>24</td>\n",
       "      <td>0.12</td>\n",
       "      <td>TR01</td>\n",
       "      <td>-3.051233</td>\n",
       "      <td>-1.538793</td>\n",
       "      <td>0</td>\n",
       "      <td>1</td>\n",
       "      <td>15</td>\n",
       "    </tr>\n",
       "  </tbody>\n",
       "</table>\n",
       "</div>"
      ],
      "text/plain": [
       "   PORTFOLIO_ID  CNTR_ID  ISSUE_DT  WRTOFF_DT  CLOSED_DT  AMOUNT  DURATION  \\\n",
       "0             1        1         1          1          1  100000        24   \n",
       "1             1        2         1          0          1  100000        24   \n",
       "2             1        3         1          0          1  100000        24   \n",
       "3             1        4         1          0          1  100000        24   \n",
       "4             1        5         1          0          1  100000        24   \n",
       "5             1        6         1          0          1  100000        24   \n",
       "6             1        7         1          0          1  100000        24   \n",
       "7             1        8         1          0          1  100000        24   \n",
       "8             1        9         1          0          1  100000        24   \n",
       "9             1       10         1          0          1  100000        24   \n",
       "\n",
       "     IR TARIFF  MODEL_SCORE  FATED_SCORE  FATED_RESULT  MODEL_ID  NUM_IN_QUEUE  \n",
       "0  0.12   TR01    -2.314512    -0.611756             1         1             1  \n",
       "1  0.12   TR01    -2.911534    -2.301539             0         1             4  \n",
       "2  0.12   TR01    -3.006295    -2.060141             0         1             6  \n",
       "3  0.12   TR01    -2.525529    -1.142518             0         1            41  \n",
       "4  0.12   TR01    -2.877854    -1.444114             0         1            18  \n",
       "5  0.12   TR01    -2.631762    -2.022201             0         1             5  \n",
       "6  0.12   TR01    -2.767051    -2.434838             0         1            76  \n",
       "7  0.12   TR01    -2.417320    -2.506441             0         1           187  \n",
       "8  0.12   TR01    -2.593956    -2.782534             0         1            29  \n",
       "9  0.12   TR01    -3.051233    -1.538793             0         1            15  "
      ]
     },
     "execution_count": 108,
     "metadata": {},
     "output_type": "execute_result"
    }
   ],
   "source": [
    "DMC = DWH.DMContract\n",
    "print(DMC.shape)\n",
    "DMC.head(10)"
   ]
  },
  {
   "cell_type": "code",
   "execution_count": 110,
   "id": "80beed93-592a-4a1b-9339-e98d740effe7",
   "metadata": {},
   "outputs": [
    {
     "data": {
      "text/html": [
       "<div>\n",
       "<style scoped>\n",
       "    .dataframe tbody tr th:only-of-type {\n",
       "        vertical-align: middle;\n",
       "    }\n",
       "\n",
       "    .dataframe tbody tr th {\n",
       "        vertical-align: top;\n",
       "    }\n",
       "\n",
       "    .dataframe thead th {\n",
       "        text-align: right;\n",
       "    }\n",
       "</style>\n",
       "<table border=\"1\" class=\"dataframe\">\n",
       "  <thead>\n",
       "    <tr style=\"text-align: right;\">\n",
       "      <th></th>\n",
       "      <th>PORTFOLIO_ID</th>\n",
       "      <th>CNTR_ID</th>\n",
       "      <th>ISSUE_DT</th>\n",
       "      <th>WRTOFF_DT</th>\n",
       "      <th>CLOSED_DT</th>\n",
       "      <th>AMOUNT</th>\n",
       "      <th>DURATION</th>\n",
       "      <th>IR</th>\n",
       "      <th>TARIFF</th>\n",
       "      <th>MODEL_SCORE</th>\n",
       "      <th>FATED_SCORE</th>\n",
       "      <th>FATED_RESULT</th>\n",
       "      <th>MODEL_ID</th>\n",
       "      <th>NUM_IN_QUEUE</th>\n",
       "    </tr>\n",
       "  </thead>\n",
       "  <tbody>\n",
       "    <tr>\n",
       "      <th>98390</th>\n",
       "      <td>2</td>\n",
       "      <td>98391</td>\n",
       "      <td>60</td>\n",
       "      <td>0</td>\n",
       "      <td>0</td>\n",
       "      <td>50000</td>\n",
       "      <td>36</td>\n",
       "      <td>0.18</td>\n",
       "      <td>TR02</td>\n",
       "      <td>-2.226663</td>\n",
       "      <td>-3.012965</td>\n",
       "      <td>0</td>\n",
       "      <td>1</td>\n",
       "      <td>25</td>\n",
       "    </tr>\n",
       "    <tr>\n",
       "      <th>98391</th>\n",
       "      <td>2</td>\n",
       "      <td>98392</td>\n",
       "      <td>60</td>\n",
       "      <td>0</td>\n",
       "      <td>0</td>\n",
       "      <td>50000</td>\n",
       "      <td>36</td>\n",
       "      <td>0.18</td>\n",
       "      <td>TR02</td>\n",
       "      <td>-2.777406</td>\n",
       "      <td>-0.867745</td>\n",
       "      <td>0</td>\n",
       "      <td>1</td>\n",
       "      <td>11</td>\n",
       "    </tr>\n",
       "    <tr>\n",
       "      <th>98392</th>\n",
       "      <td>2</td>\n",
       "      <td>98393</td>\n",
       "      <td>60</td>\n",
       "      <td>0</td>\n",
       "      <td>0</td>\n",
       "      <td>50000</td>\n",
       "      <td>36</td>\n",
       "      <td>0.18</td>\n",
       "      <td>TR02</td>\n",
       "      <td>-3.065325</td>\n",
       "      <td>-1.465993</td>\n",
       "      <td>0</td>\n",
       "      <td>1</td>\n",
       "      <td>10</td>\n",
       "    </tr>\n",
       "    <tr>\n",
       "      <th>98393</th>\n",
       "      <td>2</td>\n",
       "      <td>98394</td>\n",
       "      <td>60</td>\n",
       "      <td>0</td>\n",
       "      <td>0</td>\n",
       "      <td>50000</td>\n",
       "      <td>36</td>\n",
       "      <td>0.18</td>\n",
       "      <td>TR02</td>\n",
       "      <td>-2.619366</td>\n",
       "      <td>-2.236253</td>\n",
       "      <td>0</td>\n",
       "      <td>1</td>\n",
       "      <td>4</td>\n",
       "    </tr>\n",
       "    <tr>\n",
       "      <th>98394</th>\n",
       "      <td>2</td>\n",
       "      <td>98395</td>\n",
       "      <td>60</td>\n",
       "      <td>0</td>\n",
       "      <td>0</td>\n",
       "      <td>50000</td>\n",
       "      <td>36</td>\n",
       "      <td>0.18</td>\n",
       "      <td>TR02</td>\n",
       "      <td>-2.910565</td>\n",
       "      <td>-1.412040</td>\n",
       "      <td>0</td>\n",
       "      <td>1</td>\n",
       "      <td>37</td>\n",
       "    </tr>\n",
       "    <tr>\n",
       "      <th>98395</th>\n",
       "      <td>2</td>\n",
       "      <td>98396</td>\n",
       "      <td>60</td>\n",
       "      <td>0</td>\n",
       "      <td>0</td>\n",
       "      <td>50000</td>\n",
       "      <td>36</td>\n",
       "      <td>0.18</td>\n",
       "      <td>TR02</td>\n",
       "      <td>-2.738119</td>\n",
       "      <td>-1.535889</td>\n",
       "      <td>0</td>\n",
       "      <td>1</td>\n",
       "      <td>13</td>\n",
       "    </tr>\n",
       "    <tr>\n",
       "      <th>98396</th>\n",
       "      <td>2</td>\n",
       "      <td>98397</td>\n",
       "      <td>60</td>\n",
       "      <td>0</td>\n",
       "      <td>0</td>\n",
       "      <td>50000</td>\n",
       "      <td>36</td>\n",
       "      <td>0.18</td>\n",
       "      <td>TR02</td>\n",
       "      <td>-3.077498</td>\n",
       "      <td>-1.819429</td>\n",
       "      <td>0</td>\n",
       "      <td>1</td>\n",
       "      <td>19</td>\n",
       "    </tr>\n",
       "    <tr>\n",
       "      <th>98397</th>\n",
       "      <td>2</td>\n",
       "      <td>98398</td>\n",
       "      <td>60</td>\n",
       "      <td>0</td>\n",
       "      <td>0</td>\n",
       "      <td>50000</td>\n",
       "      <td>36</td>\n",
       "      <td>0.18</td>\n",
       "      <td>TR02</td>\n",
       "      <td>-2.230692</td>\n",
       "      <td>-2.254208</td>\n",
       "      <td>0</td>\n",
       "      <td>1</td>\n",
       "      <td>24</td>\n",
       "    </tr>\n",
       "    <tr>\n",
       "      <th>98398</th>\n",
       "      <td>2</td>\n",
       "      <td>98399</td>\n",
       "      <td>60</td>\n",
       "      <td>0</td>\n",
       "      <td>0</td>\n",
       "      <td>50000</td>\n",
       "      <td>36</td>\n",
       "      <td>0.18</td>\n",
       "      <td>TR02</td>\n",
       "      <td>-2.221292</td>\n",
       "      <td>-1.526687</td>\n",
       "      <td>0</td>\n",
       "      <td>1</td>\n",
       "      <td>77</td>\n",
       "    </tr>\n",
       "    <tr>\n",
       "      <th>98399</th>\n",
       "      <td>2</td>\n",
       "      <td>98400</td>\n",
       "      <td>60</td>\n",
       "      <td>0</td>\n",
       "      <td>0</td>\n",
       "      <td>50000</td>\n",
       "      <td>36</td>\n",
       "      <td>0.18</td>\n",
       "      <td>TR02</td>\n",
       "      <td>-3.427949</td>\n",
       "      <td>-2.302431</td>\n",
       "      <td>0</td>\n",
       "      <td>1</td>\n",
       "      <td>2</td>\n",
       "    </tr>\n",
       "  </tbody>\n",
       "</table>\n",
       "</div>"
      ],
      "text/plain": [
       "       PORTFOLIO_ID  CNTR_ID  ISSUE_DT  WRTOFF_DT  CLOSED_DT  AMOUNT  \\\n",
       "98390             2    98391        60          0          0   50000   \n",
       "98391             2    98392        60          0          0   50000   \n",
       "98392             2    98393        60          0          0   50000   \n",
       "98393             2    98394        60          0          0   50000   \n",
       "98394             2    98395        60          0          0   50000   \n",
       "98395             2    98396        60          0          0   50000   \n",
       "98396             2    98397        60          0          0   50000   \n",
       "98397             2    98398        60          0          0   50000   \n",
       "98398             2    98399        60          0          0   50000   \n",
       "98399             2    98400        60          0          0   50000   \n",
       "\n",
       "       DURATION    IR TARIFF  MODEL_SCORE  FATED_SCORE  FATED_RESULT  \\\n",
       "98390        36  0.18   TR02    -2.226663    -3.012965             0   \n",
       "98391        36  0.18   TR02    -2.777406    -0.867745             0   \n",
       "98392        36  0.18   TR02    -3.065325    -1.465993             0   \n",
       "98393        36  0.18   TR02    -2.619366    -2.236253             0   \n",
       "98394        36  0.18   TR02    -2.910565    -1.412040             0   \n",
       "98395        36  0.18   TR02    -2.738119    -1.535889             0   \n",
       "98396        36  0.18   TR02    -3.077498    -1.819429             0   \n",
       "98397        36  0.18   TR02    -2.230692    -2.254208             0   \n",
       "98398        36  0.18   TR02    -2.221292    -1.526687             0   \n",
       "98399        36  0.18   TR02    -3.427949    -2.302431             0   \n",
       "\n",
       "       MODEL_ID  NUM_IN_QUEUE  \n",
       "98390         1            25  \n",
       "98391         1            11  \n",
       "98392         1            10  \n",
       "98393         1             4  \n",
       "98394         1            37  \n",
       "98395         1            13  \n",
       "98396         1            19  \n",
       "98397         1            24  \n",
       "98398         1            77  \n",
       "98399         1             2  "
      ]
     },
     "execution_count": 110,
     "metadata": {},
     "output_type": "execute_result"
    }
   ],
   "source": [
    "DMC.tail(10)"
   ]
  },
  {
   "cell_type": "code",
   "execution_count": 118,
   "id": "d7af486c-17ec-4fd1-b05d-13a50d3d8351",
   "metadata": {},
   "outputs": [
    {
     "data": {
      "image/png": "[encoded data removed]",
      "text/plain": [
       "<Figure size 640x480 with 1 Axes>"
      ]
     },
     "metadata": {},
     "output_type": "display_data"
    }
   ],
   "source": [
    "DMC.set_index('CNTR_ID')[['NUM_IN_QUEUE']].hist(bins=100)\n",
    "plt.title('Одобрение %0.2f' % (1/DMC['NUM_IN_QUEUE'].mean()))\n",
    "plt.yscale('log')\n",
    "plt.show()"
   ]
  },
  {
   "cell_type": "code",
   "execution_count": null,
   "id": "dc55cd82-2fb8-4a57-b7c4-553e0ee083f7",
   "metadata": {},
   "outputs": [],
   "source": []
  },
  {
   "cell_type": "code",
   "execution_count": 120,
   "id": "8d1dca01-d640-4031-afce-d38c81c4c728",
   "metadata": {},
   "outputs": [
    {
     "data": {
      "image/png": "[encoded data removed]",
      "text/plain": [
       "<Figure size 1500x300 with 1 Axes>"
      ]
     },
     "metadata": {},
     "output_type": "display_data"
    },
    {
     "data": {
      "image/png": "[encoded data removed]",
      "text/plain": [
       "<Figure size 1500x300 with 1 Axes>"
      ]
     },
     "metadata": {},
     "output_type": "display_data"
    }
   ],
   "source": [
    "ix = ((LI['WRTOFF_ID'] == 0)&\n",
    "      (LI['CLOSED_ID'] == 0)\n",
    "     )\n",
    "ix_bad = LI['BADFLAG'] == 1\n",
    "ix_gp1 = LI['PORTFOLIO_ID'] == 1\n",
    "ix_gp2 = LI['PORTFOLIO_ID'] == 2\n",
    "\n",
    "plt.figure(figsize=[15,3])\n",
    "\n",
    "T1 = LI[ix_gp1&ix].groupby('SD')[['CNTR_ID']].count()\n",
    "B1 = LI[ix_gp1&ix&ix_bad].groupby('SD')[['CNTR_ID']].count()\n",
    "plt.plot(T1)\n",
    "plt.plot(B1)\n",
    "\n",
    "T2 = LI[ix_gp2&ix].groupby('SD')[['CNTR_ID']].count()\n",
    "B2 = LI[ix_gp2&ix&ix_bad].groupby('SD')[['CNTR_ID']].count()\n",
    "plt.plot(T2)\n",
    "plt.plot(B2)\n",
    "\n",
    "\n",
    "plt.title('Динамика портфеля')\n",
    "plt.legend(['Кол-во контрактов в портфеле GP1', 'Кол-во дефолтов в портфеле GP1',\n",
    "            'Кол-во контрактов в портфеле GP2', 'Кол-во дефолтов в портфеле GP2',\n",
    "           ])\n",
    "plt.show()\n",
    "\n",
    "plt.figure(figsize=[15,3])\n",
    "plt.plot(B1/T1)\n",
    "plt.plot(B2/T2)\n",
    "plt.title('Уровень просрочки')\n",
    "plt.legend(['GP1', 'GP2'])\n",
    "plt.show()"
   ]
  },
  {
   "cell_type": "code",
   "execution_count": null,
   "id": "99bff557-e251-4969-a6f1-1cbd3fff08ac",
   "metadata": {},
   "outputs": [],
   "source": []
  },
  {
   "cell_type": "code",
   "execution_count": 123,
   "id": "57182c2a-76e4-4249-8ed1-2adacd24656f",
   "metadata": {},
   "outputs": [],
   "source": [
    "col_on = ['PORTFOLIO_ID', 'CNTR_ID']\n",
    "col_dmc = ['MODEL_SCORE', 'FATED_SCORE'] + col_on\n",
    "ix = LI['MOB'] == 12\n",
    "T = LI[ix_gp1&ix].merge(DMC[col_dmc], on = col_on, how = 'left')"
   ]
  },
  {
   "cell_type": "code",
   "execution_count": 125,
   "id": "3247f4ea-4e6a-43e8-939c-ea9cc5f7c38b",
   "metadata": {},
   "outputs": [],
   "source": [
    "sd_list = T['SD'].unique()\n",
    "dic_stat = {}\n",
    "for sd in sd_list:\n",
    "    ix = T['SD'] == sd\n",
    "    dic_stat[sd-12] = [DS.gini(T[ix], target = 'BADFLAG', score = 'MODEL_SCORE'),\n",
    "                       T[ix]['BADFLAG'].mean()\n",
    "                      ]   "
   ]
  },
  {
   "cell_type": "code",
   "execution_count": 127,
   "id": "22abb990-7711-4ff4-b364-21d575374ef6",
   "metadata": {},
   "outputs": [],
   "source": [
    "D_stat = pd.DataFrame.from_dict(dic_stat, orient = 'index', columns=['GINI', 'DR'])"
   ]
  },
  {
   "cell_type": "code",
   "execution_count": 270,
   "id": "c3891466-e6a5-4944-a9fc-099e91c68dbe",
   "metadata": {},
   "outputs": [
    {
     "data": {
      "image/png": "[encoded data removed]",
      "text/plain": [
       "<Figure size 1500x300 with 1 Axes>"
      ]
     },
     "metadata": {},
     "output_type": "display_data"
    }
   ],
   "source": [
    "\n",
    "plt.figure(figsize=[15,3])\n",
    "plt.plot(D_stat)\n",
    "plt.ylim([0,None])\n",
    "plt.legend(D_stat.columns)\n",
    "plt.grid()\n",
    "plt.show()"
   ]
  },
  {
   "cell_type": "code",
   "execution_count": 131,
   "id": "b9e9525f-6db5-4fee-bdeb-ed65670465b1",
   "metadata": {},
   "outputs": [
    {
     "data": {
      "text/html": [
       "<div>\n",
       "<style scoped>\n",
       "    .dataframe tbody tr th:only-of-type {\n",
       "        vertical-align: middle;\n",
       "    }\n",
       "\n",
       "    .dataframe tbody tr th {\n",
       "        vertical-align: top;\n",
       "    }\n",
       "\n",
       "    .dataframe thead th {\n",
       "        text-align: right;\n",
       "    }\n",
       "</style>\n",
       "<table border=\"1\" class=\"dataframe\">\n",
       "  <thead>\n",
       "    <tr style=\"text-align: right;\">\n",
       "      <th></th>\n",
       "      <th>FATED_SCORE</th>\n",
       "      <th>BADFLAG</th>\n",
       "    </tr>\n",
       "  </thead>\n",
       "  <tbody>\n",
       "    <tr>\n",
       "      <th>1100</th>\n",
       "      <td>-1.597486</td>\n",
       "      <td>0</td>\n",
       "    </tr>\n",
       "    <tr>\n",
       "      <th>1101</th>\n",
       "      <td>-1.848655</td>\n",
       "      <td>0</td>\n",
       "    </tr>\n",
       "    <tr>\n",
       "      <th>1102</th>\n",
       "      <td>-2.098613</td>\n",
       "      <td>0</td>\n",
       "    </tr>\n",
       "    <tr>\n",
       "      <th>1103</th>\n",
       "      <td>-2.283038</td>\n",
       "      <td>0</td>\n",
       "    </tr>\n",
       "    <tr>\n",
       "      <th>1104</th>\n",
       "      <td>-2.105755</td>\n",
       "      <td>0</td>\n",
       "    </tr>\n",
       "    <tr>\n",
       "      <th>...</th>\n",
       "      <td>...</td>\n",
       "      <td>...</td>\n",
       "    </tr>\n",
       "    <tr>\n",
       "      <th>13195</th>\n",
       "      <td>-1.628907</td>\n",
       "      <td>0</td>\n",
       "    </tr>\n",
       "    <tr>\n",
       "      <th>13196</th>\n",
       "      <td>-3.212725</td>\n",
       "      <td>0</td>\n",
       "    </tr>\n",
       "    <tr>\n",
       "      <th>13197</th>\n",
       "      <td>-1.099096</td>\n",
       "      <td>0</td>\n",
       "    </tr>\n",
       "    <tr>\n",
       "      <th>13198</th>\n",
       "      <td>-1.994643</td>\n",
       "      <td>0</td>\n",
       "    </tr>\n",
       "    <tr>\n",
       "      <th>13199</th>\n",
       "      <td>-1.677713</td>\n",
       "      <td>0</td>\n",
       "    </tr>\n",
       "  </tbody>\n",
       "</table>\n",
       "<p>12100 rows × 2 columns</p>\n",
       "</div>"
      ],
      "text/plain": [
       "       FATED_SCORE  BADFLAG\n",
       "1100     -1.597486        0\n",
       "1101     -1.848655        0\n",
       "1102     -2.098613        0\n",
       "1103     -2.283038        0\n",
       "1104     -2.105755        0\n",
       "...            ...      ...\n",
       "13195    -1.628907        0\n",
       "13196    -3.212725        0\n",
       "13197    -1.099096        0\n",
       "13198    -1.994643        0\n",
       "13199    -1.677713        0\n",
       "\n",
       "[12100 rows x 2 columns]"
      ]
     },
     "execution_count": 131,
     "metadata": {},
     "output_type": "execute_result"
    }
   ],
   "source": [
    "ix = T['SD'].between(24,36)\n",
    "TT = T[ix][['FATED_SCORE', 'BADFLAG']]\n",
    "TT"
   ]
  },
  {
   "cell_type": "code",
   "execution_count": 141,
   "id": "c461512b-f094-46b5-a525-25550663f75a",
   "metadata": {},
   "outputs": [],
   "source": [
    "y_gini = 0.60"
   ]
  },
  {
   "cell_type": "code",
   "execution_count": 143,
   "id": "9163a313-6828-4b0a-86bc-6deb553acb2f",
   "metadata": {},
   "outputs": [
    {
     "name": "stdout",
     "output_type": "stream",
     "text": [
      "4 0 0.543\n"
     ]
    }
   ],
   "source": [
    "model2 = DS.create_model(gini = y_gini, tto_sample=TT)\n",
    "model2.info()"
   ]
  },
  {
   "cell_type": "code",
   "execution_count": 149,
   "id": "2699d098-55c8-43c1-86ce-83239d464368",
   "metadata": {},
   "outputs": [
    {
     "data": {
      "text/plain": [
       "      converged: True\n",
       "           flag: converged\n",
       " function_calls: 7\n",
       "     iterations: 6\n",
       "           root: 0.54809497548068\n",
       "         method: brentq"
      ]
     },
     "execution_count": 149,
     "metadata": {},
     "output_type": "execute_result"
    }
   ],
   "source": [
    "model2.log_dic['root_scalar']"
   ]
  },
  {
   "cell_type": "code",
   "execution_count": 151,
   "id": "29aa33ef-0e48-4295-8837-ba25b819716a",
   "metadata": {},
   "outputs": [
    {
     "data": {
      "image/png": "[encoded data removed]",
      "text/plain": [
       "<Figure size 640x480 with 1 Axes>"
      ]
     },
     "metadata": {},
     "output_type": "display_data"
    }
   ],
   "source": [
    "dic_fun = model2.log_dic['dic_fun']\n",
    "x = list(dic_fun.keys())\n",
    "x.sort()\n",
    "y = [dic_fun[k] for k in x]\n",
    "plt.plot(x, y, '.-')\n",
    "plt.grid()"
   ]
  },
  {
   "cell_type": "code",
   "execution_count": null,
   "id": "d53b5be8-0429-4951-89f9-98f76d304e4f",
   "metadata": {},
   "outputs": [],
   "source": []
  },
  {
   "cell_type": "code",
   "execution_count": 154,
   "id": "eacd77df-3828-443c-9cfb-233c7892141a",
   "metadata": {},
   "outputs": [],
   "source": [
    "from sklearn.linear_model import LogisticRegression"
   ]
  },
  {
   "cell_type": "code",
   "execution_count": 156,
   "id": "9736fb98-f17a-4dd2-a8d3-f097119b94c2",
   "metadata": {},
   "outputs": [],
   "source": [
    "clf = LogisticRegression(random_state=42)"
   ]
  },
  {
   "cell_type": "code",
   "execution_count": 158,
   "id": "68ae9378-aa03-4e2d-9886-a633776a344b",
   "metadata": {},
   "outputs": [
    {
     "data": {
      "text/html": [
       "<div>\n",
       "<style scoped>\n",
       "    .dataframe tbody tr th:only-of-type {\n",
       "        vertical-align: middle;\n",
       "    }\n",
       "\n",
       "    .dataframe tbody tr th {\n",
       "        vertical-align: top;\n",
       "    }\n",
       "\n",
       "    .dataframe thead th {\n",
       "        text-align: right;\n",
       "    }\n",
       "</style>\n",
       "<table border=\"1\" class=\"dataframe\">\n",
       "  <thead>\n",
       "    <tr style=\"text-align: right;\">\n",
       "      <th></th>\n",
       "      <th>FATED_SCORE</th>\n",
       "      <th>BADFLAG</th>\n",
       "    </tr>\n",
       "  </thead>\n",
       "  <tbody>\n",
       "    <tr>\n",
       "      <th>1100</th>\n",
       "      <td>-1.597486</td>\n",
       "      <td>0</td>\n",
       "    </tr>\n",
       "    <tr>\n",
       "      <th>1101</th>\n",
       "      <td>-1.848655</td>\n",
       "      <td>0</td>\n",
       "    </tr>\n",
       "    <tr>\n",
       "      <th>1102</th>\n",
       "      <td>-2.098613</td>\n",
       "      <td>0</td>\n",
       "    </tr>\n",
       "    <tr>\n",
       "      <th>1103</th>\n",
       "      <td>-2.283038</td>\n",
       "      <td>0</td>\n",
       "    </tr>\n",
       "    <tr>\n",
       "      <th>1104</th>\n",
       "      <td>-2.105755</td>\n",
       "      <td>0</td>\n",
       "    </tr>\n",
       "  </tbody>\n",
       "</table>\n",
       "</div>"
      ],
      "text/plain": [
       "      FATED_SCORE  BADFLAG\n",
       "1100    -1.597486        0\n",
       "1101    -1.848655        0\n",
       "1102    -2.098613        0\n",
       "1103    -2.283038        0\n",
       "1104    -2.105755        0"
      ]
     },
     "execution_count": 158,
     "metadata": {},
     "output_type": "execute_result"
    }
   ],
   "source": [
    "TT.head()"
   ]
  },
  {
   "cell_type": "code",
   "execution_count": 160,
   "id": "5159e26c-b129-4efa-9946-5be48dac538b",
   "metadata": {},
   "outputs": [],
   "source": [
    "TT['MODEL_SCORE'] = model2.Score(np.array(TT['FATED_SCORE'].values))"
   ]
  },
  {
   "cell_type": "code",
   "execution_count": 162,
   "id": "399b4bea-6280-4f07-bf34-446c3777ea97",
   "metadata": {},
   "outputs": [],
   "source": [
    "x = TT[['MODEL_SCORE']]\n",
    "y = TT['BADFLAG']"
   ]
  },
  {
   "cell_type": "code",
   "execution_count": 164,
   "id": "9e98c763-c6c7-4b55-a8b7-63e8c00c2cdb",
   "metadata": {},
   "outputs": [
    {
     "data": {
      "text/html": [
       "<style>#sk-container-id-1 {\n",
       "  /* Definition of color scheme common for light and dark mode */\n",
       "  --sklearn-color-text: black;\n",
       "  --sklearn-color-line: gray;\n",
       "  /* Definition of color scheme for unfitted estimators */\n",
       "  --sklearn-color-unfitted-level-0: #fff5e6;\n",
       "  --sklearn-color-unfitted-level-1: #f6e4d2;\n",
       "  --sklearn-color-unfitted-level-2: #ffe0b3;\n",
       "  --sklearn-color-unfitted-level-3: chocolate;\n",
       "  /* Definition of color scheme for fitted estimators */\n",
       "  --sklearn-color-fitted-level-0: #f0f8ff;\n",
       "  --sklearn-color-fitted-level-1: #d4ebff;\n",
       "  --sklearn-color-fitted-level-2: #b3dbfd;\n",
       "  --sklearn-color-fitted-level-3: cornflowerblue;\n",
       "\n",
       "  /* Specific color for light theme */\n",
       "  --sklearn-color-text-on-default-background: var(--sg-text-color, var(--theme-code-foreground, var(--jp-content-font-color1, black)));\n",
       "  --sklearn-color-background: var(--sg-background-color, var(--theme-background, var(--jp-layout-color0, white)));\n",
       "  --sklearn-color-border-box: var(--sg-text-color, var(--theme-code-foreground, var(--jp-content-font-color1, black)));\n",
       "  --sklearn-color-icon: #696969;\n",
       "\n",
       "  @media (prefers-color-scheme: dark) {\n",
       "    /* Redefinition of color scheme for dark theme */\n",
       "    --sklearn-color-text-on-default-background: var(--sg-text-color, var(--theme-code-foreground, var(--jp-content-font-color1, white)));\n",
       "    --sklearn-color-background: var(--sg-background-color, var(--theme-background, var(--jp-layout-color0, #111)));\n",
       "    --sklearn-color-border-box: var(--sg-text-color, var(--theme-code-foreground, var(--jp-content-font-color1, white)));\n",
       "    --sklearn-color-icon: #878787;\n",
       "  }\n",
       "}\n",
       "\n",
       "#sk-container-id-1 {\n",
       "  color: var(--sklearn-color-text);\n",
       "}\n",
       "\n",
       "#sk-container-id-1 pre {\n",
       "  padding: 0;\n",
       "}\n",
       "\n",
       "#sk-container-id-1 input.sk-hidden--visually {\n",
       "  border: 0;\n",
       "  clip: rect(1px 1px 1px 1px);\n",
       "  clip: rect(1px, 1px, 1px, 1px);\n",
       "  height: 1px;\n",
       "  margin: -1px;\n",
       "  overflow: hidden;\n",
       "  padding: 0;\n",
       "  position: absolute;\n",
       "  width: 1px;\n",
       "}\n",
       "\n",
       "#sk-container-id-1 div.sk-dashed-wrapped {\n",
       "  border: 1px dashed var(--sklearn-color-line);\n",
       "  margin: 0 0.4em 0.5em 0.4em;\n",
       "  box-sizing: border-box;\n",
       "  padding-bottom: 0.4em;\n",
       "  background-color: var(--sklearn-color-background);\n",
       "}\n",
       "\n",
       "#sk-container-id-1 div.sk-container {\n",
       "  /* jupyter's `normalize.less` sets `[hidden] { display: none; }`\n",
       "     but bootstrap.min.css set `[hidden] { display: none !important; }`\n",
       "     so we also need the `!important` here to be able to override the\n",
       "     default hidden behavior on the sphinx rendered scikit-learn.org.\n",
       "     See: https://github.com/scikit-learn/scikit-learn/issues/21755 */\n",
       "  display: inline-block !important;\n",
       "  position: relative;\n",
       "}\n",
       "\n",
       "#sk-container-id-1 div.sk-text-repr-fallback {\n",
       "  display: none;\n",
       "}\n",
       "\n",
       "div.sk-parallel-item,\n",
       "div.sk-serial,\n",
       "div.sk-item {\n",
       "  /* draw centered vertical line to link estimators */\n",
       "  background-image: linear-gradient(var(--sklearn-color-text-on-default-background), var(--sklearn-color-text-on-default-background));\n",
       "  background-size: 2px 100%;\n",
       "  background-repeat: no-repeat;\n",
       "  background-position: center center;\n",
       "}\n",
       "\n",
       "/* Parallel-specific style estimator block */\n",
       "\n",
       "#sk-container-id-1 div.sk-parallel-item::after {\n",
       "  content: \"\";\n",
       "  width: 100%;\n",
       "  border-bottom: 2px solid var(--sklearn-color-text-on-default-background);\n",
       "  flex-grow: 1;\n",
       "}\n",
       "\n",
       "#sk-container-id-1 div.sk-parallel {\n",
       "  display: flex;\n",
       "  align-items: stretch;\n",
       "  justify-content: center;\n",
       "  background-color: var(--sklearn-color-background);\n",
       "  position: relative;\n",
       "}\n",
       "\n",
       "#sk-container-id-1 div.sk-parallel-item {\n",
       "  display: flex;\n",
       "  flex-direction: column;\n",
       "}\n",
       "\n",
       "#sk-container-id-1 div.sk-parallel-item:first-child::after {\n",
       "  align-self: flex-end;\n",
       "  width: 50%;\n",
       "}\n",
       "\n",
       "#sk-container-id-1 div.sk-parallel-item:last-child::after {\n",
       "  align-self: flex-start;\n",
       "  width: 50%;\n",
       "}\n",
       "\n",
       "#sk-container-id-1 div.sk-parallel-item:only-child::after {\n",
       "  width: 0;\n",
       "}\n",
       "\n",
       "/* Serial-specific style estimator block */\n",
       "\n",
       "#sk-container-id-1 div.sk-serial {\n",
       "  display: flex;\n",
       "  flex-direction: column;\n",
       "  align-items: center;\n",
       "  background-color: var(--sklearn-color-background);\n",
       "  padding-right: 1em;\n",
       "  padding-left: 1em;\n",
       "}\n",
       "\n",
       "\n",
       "/* Toggleable style: style used for estimator/Pipeline/ColumnTransformer box that is\n",
       "clickable and can be expanded/collapsed.\n",
       "- Pipeline and ColumnTransformer use this feature and define the default style\n",
       "- Estimators will overwrite some part of the style using the `sk-estimator` class\n",
       "*/\n",
       "\n",
       "/* Pipeline and ColumnTransformer style (default) */\n",
       "\n",
       "#sk-container-id-1 div.sk-toggleable {\n",
       "  /* Default theme specific background. It is overwritten whether we have a\n",
       "  specific estimator or a Pipeline/ColumnTransformer */\n",
       "  background-color: var(--sklearn-color-background);\n",
       "}\n",
       "\n",
       "/* Toggleable label */\n",
       "#sk-container-id-1 label.sk-toggleable__label {\n",
       "  cursor: pointer;\n",
       "  display: block;\n",
       "  width: 100%;\n",
       "  margin-bottom: 0;\n",
       "  padding: 0.5em;\n",
       "  box-sizing: border-box;\n",
       "  text-align: center;\n",
       "}\n",
       "\n",
       "#sk-container-id-1 label.sk-toggleable__label-arrow:before {\n",
       "  /* Arrow on the left of the label */\n",
       "  content: \"▸\";\n",
       "  float: left;\n",
       "  margin-right: 0.25em;\n",
       "  color: var(--sklearn-color-icon);\n",
       "}\n",
       "\n",
       "#sk-container-id-1 label.sk-toggleable__label-arrow:hover:before {\n",
       "  color: var(--sklearn-color-text);\n",
       "}\n",
       "\n",
       "/* Toggleable content - dropdown */\n",
       "\n",
       "#sk-container-id-1 div.sk-toggleable__content {\n",
       "  max-height: 0;\n",
       "  max-width: 0;\n",
       "  overflow: hidden;\n",
       "  text-align: left;\n",
       "  /* unfitted */\n",
       "  background-color: var(--sklearn-color-unfitted-level-0);\n",
       "}\n",
       "\n",
       "#sk-container-id-1 div.sk-toggleable__content.fitted {\n",
       "  /* fitted */\n",
       "  background-color: var(--sklearn-color-fitted-level-0);\n",
       "}\n",
       "\n",
       "#sk-container-id-1 div.sk-toggleable__content pre {\n",
       "  margin: 0.2em;\n",
       "  border-radius: 0.25em;\n",
       "  color: var(--sklearn-color-text);\n",
       "  /* unfitted */\n",
       "  background-color: var(--sklearn-color-unfitted-level-0);\n",
       "}\n",
       "\n",
       "#sk-container-id-1 div.sk-toggleable__content.fitted pre {\n",
       "  /* unfitted */\n",
       "  background-color: var(--sklearn-color-fitted-level-0);\n",
       "}\n",
       "\n",
       "#sk-container-id-1 input.sk-toggleable__control:checked~div.sk-toggleable__content {\n",
       "  /* Expand drop-down */\n",
       "  max-height: 200px;\n",
       "  max-width: 100%;\n",
       "  overflow: auto;\n",
       "}\n",
       "\n",
       "#sk-container-id-1 input.sk-toggleable__control:checked~label.sk-toggleable__label-arrow:before {\n",
       "  content: \"▾\";\n",
       "}\n",
       "\n",
       "/* Pipeline/ColumnTransformer-specific style */\n",
       "\n",
       "#sk-container-id-1 div.sk-label input.sk-toggleable__control:checked~label.sk-toggleable__label {\n",
       "  color: var(--sklearn-color-text);\n",
       "  background-color: var(--sklearn-color-unfitted-level-2);\n",
       "}\n",
       "\n",
       "#sk-container-id-1 div.sk-label.fitted input.sk-toggleable__control:checked~label.sk-toggleable__label {\n",
       "  background-color: var(--sklearn-color-fitted-level-2);\n",
       "}\n",
       "\n",
       "/* Estimator-specific style */\n",
       "\n",
       "/* Colorize estimator box */\n",
       "#sk-container-id-1 div.sk-estimator input.sk-toggleable__control:checked~label.sk-toggleable__label {\n",
       "  /* unfitted */\n",
       "  background-color: var(--sklearn-color-unfitted-level-2);\n",
       "}\n",
       "\n",
       "#sk-container-id-1 div.sk-estimator.fitted input.sk-toggleable__control:checked~label.sk-toggleable__label {\n",
       "  /* fitted */\n",
       "  background-color: var(--sklearn-color-fitted-level-2);\n",
       "}\n",
       "\n",
       "#sk-container-id-1 div.sk-label label.sk-toggleable__label,\n",
       "#sk-container-id-1 div.sk-label label {\n",
       "  /* The background is the default theme color */\n",
       "  color: var(--sklearn-color-text-on-default-background);\n",
       "}\n",
       "\n",
       "/* On hover, darken the color of the background */\n",
       "#sk-container-id-1 div.sk-label:hover label.sk-toggleable__label {\n",
       "  color: var(--sklearn-color-text);\n",
       "  background-color: var(--sklearn-color-unfitted-level-2);\n",
       "}\n",
       "\n",
       "/* Label box, darken color on hover, fitted */\n",
       "#sk-container-id-1 div.sk-label.fitted:hover label.sk-toggleable__label.fitted {\n",
       "  color: var(--sklearn-color-text);\n",
       "  background-color: var(--sklearn-color-fitted-level-2);\n",
       "}\n",
       "\n",
       "/* Estimator label */\n",
       "\n",
       "#sk-container-id-1 div.sk-label label {\n",
       "  font-family: monospace;\n",
       "  font-weight: bold;\n",
       "  display: inline-block;\n",
       "  line-height: 1.2em;\n",
       "}\n",
       "\n",
       "#sk-container-id-1 div.sk-label-container {\n",
       "  text-align: center;\n",
       "}\n",
       "\n",
       "/* Estimator-specific */\n",
       "#sk-container-id-1 div.sk-estimator {\n",
       "  font-family: monospace;\n",
       "  border: 1px dotted var(--sklearn-color-border-box);\n",
       "  border-radius: 0.25em;\n",
       "  box-sizing: border-box;\n",
       "  margin-bottom: 0.5em;\n",
       "  /* unfitted */\n",
       "  background-color: var(--sklearn-color-unfitted-level-0);\n",
       "}\n",
       "\n",
       "#sk-container-id-1 div.sk-estimator.fitted {\n",
       "  /* fitted */\n",
       "  background-color: var(--sklearn-color-fitted-level-0);\n",
       "}\n",
       "\n",
       "/* on hover */\n",
       "#sk-container-id-1 div.sk-estimator:hover {\n",
       "  /* unfitted */\n",
       "  background-color: var(--sklearn-color-unfitted-level-2);\n",
       "}\n",
       "\n",
       "#sk-container-id-1 div.sk-estimator.fitted:hover {\n",
       "  /* fitted */\n",
       "  background-color: var(--sklearn-color-fitted-level-2);\n",
       "}\n",
       "\n",
       "/* Specification for estimator info (e.g. \"i\" and \"?\") */\n",
       "\n",
       "/* Common style for \"i\" and \"?\" */\n",
       "\n",
       ".sk-estimator-doc-link,\n",
       "a:link.sk-estimator-doc-link,\n",
       "a:visited.sk-estimator-doc-link {\n",
       "  float: right;\n",
       "  font-size: smaller;\n",
       "  line-height: 1em;\n",
       "  font-family: monospace;\n",
       "  background-color: var(--sklearn-color-background);\n",
       "  border-radius: 1em;\n",
       "  height: 1em;\n",
       "  width: 1em;\n",
       "  text-decoration: none !important;\n",
       "  margin-left: 1ex;\n",
       "  /* unfitted */\n",
       "  border: var(--sklearn-color-unfitted-level-1) 1pt solid;\n",
       "  color: var(--sklearn-color-unfitted-level-1);\n",
       "}\n",
       "\n",
       ".sk-estimator-doc-link.fitted,\n",
       "a:link.sk-estimator-doc-link.fitted,\n",
       "a:visited.sk-estimator-doc-link.fitted {\n",
       "  /* fitted */\n",
       "  border: var(--sklearn-color-fitted-level-1) 1pt solid;\n",
       "  color: var(--sklearn-color-fitted-level-1);\n",
       "}\n",
       "\n",
       "/* On hover */\n",
       "div.sk-estimator:hover .sk-estimator-doc-link:hover,\n",
       ".sk-estimator-doc-link:hover,\n",
       "div.sk-label-container:hover .sk-estimator-doc-link:hover,\n",
       ".sk-estimator-doc-link:hover {\n",
       "  /* unfitted */\n",
       "  background-color: var(--sklearn-color-unfitted-level-3);\n",
       "  color: var(--sklearn-color-background);\n",
       "  text-decoration: none;\n",
       "}\n",
       "\n",
       "div.sk-estimator.fitted:hover .sk-estimator-doc-link.fitted:hover,\n",
       ".sk-estimator-doc-link.fitted:hover,\n",
       "div.sk-label-container:hover .sk-estimator-doc-link.fitted:hover,\n",
       ".sk-estimator-doc-link.fitted:hover {\n",
       "  /* fitted */\n",
       "  background-color: var(--sklearn-color-fitted-level-3);\n",
       "  color: var(--sklearn-color-background);\n",
       "  text-decoration: none;\n",
       "}\n",
       "\n",
       "/* Span, style for the box shown on hovering the info icon */\n",
       ".sk-estimator-doc-link span {\n",
       "  display: none;\n",
       "  z-index: 9999;\n",
       "  position: relative;\n",
       "  font-weight: normal;\n",
       "  right: .2ex;\n",
       "  padding: .5ex;\n",
       "  margin: .5ex;\n",
       "  width: min-content;\n",
       "  min-width: 20ex;\n",
       "  max-width: 50ex;\n",
       "  color: var(--sklearn-color-text);\n",
       "  box-shadow: 2pt 2pt 4pt #999;\n",
       "  /* unfitted */\n",
       "  background: var(--sklearn-color-unfitted-level-0);\n",
       "  border: .5pt solid var(--sklearn-color-unfitted-level-3);\n",
       "}\n",
       "\n",
       ".sk-estimator-doc-link.fitted span {\n",
       "  /* fitted */\n",
       "  background: var(--sklearn-color-fitted-level-0);\n",
       "  border: var(--sklearn-color-fitted-level-3);\n",
       "}\n",
       "\n",
       ".sk-estimator-doc-link:hover span {\n",
       "  display: block;\n",
       "}\n",
       "\n",
       "/* \"?\"-specific style due to the `<a>` HTML tag */\n",
       "\n",
       "#sk-container-id-1 a.estimator_doc_link {\n",
       "  float: right;\n",
       "  font-size: 1rem;\n",
       "  line-height: 1em;\n",
       "  font-family: monospace;\n",
       "  background-color: var(--sklearn-color-background);\n",
       "  border-radius: 1rem;\n",
       "  height: 1rem;\n",
       "  width: 1rem;\n",
       "  text-decoration: none;\n",
       "  /* unfitted */\n",
       "  color: var(--sklearn-color-unfitted-level-1);\n",
       "  border: var(--sklearn-color-unfitted-level-1) 1pt solid;\n",
       "}\n",
       "\n",
       "#sk-container-id-1 a.estimator_doc_link.fitted {\n",
       "  /* fitted */\n",
       "  border: var(--sklearn-color-fitted-level-1) 1pt solid;\n",
       "  color: var(--sklearn-color-fitted-level-1);\n",
       "}\n",
       "\n",
       "/* On hover */\n",
       "#sk-container-id-1 a.estimator_doc_link:hover {\n",
       "  /* unfitted */\n",
       "  background-color: var(--sklearn-color-unfitted-level-3);\n",
       "  color: var(--sklearn-color-background);\n",
       "  text-decoration: none;\n",
       "}\n",
       "\n",
       "#sk-container-id-1 a.estimator_doc_link.fitted:hover {\n",
       "  /* fitted */\n",
       "  background-color: var(--sklearn-color-fitted-level-3);\n",
       "}\n",
       "</style><div id=\"sk-container-id-1\" class=\"sk-top-container\"><div class=\"sk-text-repr-fallback\"><pre>LogisticRegression(random_state=42)</pre><b>In a Jupyter environment, please rerun this cell to show the HTML representation or trust the notebook. <br />On GitHub, the HTML representation is unable to render, please try loading this page with nbviewer.org.</b></div><div class=\"sk-container\" hidden><div class=\"sk-item\"><div class=\"sk-estimator fitted sk-toggleable\"><input class=\"sk-toggleable__control sk-hidden--visually\" id=\"sk-estimator-id-1\" type=\"checkbox\" checked><label for=\"sk-estimator-id-1\" class=\"sk-toggleable__label fitted sk-toggleable__label-arrow fitted\">&nbsp;&nbsp;LogisticRegression<a class=\"sk-estimator-doc-link fitted\" rel=\"noreferrer\" target=\"_blank\" href=\"https://scikit-learn.org/1.4/modules/generated/sklearn.linear_model.LogisticRegression.html\">?<span>Documentation for LogisticRegression</span></a><span class=\"sk-estimator-doc-link fitted\">i<span>Fitted</span></span></label><div class=\"sk-toggleable__content fitted\"><pre>LogisticRegression(random_state=42)</pre></div> </div></div></div></div>"
      ],
      "text/plain": [
       "LogisticRegression(random_state=42)"
      ]
     },
     "execution_count": 164,
     "metadata": {},
     "output_type": "execute_result"
    }
   ],
   "source": [
    "clf.fit(X = x, y = y)"
   ]
  },
  {
   "cell_type": "code",
   "execution_count": 166,
   "id": "81b37503-342e-41b3-8a7b-2952d310ad15",
   "metadata": {},
   "outputs": [
    {
     "data": {
      "text/plain": [
       "(-0.9684765092437198, 1.5253163423124625)"
      ]
     },
     "execution_count": 166,
     "metadata": {},
     "output_type": "execute_result"
    }
   ],
   "source": [
    "A = clf.intercept_[0]\n",
    "B = clf.coef_[0][0]\n",
    "A, B"
   ]
  },
  {
   "cell_type": "code",
   "execution_count": 168,
   "id": "64d9b49a-cc53-4e5c-a608-8799f729356a",
   "metadata": {},
   "outputs": [],
   "source": [
    "TT['PD'] = DS.sigmoid(A+B*TT['MODEL_SCORE'])"
   ]
  },
  {
   "cell_type": "code",
   "execution_count": 170,
   "id": "8517f176-bb7e-4d01-8da4-c5b9af2cb6b2",
   "metadata": {},
   "outputs": [
    {
     "data": {
      "text/plain": [
       "(0.04529577079431643, 0.04528925619834711)"
      ]
     },
     "execution_count": 170,
     "metadata": {},
     "output_type": "execute_result"
    }
   ],
   "source": [
    "TT['PD'].mean(), TT['BADFLAG'].mean()"
   ]
  },
  {
   "cell_type": "code",
   "execution_count": 172,
   "id": "c3bca9c8-3646-4cf8-b770-cc433a4856f1",
   "metadata": {},
   "outputs": [
    {
     "data": {
      "text/plain": [
       "<Axes: >"
      ]
     },
     "execution_count": 172,
     "metadata": {},
     "output_type": "execute_result"
    },
    {
     "data": {
      "image/png": "[encoded data removed]",
      "text/plain": [
       "<Figure size 640x480 with 1 Axes>"
      ]
     },
     "metadata": {},
     "output_type": "display_data"
    }
   ],
   "source": [
    "TT['PD'].hist(bins=100)"
   ]
  },
  {
   "cell_type": "code",
   "execution_count": null,
   "id": "756f900e-d705-4db3-bfc2-b0a38525c7f7",
   "metadata": {},
   "outputs": [],
   "source": []
  },
  {
   "cell_type": "code",
   "execution_count": 175,
   "id": "6179a296-7d1a-4eef-95f6-c7adc03d5a71",
   "metadata": {},
   "outputs": [],
   "source": [
    "TT['GRADE'] =  TT['PD'].apply(lambda x: DS.grade(x))"
   ]
  },
  {
   "cell_type": "code",
   "execution_count": 177,
   "id": "fc21fdd7-5908-487e-bae0-f5e292221079",
   "metadata": {},
   "outputs": [],
   "source": [
    "TT_GR = TT.groupby('GRADE')[['BADFLAG', 'PD']].mean().rename(columns = {'BADFLAG': 'DR', 'PD': 'PD_MEAN'})"
   ]
  },
  {
   "cell_type": "code",
   "execution_count": 179,
   "id": "965f01f6-d23b-4d46-83cc-95adb40c52c3",
   "metadata": {},
   "outputs": [],
   "source": [
    "TT_GR['PD_MEDIAN'] = TT.groupby('GRADE')[['PD']].median()"
   ]
  },
  {
   "cell_type": "code",
   "execution_count": 185,
   "id": "3ca3bf5b-9995-4a2f-882f-2337ca478ed3",
   "metadata": {},
   "outputs": [],
   "source": [
    "TT_GR['CNT'] = TT.groupby('GRADE')[['BADFLAG']].count()"
   ]
  },
  {
   "cell_type": "code",
   "execution_count": 187,
   "id": "a1c31a46-c258-4ea1-adde-6c11f55d0541",
   "metadata": {},
   "outputs": [
    {
     "data": {
      "text/html": [
       "<div>\n",
       "<style scoped>\n",
       "    .dataframe tbody tr th:only-of-type {\n",
       "        vertical-align: middle;\n",
       "    }\n",
       "\n",
       "    .dataframe tbody tr th {\n",
       "        vertical-align: top;\n",
       "    }\n",
       "\n",
       "    .dataframe thead th {\n",
       "        text-align: right;\n",
       "    }\n",
       "</style>\n",
       "<table border=\"1\" class=\"dataframe\">\n",
       "  <thead>\n",
       "    <tr style=\"text-align: right;\">\n",
       "      <th></th>\n",
       "      <th>DR</th>\n",
       "      <th>PD_MEAN</th>\n",
       "      <th>PD_MEDIAN</th>\n",
       "      <th>CNT</th>\n",
       "    </tr>\n",
       "    <tr>\n",
       "      <th>GRADE</th>\n",
       "      <th></th>\n",
       "      <th></th>\n",
       "      <th></th>\n",
       "      <th></th>\n",
       "    </tr>\n",
       "  </thead>\n",
       "  <tbody>\n",
       "    <tr>\n",
       "      <th>1</th>\n",
       "      <td>0.012650</td>\n",
       "      <td>0.003231</td>\n",
       "      <td>0.003285</td>\n",
       "      <td>1502</td>\n",
       "    </tr>\n",
       "    <tr>\n",
       "      <th>2</th>\n",
       "      <td>0.015524</td>\n",
       "      <td>0.006652</td>\n",
       "      <td>0.006618</td>\n",
       "      <td>773</td>\n",
       "    </tr>\n",
       "    <tr>\n",
       "      <th>3</th>\n",
       "      <td>0.019095</td>\n",
       "      <td>0.009414</td>\n",
       "      <td>0.009380</td>\n",
       "      <td>995</td>\n",
       "    </tr>\n",
       "    <tr>\n",
       "      <th>4</th>\n",
       "      <td>0.006683</td>\n",
       "      <td>0.013250</td>\n",
       "      <td>0.013210</td>\n",
       "      <td>1197</td>\n",
       "    </tr>\n",
       "    <tr>\n",
       "      <th>5</th>\n",
       "      <td>0.010156</td>\n",
       "      <td>0.018756</td>\n",
       "      <td>0.018760</td>\n",
       "      <td>1280</td>\n",
       "    </tr>\n",
       "    <tr>\n",
       "      <th>6</th>\n",
       "      <td>0.019302</td>\n",
       "      <td>0.026429</td>\n",
       "      <td>0.026256</td>\n",
       "      <td>1347</td>\n",
       "    </tr>\n",
       "    <tr>\n",
       "      <th>7</th>\n",
       "      <td>0.031153</td>\n",
       "      <td>0.037030</td>\n",
       "      <td>0.036703</td>\n",
       "      <td>1284</td>\n",
       "    </tr>\n",
       "    <tr>\n",
       "      <th>8</th>\n",
       "      <td>0.035088</td>\n",
       "      <td>0.052675</td>\n",
       "      <td>0.052397</td>\n",
       "      <td>1140</td>\n",
       "    </tr>\n",
       "    <tr>\n",
       "      <th>9</th>\n",
       "      <td>0.070064</td>\n",
       "      <td>0.074012</td>\n",
       "      <td>0.073489</td>\n",
       "      <td>942</td>\n",
       "    </tr>\n",
       "    <tr>\n",
       "      <th>10</th>\n",
       "      <td>0.112426</td>\n",
       "      <td>0.104792</td>\n",
       "      <td>0.103690</td>\n",
       "      <td>676</td>\n",
       "    </tr>\n",
       "    <tr>\n",
       "      <th>11</th>\n",
       "      <td>0.163636</td>\n",
       "      <td>0.147055</td>\n",
       "      <td>0.145732</td>\n",
       "      <td>440</td>\n",
       "    </tr>\n",
       "    <tr>\n",
       "      <th>12</th>\n",
       "      <td>0.225080</td>\n",
       "      <td>0.207295</td>\n",
       "      <td>0.204634</td>\n",
       "      <td>311</td>\n",
       "    </tr>\n",
       "    <tr>\n",
       "      <th>13</th>\n",
       "      <td>0.342857</td>\n",
       "      <td>0.295978</td>\n",
       "      <td>0.292413</td>\n",
       "      <td>140</td>\n",
       "    </tr>\n",
       "    <tr>\n",
       "      <th>14</th>\n",
       "      <td>0.416667</td>\n",
       "      <td>0.416795</td>\n",
       "      <td>0.406749</td>\n",
       "      <td>48</td>\n",
       "    </tr>\n",
       "    <tr>\n",
       "      <th>15</th>\n",
       "      <td>0.750000</td>\n",
       "      <td>0.573217</td>\n",
       "      <td>0.542831</td>\n",
       "      <td>24</td>\n",
       "    </tr>\n",
       "    <tr>\n",
       "      <th>16</th>\n",
       "      <td>1.000000</td>\n",
       "      <td>0.720499</td>\n",
       "      <td>0.720499</td>\n",
       "      <td>1</td>\n",
       "    </tr>\n",
       "  </tbody>\n",
       "</table>\n",
       "</div>"
      ],
      "text/plain": [
       "             DR   PD_MEAN  PD_MEDIAN   CNT\n",
       "GRADE                                     \n",
       "1      0.012650  0.003231   0.003285  1502\n",
       "2      0.015524  0.006652   0.006618   773\n",
       "3      0.019095  0.009414   0.009380   995\n",
       "4      0.006683  0.013250   0.013210  1197\n",
       "5      0.010156  0.018756   0.018760  1280\n",
       "6      0.019302  0.026429   0.026256  1347\n",
       "7      0.031153  0.037030   0.036703  1284\n",
       "8      0.035088  0.052675   0.052397  1140\n",
       "9      0.070064  0.074012   0.073489   942\n",
       "10     0.112426  0.104792   0.103690   676\n",
       "11     0.163636  0.147055   0.145732   440\n",
       "12     0.225080  0.207295   0.204634   311\n",
       "13     0.342857  0.295978   0.292413   140\n",
       "14     0.416667  0.416795   0.406749    48\n",
       "15     0.750000  0.573217   0.542831    24\n",
       "16     1.000000  0.720499   0.720499     1"
      ]
     },
     "execution_count": 187,
     "metadata": {},
     "output_type": "execute_result"
    }
   ],
   "source": [
    "TT_GR"
   ]
  },
  {
   "cell_type": "code",
   "execution_count": 183,
   "id": "477a1ccb-0eac-422b-9c4a-fe7e19e878d5",
   "metadata": {},
   "outputs": [
    {
     "data": {
      "text/plain": [
       "<matplotlib.legend.Legend at 0x776d3db76330>"
      ]
     },
     "execution_count": 183,
     "metadata": {},
     "output_type": "execute_result"
    },
    {
     "data": {
      "image/png": "[encoded data removed]",
      "text/plain": [
       "<Figure size 1500x300 with 1 Axes>"
      ]
     },
     "metadata": {},
     "output_type": "display_data"
    }
   ],
   "source": [
    "TT_GR[['DR', 'PD_MEAN', 'PD_MEDIAN']].plot(figsize=[15,3], marker = 's')\n",
    "plt.grid()\n",
    "plt.legend(['DR - уровень дефолта рейтинга',\n",
    "            'PD - среднее значение вероятности дефлота в рейтинге',\n",
    "            'PD - медианное значение вероятности дефлота в рейтинге'])"
   ]
  },
  {
   "cell_type": "code",
   "execution_count": null,
   "id": "b4ec9b6a-b3ed-4ce6-a83d-9d48d3ad5d45",
   "metadata": {},
   "outputs": [],
   "source": []
  },
  {
   "cell_type": "code",
   "execution_count": 189,
   "id": "b9769083-525a-42c5-bbf9-89aa0abc58f9",
   "metadata": {},
   "outputs": [
    {
     "data": {
      "text/plain": [
       "0.1"
      ]
     },
     "execution_count": 189,
     "metadata": {},
     "output_type": "execute_result"
    }
   ],
   "source": [
    "pd_cutoff"
   ]
  },
  {
   "cell_type": "code",
   "execution_count": 191,
   "id": "84f89dac-ad10-421c-b71f-b8745513ea7f",
   "metadata": {},
   "outputs": [
    {
     "name": "stdout",
     "output_type": "stream",
     "text": [
      "ID = 1 Возраст портеля 72 мес Кол-во контрактов 32583\n",
      "ID = 2 Возраст портеля 72 мес Кол-во контрактов 32550\n"
     ]
    }
   ],
   "source": [
    "for t in range(1*12):\n",
    "    GP1.next_month(issue_plan_gp, pd_cutoff = pd_cutoff, model = model0)\n",
    "    GP2.next_month(issue_plan_gp, pd_cutoff = pd_cutoff, model = model2)\n",
    "\n",
    "DWH.update_dwh_dic() # обновим справочники DWH\n",
    "GP1.info()\n",
    "GP2.info()"
   ]
  },
  {
   "cell_type": "code",
   "execution_count": null,
   "id": "75e5e866-e646-4936-8e96-c95637d196e3",
   "metadata": {},
   "outputs": [],
   "source": []
  },
  {
   "cell_type": "code",
   "execution_count": 194,
   "id": "4538bf23-493b-4c21-a5df-edff6b640671",
   "metadata": {},
   "outputs": [
    {
     "name": "stdout",
     "output_type": "stream",
     "text": [
      "(2888392, 7)\n"
     ]
    },
    {
     "data": {
      "text/html": [
       "<div>\n",
       "<style scoped>\n",
       "    .dataframe tbody tr th:only-of-type {\n",
       "        vertical-align: middle;\n",
       "    }\n",
       "\n",
       "    .dataframe tbody tr th {\n",
       "        vertical-align: top;\n",
       "    }\n",
       "\n",
       "    .dataframe thead th {\n",
       "        text-align: right;\n",
       "    }\n",
       "</style>\n",
       "<table border=\"1\" class=\"dataframe\">\n",
       "  <thead>\n",
       "    <tr style=\"text-align: right;\">\n",
       "      <th></th>\n",
       "      <th>PORTFOLIO_ID</th>\n",
       "      <th>CNTR_ID</th>\n",
       "      <th>SD</th>\n",
       "      <th>DOD_ID</th>\n",
       "      <th>MOB</th>\n",
       "      <th>WRTOFF_ID</th>\n",
       "      <th>CLOSED_ID</th>\n",
       "    </tr>\n",
       "  </thead>\n",
       "  <tbody>\n",
       "    <tr>\n",
       "      <th>2888387</th>\n",
       "      <td>2</td>\n",
       "      <td>122396</td>\n",
       "      <td>72</td>\n",
       "      <td>0</td>\n",
       "      <td>0</td>\n",
       "      <td>0</td>\n",
       "      <td>0</td>\n",
       "    </tr>\n",
       "    <tr>\n",
       "      <th>2888388</th>\n",
       "      <td>2</td>\n",
       "      <td>122397</td>\n",
       "      <td>72</td>\n",
       "      <td>0</td>\n",
       "      <td>0</td>\n",
       "      <td>0</td>\n",
       "      <td>0</td>\n",
       "    </tr>\n",
       "    <tr>\n",
       "      <th>2888389</th>\n",
       "      <td>2</td>\n",
       "      <td>122398</td>\n",
       "      <td>72</td>\n",
       "      <td>0</td>\n",
       "      <td>0</td>\n",
       "      <td>0</td>\n",
       "      <td>0</td>\n",
       "    </tr>\n",
       "    <tr>\n",
       "      <th>2888390</th>\n",
       "      <td>2</td>\n",
       "      <td>122399</td>\n",
       "      <td>72</td>\n",
       "      <td>0</td>\n",
       "      <td>0</td>\n",
       "      <td>0</td>\n",
       "      <td>0</td>\n",
       "    </tr>\n",
       "    <tr>\n",
       "      <th>2888391</th>\n",
       "      <td>2</td>\n",
       "      <td>122400</td>\n",
       "      <td>72</td>\n",
       "      <td>0</td>\n",
       "      <td>0</td>\n",
       "      <td>0</td>\n",
       "      <td>0</td>\n",
       "    </tr>\n",
       "  </tbody>\n",
       "</table>\n",
       "</div>"
      ],
      "text/plain": [
       "        PORTFOLIO_ID CNTR_ID  SD DOD_ID MOB WRTOFF_ID CLOSED_ID\n",
       "2888387            2  122396  72      0   0         0         0\n",
       "2888388            2  122397  72      0   0         0         0\n",
       "2888389            2  122398  72      0   0         0         0\n",
       "2888390            2  122399  72      0   0         0         0\n",
       "2888391            2  122400  72      0   0         0         0"
      ]
     },
     "execution_count": 194,
     "metadata": {},
     "output_type": "execute_result"
    }
   ],
   "source": [
    "LI = DWH.LI.reset_index(drop=True)\n",
    "print(LI.shape)\n",
    "LI.tail()"
   ]
  },
  {
   "cell_type": "code",
   "execution_count": 196,
   "id": "e986be7c-063a-4326-83ff-fd84cadec911",
   "metadata": {},
   "outputs": [],
   "source": [
    "ix_bad = LI['DOD_ID']>=4\n",
    "LI['BADFLAG'] = 0\n",
    "LI.loc[ix_bad,'BADFLAG'] = 1"
   ]
  },
  {
   "cell_type": "code",
   "execution_count": null,
   "id": "5df0ace2-8253-4412-8a63-b53bc6ede4cd",
   "metadata": {},
   "outputs": [],
   "source": []
  },
  {
   "cell_type": "code",
   "execution_count": 199,
   "id": "14d3e3da-2421-4460-bf35-8a032c435130",
   "metadata": {},
   "outputs": [
    {
     "data": {
      "image/png": "[encoded data removed]",
      "text/plain": [
       "<Figure size 1500x300 with 1 Axes>"
      ]
     },
     "metadata": {},
     "output_type": "display_data"
    },
    {
     "data": {
      "image/png": "[encoded data removed]",
      "text/plain": [
       "<Figure size 1500x300 with 1 Axes>"
      ]
     },
     "metadata": {},
     "output_type": "display_data"
    }
   ],
   "source": [
    "ix = ((LI['WRTOFF_ID'] == 0)&\n",
    "      (LI['CLOSED_ID'] == 0)\n",
    "     )\n",
    "ix_bad = LI['BADFLAG'] == 1\n",
    "ix_gp1 = LI['PORTFOLIO_ID'] == 1\n",
    "ix_gp2 = LI['PORTFOLIO_ID'] == 2\n",
    "\n",
    "plt.figure(figsize=[15,3])\n",
    "\n",
    "T1 = LI[ix_gp1&ix].groupby('SD')[['CNTR_ID']].count()\n",
    "B1 = LI[ix_gp1&ix&ix_bad].groupby('SD')[['CNTR_ID']].count()\n",
    "plt.plot(T1)\n",
    "plt.plot(B1)\n",
    "\n",
    "T2 = LI[ix_gp2&ix].groupby('SD')[['CNTR_ID']].count()\n",
    "B2 = LI[ix_gp2&ix&ix_bad].groupby('SD')[['CNTR_ID']].count()\n",
    "plt.plot(T2)\n",
    "plt.plot(B2)\n",
    "\n",
    "\n",
    "plt.title('Динамика портфеля')\n",
    "plt.legend(['Кол-во контрактов в портфеле GP1', 'Кол-во дефолтов в портфеле GP1',\n",
    "            'Кол-во контрактов в портфеле GP2', 'Кол-во дефолтов в портфеле GP2',\n",
    "           ])\n",
    "plt.show()\n",
    "\n",
    "plt.figure(figsize=[15,3])\n",
    "plt.plot(B1/T1)\n",
    "plt.plot(B2/T2)\n",
    "plt.title('Уровень просрочки')\n",
    "plt.legend(['GP1', 'GP2'])\n",
    "plt.show()"
   ]
  },
  {
   "cell_type": "code",
   "execution_count": null,
   "id": "66b7d959-e86c-4940-b8ff-83989022c21c",
   "metadata": {},
   "outputs": [],
   "source": []
  },
  {
   "cell_type": "code",
   "execution_count": null,
   "id": "bc1ea67c-5cdc-48e9-8520-ed0a21e45899",
   "metadata": {},
   "outputs": [],
   "source": []
  },
  {
   "cell_type": "code",
   "execution_count": 201,
   "id": "5fb86cf4-f6be-4dbe-a645-5b354e3594da",
   "metadata": {},
   "outputs": [
    {
     "name": "stdout",
     "output_type": "stream",
     "text": [
      "ID = 1 Возраст портеля 72 мес Кол-во контрактов 32583\n",
      "ID = 2 Возраст портеля 72 мес Кол-во контрактов 32550\n"
     ]
    }
   ],
   "source": [
    "for p in Portfolio.portfolio_dic:\n",
    "    Portfolio.portfolio_dic[p].info()"
   ]
  },
  {
   "cell_type": "code",
   "execution_count": null,
   "id": "18493c15-43b0-40c7-b369-65bcc68fc89a",
   "metadata": {},
   "outputs": [],
   "source": []
  },
  {
   "cell_type": "code",
   "execution_count": null,
   "id": "63302fe4-7e21-4ab7-9085-35f12b9b9dd1",
   "metadata": {},
   "outputs": [],
   "source": []
  },
  {
   "cell_type": "code",
   "execution_count": null,
   "id": "7ec7e56f-19b3-4441-a593-59fe3b755873",
   "metadata": {},
   "outputs": [],
   "source": []
  },
  {
   "cell_type": "markdown",
   "id": "122e2c8f-92b7-4ec0-8948-fc9f27f0fb9b",
   "metadata": {},
   "source": [
    "### Калибровка на TTC"
   ]
  },
  {
   "cell_type": "code",
   "execution_count": 210,
   "id": "d9e00046-a0f1-439b-b853-8e9c42df5ab3",
   "metadata": {},
   "outputs": [
    {
     "data": {
      "text/plain": [
       "(0.05434710743801653, 0.04528925619834711)"
      ]
     },
     "execution_count": 210,
     "metadata": {},
     "output_type": "execute_result"
    }
   ],
   "source": [
    "DR =  TT['BADFLAG'].mean()\n",
    "CT = 1.2*DR\n",
    "CT, DR"
   ]
  },
  {
   "cell_type": "code",
   "execution_count": 212,
   "id": "aa486d33-78e7-454c-8962-ca4644348a99",
   "metadata": {},
   "outputs": [
    {
     "data": {
      "text/plain": [
       "(1.2, 0.9905124653739612)"
      ]
     },
     "execution_count": 212,
     "metadata": {},
     "output_type": "execute_result"
    }
   ],
   "source": [
    "w_defl = CT/DR\n",
    "w_good = (1-CT)/(1-DR)\n",
    "w_defl, w_good"
   ]
  },
  {
   "cell_type": "code",
   "execution_count": 214,
   "id": "3541557d-2b48-4a33-90ca-4e5ed906a682",
   "metadata": {},
   "outputs": [],
   "source": [
    "clf_ct = LogisticRegression(random_state=42)"
   ]
  },
  {
   "cell_type": "code",
   "execution_count": 216,
   "id": "f65b2ebd-b44a-472f-9350-0557605b6a6e",
   "metadata": {},
   "outputs": [],
   "source": [
    "sample_weight = [w_defl if t == 1 else w_good for t in TT['BADFLAG']]"
   ]
  },
  {
   "cell_type": "code",
   "execution_count": 218,
   "id": "7d1f3194-1e3c-4129-9ebe-67ba11a3b051",
   "metadata": {},
   "outputs": [
    {
     "data": {
      "text/html": [
       "<style>#sk-container-id-2 {\n",
       "  /* Definition of color scheme common for light and dark mode */\n",
       "  --sklearn-color-text: black;\n",
       "  --sklearn-color-line: gray;\n",
       "  /* Definition of color scheme for unfitted estimators */\n",
       "  --sklearn-color-unfitted-level-0: #fff5e6;\n",
       "  --sklearn-color-unfitted-level-1: #f6e4d2;\n",
       "  --sklearn-color-unfitted-level-2: #ffe0b3;\n",
       "  --sklearn-color-unfitted-level-3: chocolate;\n",
       "  /* Definition of color scheme for fitted estimators */\n",
       "  --sklearn-color-fitted-level-0: #f0f8ff;\n",
       "  --sklearn-color-fitted-level-1: #d4ebff;\n",
       "  --sklearn-color-fitted-level-2: #b3dbfd;\n",
       "  --sklearn-color-fitted-level-3: cornflowerblue;\n",
       "\n",
       "  /* Specific color for light theme */\n",
       "  --sklearn-color-text-on-default-background: var(--sg-text-color, var(--theme-code-foreground, var(--jp-content-font-color1, black)));\n",
       "  --sklearn-color-background: var(--sg-background-color, var(--theme-background, var(--jp-layout-color0, white)));\n",
       "  --sklearn-color-border-box: var(--sg-text-color, var(--theme-code-foreground, var(--jp-content-font-color1, black)));\n",
       "  --sklearn-color-icon: #696969;\n",
       "\n",
       "  @media (prefers-color-scheme: dark) {\n",
       "    /* Redefinition of color scheme for dark theme */\n",
       "    --sklearn-color-text-on-default-background: var(--sg-text-color, var(--theme-code-foreground, var(--jp-content-font-color1, white)));\n",
       "    --sklearn-color-background: var(--sg-background-color, var(--theme-background, var(--jp-layout-color0, #111)));\n",
       "    --sklearn-color-border-box: var(--sg-text-color, var(--theme-code-foreground, var(--jp-content-font-color1, white)));\n",
       "    --sklearn-color-icon: #878787;\n",
       "  }\n",
       "}\n",
       "\n",
       "#sk-container-id-2 {\n",
       "  color: var(--sklearn-color-text);\n",
       "}\n",
       "\n",
       "#sk-container-id-2 pre {\n",
       "  padding: 0;\n",
       "}\n",
       "\n",
       "#sk-container-id-2 input.sk-hidden--visually {\n",
       "  border: 0;\n",
       "  clip: rect(1px 1px 1px 1px);\n",
       "  clip: rect(1px, 1px, 1px, 1px);\n",
       "  height: 1px;\n",
       "  margin: -1px;\n",
       "  overflow: hidden;\n",
       "  padding: 0;\n",
       "  position: absolute;\n",
       "  width: 1px;\n",
       "}\n",
       "\n",
       "#sk-container-id-2 div.sk-dashed-wrapped {\n",
       "  border: 1px dashed var(--sklearn-color-line);\n",
       "  margin: 0 0.4em 0.5em 0.4em;\n",
       "  box-sizing: border-box;\n",
       "  padding-bottom: 0.4em;\n",
       "  background-color: var(--sklearn-color-background);\n",
       "}\n",
       "\n",
       "#sk-container-id-2 div.sk-container {\n",
       "  /* jupyter's `normalize.less` sets `[hidden] { display: none; }`\n",
       "     but bootstrap.min.css set `[hidden] { display: none !important; }`\n",
       "     so we also need the `!important` here to be able to override the\n",
       "     default hidden behavior on the sphinx rendered scikit-learn.org.\n",
       "     See: https://github.com/scikit-learn/scikit-learn/issues/21755 */\n",
       "  display: inline-block !important;\n",
       "  position: relative;\n",
       "}\n",
       "\n",
       "#sk-container-id-2 div.sk-text-repr-fallback {\n",
       "  display: none;\n",
       "}\n",
       "\n",
       "div.sk-parallel-item,\n",
       "div.sk-serial,\n",
       "div.sk-item {\n",
       "  /* draw centered vertical line to link estimators */\n",
       "  background-image: linear-gradient(var(--sklearn-color-text-on-default-background), var(--sklearn-color-text-on-default-background));\n",
       "  background-size: 2px 100%;\n",
       "  background-repeat: no-repeat;\n",
       "  background-position: center center;\n",
       "}\n",
       "\n",
       "/* Parallel-specific style estimator block */\n",
       "\n",
       "#sk-container-id-2 div.sk-parallel-item::after {\n",
       "  content: \"\";\n",
       "  width: 100%;\n",
       "  border-bottom: 2px solid var(--sklearn-color-text-on-default-background);\n",
       "  flex-grow: 1;\n",
       "}\n",
       "\n",
       "#sk-container-id-2 div.sk-parallel {\n",
       "  display: flex;\n",
       "  align-items: stretch;\n",
       "  justify-content: center;\n",
       "  background-color: var(--sklearn-color-background);\n",
       "  position: relative;\n",
       "}\n",
       "\n",
       "#sk-container-id-2 div.sk-parallel-item {\n",
       "  display: flex;\n",
       "  flex-direction: column;\n",
       "}\n",
       "\n",
       "#sk-container-id-2 div.sk-parallel-item:first-child::after {\n",
       "  align-self: flex-end;\n",
       "  width: 50%;\n",
       "}\n",
       "\n",
       "#sk-container-id-2 div.sk-parallel-item:last-child::after {\n",
       "  align-self: flex-start;\n",
       "  width: 50%;\n",
       "}\n",
       "\n",
       "#sk-container-id-2 div.sk-parallel-item:only-child::after {\n",
       "  width: 0;\n",
       "}\n",
       "\n",
       "/* Serial-specific style estimator block */\n",
       "\n",
       "#sk-container-id-2 div.sk-serial {\n",
       "  display: flex;\n",
       "  flex-direction: column;\n",
       "  align-items: center;\n",
       "  background-color: var(--sklearn-color-background);\n",
       "  padding-right: 1em;\n",
       "  padding-left: 1em;\n",
       "}\n",
       "\n",
       "\n",
       "/* Toggleable style: style used for estimator/Pipeline/ColumnTransformer box that is\n",
       "clickable and can be expanded/collapsed.\n",
       "- Pipeline and ColumnTransformer use this feature and define the default style\n",
       "- Estimators will overwrite some part of the style using the `sk-estimator` class\n",
       "*/\n",
       "\n",
       "/* Pipeline and ColumnTransformer style (default) */\n",
       "\n",
       "#sk-container-id-2 div.sk-toggleable {\n",
       "  /* Default theme specific background. It is overwritten whether we have a\n",
       "  specific estimator or a Pipeline/ColumnTransformer */\n",
       "  background-color: var(--sklearn-color-background);\n",
       "}\n",
       "\n",
       "/* Toggleable label */\n",
       "#sk-container-id-2 label.sk-toggleable__label {\n",
       "  cursor: pointer;\n",
       "  display: block;\n",
       "  width: 100%;\n",
       "  margin-bottom: 0;\n",
       "  padding: 0.5em;\n",
       "  box-sizing: border-box;\n",
       "  text-align: center;\n",
       "}\n",
       "\n",
       "#sk-container-id-2 label.sk-toggleable__label-arrow:before {\n",
       "  /* Arrow on the left of the label */\n",
       "  content: \"▸\";\n",
       "  float: left;\n",
       "  margin-right: 0.25em;\n",
       "  color: var(--sklearn-color-icon);\n",
       "}\n",
       "\n",
       "#sk-container-id-2 label.sk-toggleable__label-arrow:hover:before {\n",
       "  color: var(--sklearn-color-text);\n",
       "}\n",
       "\n",
       "/* Toggleable content - dropdown */\n",
       "\n",
       "#sk-container-id-2 div.sk-toggleable__content {\n",
       "  max-height: 0;\n",
       "  max-width: 0;\n",
       "  overflow: hidden;\n",
       "  text-align: left;\n",
       "  /* unfitted */\n",
       "  background-color: var(--sklearn-color-unfitted-level-0);\n",
       "}\n",
       "\n",
       "#sk-container-id-2 div.sk-toggleable__content.fitted {\n",
       "  /* fitted */\n",
       "  background-color: var(--sklearn-color-fitted-level-0);\n",
       "}\n",
       "\n",
       "#sk-container-id-2 div.sk-toggleable__content pre {\n",
       "  margin: 0.2em;\n",
       "  border-radius: 0.25em;\n",
       "  color: var(--sklearn-color-text);\n",
       "  /* unfitted */\n",
       "  background-color: var(--sklearn-color-unfitted-level-0);\n",
       "}\n",
       "\n",
       "#sk-container-id-2 div.sk-toggleable__content.fitted pre {\n",
       "  /* unfitted */\n",
       "  background-color: var(--sklearn-color-fitted-level-0);\n",
       "}\n",
       "\n",
       "#sk-container-id-2 input.sk-toggleable__control:checked~div.sk-toggleable__content {\n",
       "  /* Expand drop-down */\n",
       "  max-height: 200px;\n",
       "  max-width: 100%;\n",
       "  overflow: auto;\n",
       "}\n",
       "\n",
       "#sk-container-id-2 input.sk-toggleable__control:checked~label.sk-toggleable__label-arrow:before {\n",
       "  content: \"▾\";\n",
       "}\n",
       "\n",
       "/* Pipeline/ColumnTransformer-specific style */\n",
       "\n",
       "#sk-container-id-2 div.sk-label input.sk-toggleable__control:checked~label.sk-toggleable__label {\n",
       "  color: var(--sklearn-color-text);\n",
       "  background-color: var(--sklearn-color-unfitted-level-2);\n",
       "}\n",
       "\n",
       "#sk-container-id-2 div.sk-label.fitted input.sk-toggleable__control:checked~label.sk-toggleable__label {\n",
       "  background-color: var(--sklearn-color-fitted-level-2);\n",
       "}\n",
       "\n",
       "/* Estimator-specific style */\n",
       "\n",
       "/* Colorize estimator box */\n",
       "#sk-container-id-2 div.sk-estimator input.sk-toggleable__control:checked~label.sk-toggleable__label {\n",
       "  /* unfitted */\n",
       "  background-color: var(--sklearn-color-unfitted-level-2);\n",
       "}\n",
       "\n",
       "#sk-container-id-2 div.sk-estimator.fitted input.sk-toggleable__control:checked~label.sk-toggleable__label {\n",
       "  /* fitted */\n",
       "  background-color: var(--sklearn-color-fitted-level-2);\n",
       "}\n",
       "\n",
       "#sk-container-id-2 div.sk-label label.sk-toggleable__label,\n",
       "#sk-container-id-2 div.sk-label label {\n",
       "  /* The background is the default theme color */\n",
       "  color: var(--sklearn-color-text-on-default-background);\n",
       "}\n",
       "\n",
       "/* On hover, darken the color of the background */\n",
       "#sk-container-id-2 div.sk-label:hover label.sk-toggleable__label {\n",
       "  color: var(--sklearn-color-text);\n",
       "  background-color: var(--sklearn-color-unfitted-level-2);\n",
       "}\n",
       "\n",
       "/* Label box, darken color on hover, fitted */\n",
       "#sk-container-id-2 div.sk-label.fitted:hover label.sk-toggleable__label.fitted {\n",
       "  color: var(--sklearn-color-text);\n",
       "  background-color: var(--sklearn-color-fitted-level-2);\n",
       "}\n",
       "\n",
       "/* Estimator label */\n",
       "\n",
       "#sk-container-id-2 div.sk-label label {\n",
       "  font-family: monospace;\n",
       "  font-weight: bold;\n",
       "  display: inline-block;\n",
       "  line-height: 1.2em;\n",
       "}\n",
       "\n",
       "#sk-container-id-2 div.sk-label-container {\n",
       "  text-align: center;\n",
       "}\n",
       "\n",
       "/* Estimator-specific */\n",
       "#sk-container-id-2 div.sk-estimator {\n",
       "  font-family: monospace;\n",
       "  border: 1px dotted var(--sklearn-color-border-box);\n",
       "  border-radius: 0.25em;\n",
       "  box-sizing: border-box;\n",
       "  margin-bottom: 0.5em;\n",
       "  /* unfitted */\n",
       "  background-color: var(--sklearn-color-unfitted-level-0);\n",
       "}\n",
       "\n",
       "#sk-container-id-2 div.sk-estimator.fitted {\n",
       "  /* fitted */\n",
       "  background-color: var(--sklearn-color-fitted-level-0);\n",
       "}\n",
       "\n",
       "/* on hover */\n",
       "#sk-container-id-2 div.sk-estimator:hover {\n",
       "  /* unfitted */\n",
       "  background-color: var(--sklearn-color-unfitted-level-2);\n",
       "}\n",
       "\n",
       "#sk-container-id-2 div.sk-estimator.fitted:hover {\n",
       "  /* fitted */\n",
       "  background-color: var(--sklearn-color-fitted-level-2);\n",
       "}\n",
       "\n",
       "/* Specification for estimator info (e.g. \"i\" and \"?\") */\n",
       "\n",
       "/* Common style for \"i\" and \"?\" */\n",
       "\n",
       ".sk-estimator-doc-link,\n",
       "a:link.sk-estimator-doc-link,\n",
       "a:visited.sk-estimator-doc-link {\n",
       "  float: right;\n",
       "  font-size: smaller;\n",
       "  line-height: 1em;\n",
       "  font-family: monospace;\n",
       "  background-color: var(--sklearn-color-background);\n",
       "  border-radius: 1em;\n",
       "  height: 1em;\n",
       "  width: 1em;\n",
       "  text-decoration: none !important;\n",
       "  margin-left: 1ex;\n",
       "  /* unfitted */\n",
       "  border: var(--sklearn-color-unfitted-level-1) 1pt solid;\n",
       "  color: var(--sklearn-color-unfitted-level-1);\n",
       "}\n",
       "\n",
       ".sk-estimator-doc-link.fitted,\n",
       "a:link.sk-estimator-doc-link.fitted,\n",
       "a:visited.sk-estimator-doc-link.fitted {\n",
       "  /* fitted */\n",
       "  border: var(--sklearn-color-fitted-level-1) 1pt solid;\n",
       "  color: var(--sklearn-color-fitted-level-1);\n",
       "}\n",
       "\n",
       "/* On hover */\n",
       "div.sk-estimator:hover .sk-estimator-doc-link:hover,\n",
       ".sk-estimator-doc-link:hover,\n",
       "div.sk-label-container:hover .sk-estimator-doc-link:hover,\n",
       ".sk-estimator-doc-link:hover {\n",
       "  /* unfitted */\n",
       "  background-color: var(--sklearn-color-unfitted-level-3);\n",
       "  color: var(--sklearn-color-background);\n",
       "  text-decoration: none;\n",
       "}\n",
       "\n",
       "div.sk-estimator.fitted:hover .sk-estimator-doc-link.fitted:hover,\n",
       ".sk-estimator-doc-link.fitted:hover,\n",
       "div.sk-label-container:hover .sk-estimator-doc-link.fitted:hover,\n",
       ".sk-estimator-doc-link.fitted:hover {\n",
       "  /* fitted */\n",
       "  background-color: var(--sklearn-color-fitted-level-3);\n",
       "  color: var(--sklearn-color-background);\n",
       "  text-decoration: none;\n",
       "}\n",
       "\n",
       "/* Span, style for the box shown on hovering the info icon */\n",
       ".sk-estimator-doc-link span {\n",
       "  display: none;\n",
       "  z-index: 9999;\n",
       "  position: relative;\n",
       "  font-weight: normal;\n",
       "  right: .2ex;\n",
       "  padding: .5ex;\n",
       "  margin: .5ex;\n",
       "  width: min-content;\n",
       "  min-width: 20ex;\n",
       "  max-width: 50ex;\n",
       "  color: var(--sklearn-color-text);\n",
       "  box-shadow: 2pt 2pt 4pt #999;\n",
       "  /* unfitted */\n",
       "  background: var(--sklearn-color-unfitted-level-0);\n",
       "  border: .5pt solid var(--sklearn-color-unfitted-level-3);\n",
       "}\n",
       "\n",
       ".sk-estimator-doc-link.fitted span {\n",
       "  /* fitted */\n",
       "  background: var(--sklearn-color-fitted-level-0);\n",
       "  border: var(--sklearn-color-fitted-level-3);\n",
       "}\n",
       "\n",
       ".sk-estimator-doc-link:hover span {\n",
       "  display: block;\n",
       "}\n",
       "\n",
       "/* \"?\"-specific style due to the `<a>` HTML tag */\n",
       "\n",
       "#sk-container-id-2 a.estimator_doc_link {\n",
       "  float: right;\n",
       "  font-size: 1rem;\n",
       "  line-height: 1em;\n",
       "  font-family: monospace;\n",
       "  background-color: var(--sklearn-color-background);\n",
       "  border-radius: 1rem;\n",
       "  height: 1rem;\n",
       "  width: 1rem;\n",
       "  text-decoration: none;\n",
       "  /* unfitted */\n",
       "  color: var(--sklearn-color-unfitted-level-1);\n",
       "  border: var(--sklearn-color-unfitted-level-1) 1pt solid;\n",
       "}\n",
       "\n",
       "#sk-container-id-2 a.estimator_doc_link.fitted {\n",
       "  /* fitted */\n",
       "  border: var(--sklearn-color-fitted-level-1) 1pt solid;\n",
       "  color: var(--sklearn-color-fitted-level-1);\n",
       "}\n",
       "\n",
       "/* On hover */\n",
       "#sk-container-id-2 a.estimator_doc_link:hover {\n",
       "  /* unfitted */\n",
       "  background-color: var(--sklearn-color-unfitted-level-3);\n",
       "  color: var(--sklearn-color-background);\n",
       "  text-decoration: none;\n",
       "}\n",
       "\n",
       "#sk-container-id-2 a.estimator_doc_link.fitted:hover {\n",
       "  /* fitted */\n",
       "  background-color: var(--sklearn-color-fitted-level-3);\n",
       "}\n",
       "</style><div id=\"sk-container-id-2\" class=\"sk-top-container\"><div class=\"sk-text-repr-fallback\"><pre>LogisticRegression(random_state=42)</pre><b>In a Jupyter environment, please rerun this cell to show the HTML representation or trust the notebook. <br />On GitHub, the HTML representation is unable to render, please try loading this page with nbviewer.org.</b></div><div class=\"sk-container\" hidden><div class=\"sk-item\"><div class=\"sk-estimator fitted sk-toggleable\"><input class=\"sk-toggleable__control sk-hidden--visually\" id=\"sk-estimator-id-2\" type=\"checkbox\" checked><label for=\"sk-estimator-id-2\" class=\"sk-toggleable__label fitted sk-toggleable__label-arrow fitted\">&nbsp;&nbsp;LogisticRegression<a class=\"sk-estimator-doc-link fitted\" rel=\"noreferrer\" target=\"_blank\" href=\"https://scikit-learn.org/1.4/modules/generated/sklearn.linear_model.LogisticRegression.html\">?<span>Documentation for LogisticRegression</span></a><span class=\"sk-estimator-doc-link fitted\">i<span>Fitted</span></span></label><div class=\"sk-toggleable__content fitted\"><pre>LogisticRegression(random_state=42)</pre></div> </div></div></div></div>"
      ],
      "text/plain": [
       "LogisticRegression(random_state=42)"
      ]
     },
     "execution_count": 218,
     "metadata": {},
     "output_type": "execute_result"
    }
   ],
   "source": [
    "clf_ct.fit(X = x, y = y, sample_weight=sample_weight)"
   ]
  },
  {
   "cell_type": "code",
   "execution_count": 220,
   "id": "bc6c60d5-fcc4-41c8-922f-ff6677af71fa",
   "metadata": {},
   "outputs": [
    {
     "data": {
      "text/plain": [
       "(-0.7849755568958, 1.5194292360339796)"
      ]
     },
     "execution_count": 220,
     "metadata": {},
     "output_type": "execute_result"
    }
   ],
   "source": [
    "A_CT = clf_ct.intercept_[0]\n",
    "B_CT = clf_ct.coef_[0][0]\n",
    "A_CT, B_CT"
   ]
  },
  {
   "cell_type": "code",
   "execution_count": 226,
   "id": "3438de8e-3eb1-49c3-92d7-285713f572d7",
   "metadata": {},
   "outputs": [],
   "source": [
    "TT['PD_TTC'] = DS.sigmoid(A_CT + B_CT * TT['MODEL_SCORE'])"
   ]
  },
  {
   "cell_type": "code",
   "execution_count": 228,
   "id": "104316aa-d71a-4392-a63d-b6a06e66f9ce",
   "metadata": {},
   "outputs": [
    {
     "data": {
      "text/plain": [
       "(0.053323393425779415, 0.04528925619834711)"
      ]
     },
     "execution_count": 228,
     "metadata": {},
     "output_type": "execute_result"
    }
   ],
   "source": [
    "TT['PD_TTC'].mean(), TT['BADFLAG'].mean()"
   ]
  },
  {
   "cell_type": "code",
   "execution_count": 230,
   "id": "2553ee7d-e448-4ea6-8330-df5d07fdbe72",
   "metadata": {},
   "outputs": [
    {
     "data": {
      "text/plain": [
       "<Axes: >"
      ]
     },
     "execution_count": 230,
     "metadata": {},
     "output_type": "execute_result"
    },
    {
     "data": {
      "image/png": "[encoded data removed]",
      "text/plain": [
       "<Figure size 640x480 with 1 Axes>"
      ]
     },
     "metadata": {},
     "output_type": "display_data"
    }
   ],
   "source": [
    "TT['PD_TTC'].hist(bins=100)"
   ]
  },
  {
   "cell_type": "code",
   "execution_count": 232,
   "id": "8f4788c6-327f-4fb6-ad98-63e3a7d89e51",
   "metadata": {},
   "outputs": [],
   "source": [
    "TT['BADFLAG_W'] = np.where(TT['BADFLAG'] == 1, w_defl, 0)"
   ]
  },
  {
   "cell_type": "code",
   "execution_count": 234,
   "id": "ed9cd137-a2af-4f9d-9c7c-ecdbcfe4daa2",
   "metadata": {},
   "outputs": [
    {
     "data": {
      "text/plain": [
       "-6.938893903907228e-18"
      ]
     },
     "execution_count": 234,
     "metadata": {},
     "output_type": "execute_result"
    }
   ],
   "source": [
    "TT['BADFLAG_W'].mean() - CT"
   ]
  },
  {
   "cell_type": "code",
   "execution_count": 236,
   "id": "e843460b-ebf8-4e62-9b7b-16c20911590d",
   "metadata": {},
   "outputs": [],
   "source": [
    "TT['SMPL_WEIGHT'] = np.where(TT['BADFLAG'] == 1, w_defl, w_good)\n",
    "TT['PD_TTC_W'] = TT['PD_TTC'] * TT['SMPL_WEIGHT']"
   ]
  },
  {
   "cell_type": "code",
   "execution_count": 238,
   "id": "745f9e40-0e7a-446b-87dd-7bb26a6d78ed",
   "metadata": {},
   "outputs": [
    {
     "data": {
      "text/plain": [
       "(12099.999999999998, 12100)"
      ]
     },
     "execution_count": 238,
     "metadata": {},
     "output_type": "execute_result"
    }
   ],
   "source": [
    "TT['SMPL_WEIGHT'].sum(), TT.shape[0]"
   ]
  },
  {
   "cell_type": "code",
   "execution_count": 240,
   "id": "01d8613c-7ee8-447b-bdf7-3ab17445a006",
   "metadata": {},
   "outputs": [],
   "source": [
    "assert abs(TT['BADFLAG_W'].mean() - CT) < 1e-4"
   ]
  },
  {
   "cell_type": "code",
   "execution_count": 242,
   "id": "feab2245-9f40-458c-8097-baadd45d9247",
   "metadata": {},
   "outputs": [],
   "source": [
    "assert abs(TT['PD_TTC_W'].mean() - CT) < 1e-4"
   ]
  },
  {
   "cell_type": "code",
   "execution_count": 244,
   "id": "d155c4d6-b7cb-40d5-859f-73839fa6756f",
   "metadata": {},
   "outputs": [
    {
     "data": {
      "text/plain": [
       "(-6.556855539519013e-06, -6.938893903907228e-18)"
      ]
     },
     "execution_count": 244,
     "metadata": {},
     "output_type": "execute_result"
    }
   ],
   "source": [
    "TT['PD_TTC_W'].mean() - CT, TT['BADFLAG_W'].mean() - CT"
   ]
  },
  {
   "cell_type": "code",
   "execution_count": null,
   "id": "7592a407-722e-403d-be2d-c227016d4cc3",
   "metadata": {},
   "outputs": [],
   "source": []
  },
  {
   "cell_type": "code",
   "execution_count": 247,
   "id": "258c3272-870c-43b7-b358-a558952f1a82",
   "metadata": {},
   "outputs": [],
   "source": [
    "TT['GRADE_TTC'] =  TT['PD_TTC'].apply(lambda x: DS.grade(x))"
   ]
  },
  {
   "cell_type": "code",
   "execution_count": 249,
   "id": "faced819-25f7-4270-a98a-f9e64488b9fa",
   "metadata": {},
   "outputs": [],
   "source": [
    "TT_GR_PIT = TT.groupby('GRADE')[['SMPL_WEIGHT', 'BADFLAG', 'BADFLAG_W', 'PD_TTC_W']].sum()"
   ]
  },
  {
   "cell_type": "code",
   "execution_count": 251,
   "id": "a8abea70-d9c8-404c-8586-798867fba55c",
   "metadata": {},
   "outputs": [],
   "source": [
    "TT_GR_PIT['DR'] = TT_GR_PIT['BADFLAG_W']/TT_GR_PIT['SMPL_WEIGHT']"
   ]
  },
  {
   "cell_type": "code",
   "execution_count": 253,
   "id": "24dfdce6-df36-4605-aae5-cadc5f6a53e0",
   "metadata": {},
   "outputs": [],
   "source": [
    "TT_GR_PIT['PD_TTC_W'] = TT_GR_PIT['PD_TTC_W']/TT_GR_PIT['SMPL_WEIGHT']"
   ]
  },
  {
   "cell_type": "code",
   "execution_count": 255,
   "id": "b4437ef9-b1b3-497c-9ea3-00ffeed3941a",
   "metadata": {},
   "outputs": [
    {
     "data": {
      "text/html": [
       "<div>\n",
       "<style scoped>\n",
       "    .dataframe tbody tr th:only-of-type {\n",
       "        vertical-align: middle;\n",
       "    }\n",
       "\n",
       "    .dataframe tbody tr th {\n",
       "        vertical-align: top;\n",
       "    }\n",
       "\n",
       "    .dataframe thead th {\n",
       "        text-align: right;\n",
       "    }\n",
       "</style>\n",
       "<table border=\"1\" class=\"dataframe\">\n",
       "  <thead>\n",
       "    <tr style=\"text-align: right;\">\n",
       "      <th></th>\n",
       "      <th>SMPL_WEIGHT</th>\n",
       "      <th>BADFLAG</th>\n",
       "      <th>BADFLAG_W</th>\n",
       "      <th>PD_TTC_W</th>\n",
       "      <th>DR</th>\n",
       "    </tr>\n",
       "    <tr>\n",
       "      <th>GRADE</th>\n",
       "      <th></th>\n",
       "      <th></th>\n",
       "      <th></th>\n",
       "      <th></th>\n",
       "      <th></th>\n",
       "    </tr>\n",
       "  </thead>\n",
       "  <tbody>\n",
       "    <tr>\n",
       "      <th>1</th>\n",
       "      <td>1491.729986</td>\n",
       "      <td>19</td>\n",
       "      <td>22.8</td>\n",
       "      <td>0.003949</td>\n",
       "      <td>0.015284</td>\n",
       "    </tr>\n",
       "    <tr>\n",
       "      <th>2</th>\n",
       "      <td>768.179986</td>\n",
       "      <td>12</td>\n",
       "      <td>14.4</td>\n",
       "      <td>0.008105</td>\n",
       "      <td>0.018746</td>\n",
       "    </tr>\n",
       "    <tr>\n",
       "      <th>3</th>\n",
       "      <td>989.540166</td>\n",
       "      <td>19</td>\n",
       "      <td>22.8</td>\n",
       "      <td>0.011449</td>\n",
       "      <td>0.023041</td>\n",
       "    </tr>\n",
       "    <tr>\n",
       "      <th>4</th>\n",
       "      <td>1187.319321</td>\n",
       "      <td>8</td>\n",
       "      <td>9.6</td>\n",
       "      <td>0.016077</td>\n",
       "      <td>0.008085</td>\n",
       "    </tr>\n",
       "    <tr>\n",
       "      <th>5</th>\n",
       "      <td>1270.579294</td>\n",
       "      <td>13</td>\n",
       "      <td>15.6</td>\n",
       "      <td>0.022703</td>\n",
       "      <td>0.012278</td>\n",
       "    </tr>\n",
       "    <tr>\n",
       "      <th>6</th>\n",
       "      <td>1339.666967</td>\n",
       "      <td>26</td>\n",
       "      <td>31.2</td>\n",
       "      <td>0.031897</td>\n",
       "      <td>0.023289</td>\n",
       "    </tr>\n",
       "    <tr>\n",
       "      <th>7</th>\n",
       "      <td>1280.197507</td>\n",
       "      <td>40</td>\n",
       "      <td>48.0</td>\n",
       "      <td>0.044533</td>\n",
       "      <td>0.037494</td>\n",
       "    </tr>\n",
       "    <tr>\n",
       "      <th>8</th>\n",
       "      <td>1137.563712</td>\n",
       "      <td>40</td>\n",
       "      <td>48.0</td>\n",
       "      <td>0.063047</td>\n",
       "      <td>0.042195</td>\n",
       "    </tr>\n",
       "    <tr>\n",
       "      <th>9</th>\n",
       "      <td>946.888920</td>\n",
       "      <td>66</td>\n",
       "      <td>79.2</td>\n",
       "      <td>0.088108</td>\n",
       "      <td>0.083642</td>\n",
       "    </tr>\n",
       "    <tr>\n",
       "      <th>10</th>\n",
       "      <td>685.507479</td>\n",
       "      <td>76</td>\n",
       "      <td>91.2</td>\n",
       "      <td>0.123780</td>\n",
       "      <td>0.133040</td>\n",
       "    </tr>\n",
       "    <tr>\n",
       "      <th>11</th>\n",
       "      <td>450.908587</td>\n",
       "      <td>72</td>\n",
       "      <td>86.4</td>\n",
       "      <td>0.171938</td>\n",
       "      <td>0.191613</td>\n",
       "    </tr>\n",
       "    <tr>\n",
       "      <th>12</th>\n",
       "      <td>322.713504</td>\n",
       "      <td>70</td>\n",
       "      <td>84.0</td>\n",
       "      <td>0.239268</td>\n",
       "      <td>0.260293</td>\n",
       "    </tr>\n",
       "    <tr>\n",
       "      <th>13</th>\n",
       "      <td>148.727147</td>\n",
       "      <td>48</td>\n",
       "      <td>57.6</td>\n",
       "      <td>0.335396</td>\n",
       "      <td>0.387286</td>\n",
       "    </tr>\n",
       "    <tr>\n",
       "      <th>14</th>\n",
       "      <td>51.734349</td>\n",
       "      <td>20</td>\n",
       "      <td>24.0</td>\n",
       "      <td>0.461966</td>\n",
       "      <td>0.463908</td>\n",
       "    </tr>\n",
       "    <tr>\n",
       "      <th>15</th>\n",
       "      <td>27.543075</td>\n",
       "      <td>18</td>\n",
       "      <td>21.6</td>\n",
       "      <td>0.615949</td>\n",
       "      <td>0.784226</td>\n",
       "    </tr>\n",
       "    <tr>\n",
       "      <th>16</th>\n",
       "      <td>1.200000</td>\n",
       "      <td>1</td>\n",
       "      <td>1.2</td>\n",
       "      <td>0.754553</td>\n",
       "      <td>1.000000</td>\n",
       "    </tr>\n",
       "  </tbody>\n",
       "</table>\n",
       "</div>"
      ],
      "text/plain": [
       "       SMPL_WEIGHT  BADFLAG  BADFLAG_W  PD_TTC_W        DR\n",
       "GRADE                                                     \n",
       "1      1491.729986       19       22.8  0.003949  0.015284\n",
       "2       768.179986       12       14.4  0.008105  0.018746\n",
       "3       989.540166       19       22.8  0.011449  0.023041\n",
       "4      1187.319321        8        9.6  0.016077  0.008085\n",
       "5      1270.579294       13       15.6  0.022703  0.012278\n",
       "6      1339.666967       26       31.2  0.031897  0.023289\n",
       "7      1280.197507       40       48.0  0.044533  0.037494\n",
       "8      1137.563712       40       48.0  0.063047  0.042195\n",
       "9       946.888920       66       79.2  0.088108  0.083642\n",
       "10      685.507479       76       91.2  0.123780  0.133040\n",
       "11      450.908587       72       86.4  0.171938  0.191613\n",
       "12      322.713504       70       84.0  0.239268  0.260293\n",
       "13      148.727147       48       57.6  0.335396  0.387286\n",
       "14       51.734349       20       24.0  0.461966  0.463908\n",
       "15       27.543075       18       21.6  0.615949  0.784226\n",
       "16        1.200000        1        1.2  0.754553  1.000000"
      ]
     },
     "execution_count": 255,
     "metadata": {},
     "output_type": "execute_result"
    }
   ],
   "source": [
    "TT_GR_PIT"
   ]
  },
  {
   "cell_type": "code",
   "execution_count": null,
   "id": "f08caa61-8b60-49ce-9754-58af32cab666",
   "metadata": {},
   "outputs": [],
   "source": []
  },
  {
   "cell_type": "code",
   "execution_count": 258,
   "id": "60091a9a-46ff-47d6-a146-4b8f6a35bc55",
   "metadata": {},
   "outputs": [],
   "source": [
    "def weighted_median(DF, col_values, col_weight, col_group = None):\n",
    "    ''' Вычисление медианы на выборке значений, которые имеют вес.\n",
    "        col_values - значения, по которым вычисляется медиана\n",
    "        col_weight - вес значения col_values\n",
    "        col_group  - поле группировки, необязательное условие\n",
    "    '''\n",
    "\n",
    "    # Если поля групировки нет, то создадим фиктивное поле.\n",
    "    if not col_group:\n",
    "        col_group = '-'\n",
    "        T = DF[[col_values, col_weight]].copy()\n",
    "        T[col_group] = col_group\n",
    "    else:\n",
    "        T = DF[[col_values, col_weight, col_group]].copy()\n",
    "\n",
    "    T.sort_values([col_group, col_values], inplace = True)\n",
    "    T['cumsum'] = T.groupby(col_group)[col_weight].transform('cumsum')\n",
    "    T['sum']    = T.groupby(col_group)[col_weight].transform('sum')\n",
    "    ix = T['cumsum'] >= T['sum']/2.0\n",
    "    T['vm'] = T[ix].groupby(col_group)[col_values].transform('min')\n",
    "\n",
    "    return T.groupby(col_group)[['vm']].min().rename(columns = {'vm': 'midian'})\n",
    "    \n"
   ]
  },
  {
   "cell_type": "code",
   "execution_count": 260,
   "id": "0e714ba4-fc25-43d3-8941-ff60b2350205",
   "metadata": {},
   "outputs": [],
   "source": [
    "TT_GR_PIT['MEDIAN_W'] = weighted_median(TT, 'PD_TTC', 'SMPL_WEIGHT', 'GRADE')"
   ]
  },
  {
   "cell_type": "code",
   "execution_count": 262,
   "id": "14b19793-5d1e-436b-acf6-4da355597acb",
   "metadata": {},
   "outputs": [
    {
     "data": {
      "text/html": [
       "<div>\n",
       "<style scoped>\n",
       "    .dataframe tbody tr th:only-of-type {\n",
       "        vertical-align: middle;\n",
       "    }\n",
       "\n",
       "    .dataframe tbody tr th {\n",
       "        vertical-align: top;\n",
       "    }\n",
       "\n",
       "    .dataframe thead th {\n",
       "        text-align: right;\n",
       "    }\n",
       "</style>\n",
       "<table border=\"1\" class=\"dataframe\">\n",
       "  <thead>\n",
       "    <tr style=\"text-align: right;\">\n",
       "      <th></th>\n",
       "      <th>SMPL_WEIGHT</th>\n",
       "      <th>BADFLAG</th>\n",
       "      <th>BADFLAG_W</th>\n",
       "      <th>PD_TTC_W</th>\n",
       "      <th>DR</th>\n",
       "      <th>MEDIAN_W</th>\n",
       "    </tr>\n",
       "    <tr>\n",
       "      <th>GRADE</th>\n",
       "      <th></th>\n",
       "      <th></th>\n",
       "      <th></th>\n",
       "      <th></th>\n",
       "      <th></th>\n",
       "      <th></th>\n",
       "    </tr>\n",
       "  </thead>\n",
       "  <tbody>\n",
       "    <tr>\n",
       "      <th>1</th>\n",
       "      <td>1491.729986</td>\n",
       "      <td>19</td>\n",
       "      <td>22.8</td>\n",
       "      <td>0.003949</td>\n",
       "      <td>0.015284</td>\n",
       "      <td>0.004015</td>\n",
       "    </tr>\n",
       "    <tr>\n",
       "      <th>2</th>\n",
       "      <td>768.179986</td>\n",
       "      <td>12</td>\n",
       "      <td>14.4</td>\n",
       "      <td>0.008105</td>\n",
       "      <td>0.018746</td>\n",
       "      <td>0.008064</td>\n",
       "    </tr>\n",
       "    <tr>\n",
       "      <th>3</th>\n",
       "      <td>989.540166</td>\n",
       "      <td>19</td>\n",
       "      <td>22.8</td>\n",
       "      <td>0.011449</td>\n",
       "      <td>0.023041</td>\n",
       "      <td>0.011407</td>\n",
       "    </tr>\n",
       "    <tr>\n",
       "      <th>4</th>\n",
       "      <td>1187.319321</td>\n",
       "      <td>8</td>\n",
       "      <td>9.6</td>\n",
       "      <td>0.016077</td>\n",
       "      <td>0.008085</td>\n",
       "      <td>0.016032</td>\n",
       "    </tr>\n",
       "    <tr>\n",
       "      <th>5</th>\n",
       "      <td>1270.579294</td>\n",
       "      <td>13</td>\n",
       "      <td>15.6</td>\n",
       "      <td>0.022703</td>\n",
       "      <td>0.012278</td>\n",
       "      <td>0.022713</td>\n",
       "    </tr>\n",
       "    <tr>\n",
       "      <th>6</th>\n",
       "      <td>1339.666967</td>\n",
       "      <td>26</td>\n",
       "      <td>31.2</td>\n",
       "      <td>0.031897</td>\n",
       "      <td>0.023289</td>\n",
       "      <td>0.031690</td>\n",
       "    </tr>\n",
       "    <tr>\n",
       "      <th>7</th>\n",
       "      <td>1280.197507</td>\n",
       "      <td>40</td>\n",
       "      <td>48.0</td>\n",
       "      <td>0.044533</td>\n",
       "      <td>0.037494</td>\n",
       "      <td>0.044138</td>\n",
       "    </tr>\n",
       "    <tr>\n",
       "      <th>8</th>\n",
       "      <td>1137.563712</td>\n",
       "      <td>40</td>\n",
       "      <td>48.0</td>\n",
       "      <td>0.063047</td>\n",
       "      <td>0.042195</td>\n",
       "      <td>0.062719</td>\n",
       "    </tr>\n",
       "    <tr>\n",
       "      <th>9</th>\n",
       "      <td>946.888920</td>\n",
       "      <td>66</td>\n",
       "      <td>79.2</td>\n",
       "      <td>0.088108</td>\n",
       "      <td>0.083642</td>\n",
       "      <td>0.087535</td>\n",
       "    </tr>\n",
       "    <tr>\n",
       "      <th>10</th>\n",
       "      <td>685.507479</td>\n",
       "      <td>76</td>\n",
       "      <td>91.2</td>\n",
       "      <td>0.123780</td>\n",
       "      <td>0.133040</td>\n",
       "      <td>0.122506</td>\n",
       "    </tr>\n",
       "    <tr>\n",
       "      <th>11</th>\n",
       "      <td>450.908587</td>\n",
       "      <td>72</td>\n",
       "      <td>86.4</td>\n",
       "      <td>0.171938</td>\n",
       "      <td>0.191613</td>\n",
       "      <td>0.170488</td>\n",
       "    </tr>\n",
       "    <tr>\n",
       "      <th>12</th>\n",
       "      <td>322.713504</td>\n",
       "      <td>70</td>\n",
       "      <td>84.0</td>\n",
       "      <td>0.239268</td>\n",
       "      <td>0.260293</td>\n",
       "      <td>0.236519</td>\n",
       "    </tr>\n",
       "    <tr>\n",
       "      <th>13</th>\n",
       "      <td>148.727147</td>\n",
       "      <td>48</td>\n",
       "      <td>57.6</td>\n",
       "      <td>0.335396</td>\n",
       "      <td>0.387286</td>\n",
       "      <td>0.331194</td>\n",
       "    </tr>\n",
       "    <tr>\n",
       "      <th>14</th>\n",
       "      <td>51.734349</td>\n",
       "      <td>20</td>\n",
       "      <td>24.0</td>\n",
       "      <td>0.461966</td>\n",
       "      <td>0.463908</td>\n",
       "      <td>0.453942</td>\n",
       "    </tr>\n",
       "    <tr>\n",
       "      <th>15</th>\n",
       "      <td>27.543075</td>\n",
       "      <td>18</td>\n",
       "      <td>21.6</td>\n",
       "      <td>0.615949</td>\n",
       "      <td>0.784226</td>\n",
       "      <td>0.585967</td>\n",
       "    </tr>\n",
       "    <tr>\n",
       "      <th>16</th>\n",
       "      <td>1.200000</td>\n",
       "      <td>1</td>\n",
       "      <td>1.2</td>\n",
       "      <td>0.754553</td>\n",
       "      <td>1.000000</td>\n",
       "      <td>0.754553</td>\n",
       "    </tr>\n",
       "  </tbody>\n",
       "</table>\n",
       "</div>"
      ],
      "text/plain": [
       "       SMPL_WEIGHT  BADFLAG  BADFLAG_W  PD_TTC_W        DR  MEDIAN_W\n",
       "GRADE                                                               \n",
       "1      1491.729986       19       22.8  0.003949  0.015284  0.004015\n",
       "2       768.179986       12       14.4  0.008105  0.018746  0.008064\n",
       "3       989.540166       19       22.8  0.011449  0.023041  0.011407\n",
       "4      1187.319321        8        9.6  0.016077  0.008085  0.016032\n",
       "5      1270.579294       13       15.6  0.022703  0.012278  0.022713\n",
       "6      1339.666967       26       31.2  0.031897  0.023289  0.031690\n",
       "7      1280.197507       40       48.0  0.044533  0.037494  0.044138\n",
       "8      1137.563712       40       48.0  0.063047  0.042195  0.062719\n",
       "9       946.888920       66       79.2  0.088108  0.083642  0.087535\n",
       "10      685.507479       76       91.2  0.123780  0.133040  0.122506\n",
       "11      450.908587       72       86.4  0.171938  0.191613  0.170488\n",
       "12      322.713504       70       84.0  0.239268  0.260293  0.236519\n",
       "13      148.727147       48       57.6  0.335396  0.387286  0.331194\n",
       "14       51.734349       20       24.0  0.461966  0.463908  0.453942\n",
       "15       27.543075       18       21.6  0.615949  0.784226  0.585967\n",
       "16        1.200000        1        1.2  0.754553  1.000000  0.754553"
      ]
     },
     "execution_count": 262,
     "metadata": {},
     "output_type": "execute_result"
    }
   ],
   "source": [
    "TT_GR_PIT"
   ]
  },
  {
   "cell_type": "code",
   "execution_count": 264,
   "id": "a0631566-f919-44c7-b919-4024488f0565",
   "metadata": {},
   "outputs": [
    {
     "data": {
      "text/plain": [
       "<matplotlib.legend.Legend at 0x776d4dbd5070>"
      ]
     },
     "execution_count": 264,
     "metadata": {},
     "output_type": "execute_result"
    },
    {
     "data": {
      "image/png": "[encoded data removed]",
      "text/plain": [
       "<Figure size 1500x300 with 1 Axes>"
      ]
     },
     "metadata": {},
     "output_type": "display_data"
    }
   ],
   "source": [
    "TT_GR_PIT[['DR', 'PD_TTC_W', 'MEDIAN_W']].plot(figsize=[15,3], marker = 's')\n",
    "plt.grid()\n",
    "plt.legend(['DR - уровень дефолта рейтинга', 'PD - среднее значение вероятности дефлота в рейтинге', 'M'])"
   ]
  },
  {
   "cell_type": "code",
   "execution_count": 266,
   "id": "9bb9c96f-f86b-47da-8d15-c8eaf33db0a0",
   "metadata": {},
   "outputs": [
    {
     "data": {
      "text/html": [
       "<div>\n",
       "<style scoped>\n",
       "    .dataframe tbody tr th:only-of-type {\n",
       "        vertical-align: middle;\n",
       "    }\n",
       "\n",
       "    .dataframe tbody tr th {\n",
       "        vertical-align: top;\n",
       "    }\n",
       "\n",
       "    .dataframe thead th {\n",
       "        text-align: right;\n",
       "    }\n",
       "</style>\n",
       "<table border=\"1\" class=\"dataframe\">\n",
       "  <thead>\n",
       "    <tr style=\"text-align: right;\">\n",
       "      <th></th>\n",
       "      <th>midian</th>\n",
       "    </tr>\n",
       "    <tr>\n",
       "      <th>-</th>\n",
       "      <th></th>\n",
       "    </tr>\n",
       "  </thead>\n",
       "  <tbody>\n",
       "    <tr>\n",
       "      <th>-</th>\n",
       "      <td>0.029187</td>\n",
       "    </tr>\n",
       "  </tbody>\n",
       "</table>\n",
       "</div>"
      ],
      "text/plain": [
       "     midian\n",
       "-          \n",
       "-  0.029187"
      ]
     },
     "execution_count": 266,
     "metadata": {},
     "output_type": "execute_result"
    }
   ],
   "source": [
    "weighted_median(TT, 'PD_TTC', 'SMPL_WEIGHT')"
   ]
  },
  {
   "cell_type": "code",
   "execution_count": 268,
   "id": "a0932ff8-1934-42bb-8072-9c187e2dbada",
   "metadata": {},
   "outputs": [
    {
     "data": {
      "text/plain": [
       "<Axes: xlabel='GRADE'>"
      ]
     },
     "execution_count": 268,
     "metadata": {},
     "output_type": "execute_result"
    },
    {
     "data": {
      "image/png": "[encoded data removed]",
      "text/plain": [
       "<Figure size 640x480 with 1 Axes>"
      ]
     },
     "metadata": {},
     "output_type": "display_data"
    }
   ],
   "source": [
    "TT_GR_PIT['SMPL_WEIGHT'].plot()"
   ]
  },
  {
   "cell_type": "code",
   "execution_count": null,
   "id": "b15a4bff-3fe5-4db2-8a58-dc23da371a66",
   "metadata": {},
   "outputs": [],
   "source": []
  }
 ],
 "metadata": {
  "kernelspec": {
   "display_name": "Python [conda env:base] *",
   "language": "python",
   "name": "conda-base-py"
  },
  "language_info": {
   "codemirror_mode": {
    "name": "ipython",
    "version": 3
   },
   "file_extension": ".py",
   "mimetype": "text/x-python",
   "name": "python",
   "nbconvert_exporter": "python",
   "pygments_lexer": "ipython3",
   "version": "3.12.4"
  }
 },
 "nbformat": 4,
 "nbformat_minor": 5
}
